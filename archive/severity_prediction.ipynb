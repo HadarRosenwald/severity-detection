{
  "nbformat": 4,
  "nbformat_minor": 5,
  "metadata": {
    "kernelspec": {
      "display_name": "Python 3",
      "language": "python",
      "name": "python3"
    },
    "language_info": {
      "codemirror_mode": {
        "name": "ipython",
        "version": 3
      },
      "file_extension": ".py",
      "mimetype": "text/x-python",
      "name": "python",
      "nbconvert_exporter": "python",
      "pygments_lexer": "ipython3",
      "version": "3.8.8"
    },
    "colab": {
      "name": "severity_prediction.ipynb",
      "provenance": [],
      "collapsed_sections": []
    }
  },
  "cells": [
    {
      "cell_type": "code",
      "metadata": {
        "id": "lLg_uniVg7aj"
      },
      "source": [
        "!pip -q install torchxrayvision"
      ],
      "id": "lLg_uniVg7aj",
      "execution_count": null,
      "outputs": []
    },
    {
      "cell_type": "code",
      "metadata": {
        "id": "bd764123"
      },
      "source": [
        "import matplotlib.pyplot as plt\n",
        "import os\n",
        "import shutil\n",
        "import torch\n",
        "import torchxrayvision as xrv\n",
        "import numpy as np\n",
        "import pandas as pd\n",
        "from torch import nn\n",
        "from torch import optim\n",
        "import torch.nn.functional as F\n",
        "from torchvision import datasets, transforms, models"
      ],
      "id": "bd764123",
      "execution_count": null,
      "outputs": []
    },
    {
      "cell_type": "code",
      "metadata": {
        "id": "459cd65d"
      },
      "source": [
        "# Short script that creates image folders by labels\n",
        "\n",
        "\n",
        "# metadata = pd.read_csv(\"C:\\\\Users\\\\amitn\\\\Downloads\\\\covid-chestxray-dataset-master\\\\covid-chestxray-dataset-master\\\\metadata.csv\")\n",
        "# findings = metadata['finding'].unique() \n",
        "# for finding in findings:\n",
        "#     filenames = metadata.loc[metadata['finding'] == finding]['filename']\n",
        "#     finding = finding.replace('/','-')\n",
        "#     if not os.path.exists(\"C:\\\\Users\\\\amitn\\\\Downloads\\\\covid-chestxray-dataset-master\\\\covid-chestxray-dataset-master\\\\images\\\\test\\\\\" + finding):\n",
        "#         os.makedirs(\"C:\\\\Users\\\\amitn\\\\Downloads\\\\covid-chestxray-dataset-master\\\\covid-chestxray-dataset-master\\\\images\\\\test\\\\\" + finding)\n",
        "#     for filename in filenames:\n",
        "#         original = r'C:\\\\Users\\\\amitn\\\\Downloads\\\\covid-chestxray-dataset-master\\\\covid-chestxray-dataset-master\\\\images\\\\test\\\\' + filename\n",
        "#         target = r'C:\\\\Users\\\\amitn\\\\Downloads\\\\covid-chestxray-dataset-master\\\\covid-chestxray-dataset-master\\\\images\\\\test\\\\' + finding\n",
        "#         if os.path.exists(original):\n",
        "#             shutil.move(original, target)"
      ],
      "id": "459cd65d",
      "execution_count": null,
      "outputs": []
    },
    {
      "cell_type": "code",
      "metadata": {
        "id": "2bc0dadd"
      },
      "source": [
        "data_dir = 'C:\\\\Users\\\\amitn\\\\Downloads\\\\covid-chestxray-dataset-master\\\\covid-chestxray-dataset-master\\\\images'\n",
        "\n",
        "train_transforms = transforms.Compose([transforms.Grayscale(num_output_channels=1),\n",
        "                                       transforms.RandomRotation(30),\n",
        "                                       transforms.RandomResizedCrop(224),\n",
        "                                       transforms.RandomHorizontalFlip(),\n",
        "                                       transforms.ToTensor(),\n",
        "                                       transforms.Normalize((0.5), (0.5))])\n",
        "\n",
        "test_transforms = transforms.Compose([transforms.Grayscale(num_output_channels=1),\n",
        "                                     transforms.Resize(255),\n",
        "                                     transforms.CenterCrop(224),\n",
        "                                     transforms.ToTensor()])\n",
        "\n",
        "train_data = datasets.ImageFolder(data_dir + '/train', transform=train_transforms)\n",
        "test_data = datasets.ImageFolder(data_dir + '/test', transform=test_transforms)\n",
        "\n",
        "trainloader = torch.utils.data.DataLoader(train_data, batch_size=64, shuffle=True)\n",
        "testloader = torch.utils.data.DataLoader(test_data, batch_size=64)"
      ],
      "id": "2bc0dadd",
      "execution_count": null,
      "outputs": []
    },
    {
      "cell_type": "code",
      "metadata": {
        "id": "6ae07a5f",
        "outputId": "1d225672-bab0-4fd6-d123-c849884b21f8"
      },
      "source": [
        "model = xrv.models.DenseNet(weights=\"densenet121-res224-all\")\n",
        "model.classifier"
      ],
      "id": "6ae07a5f",
      "execution_count": null,
      "outputs": [
        {
          "data": {
            "text/plain": [
              "Linear(in_features=1024, out_features=18, bias=True)"
            ]
          },
          "execution_count": 194,
          "metadata": {},
          "output_type": "execute_result"
        }
      ]
    },
    {
      "cell_type": "code",
      "metadata": {
        "id": "c82432ad",
        "outputId": "57c2f386-1e40-4f93-90fe-f075b6cb2bf1"
      },
      "source": [
        "# Don't backprop model parameters!\n",
        "for param in model.parameters():\n",
        "    param.requires_grad = False\n",
        "    \n",
        "# New classifier\n",
        "model.classifier = nn.Sequential(nn.Linear(1024, 512),\n",
        "                          nn.ReLU(),\n",
        "                          nn.Dropout(0.2),\n",
        "                          nn.Linear(512,256),\n",
        "                          nn.ReLU(),\n",
        "                          nn.Dropout(0.2),\n",
        "                          nn.Linear(256,18),\n",
        "                          nn.LogSoftmax(dim=1))\n",
        "\n",
        "criterion = nn.NLLLoss()\n",
        "\n",
        "# Training only the classifier parameters, model parameters remains unchanged\n",
        "optimizer = optim.RMSprop(model.classifier.parameters(), lr=0.004)\n",
        "\n",
        "# Move to GPU\n",
        "model.to('cuda')"
      ],
      "id": "c82432ad",
      "execution_count": null,
      "outputs": [
        {
          "data": {
            "text/plain": [
              "XRV-DenseNet121-densenet121-res224-all"
            ]
          },
          "execution_count": 190,
          "metadata": {},
          "output_type": "execute_result"
        }
      ]
    },
    {
      "cell_type": "code",
      "metadata": {
        "id": "1c84cfe6",
        "outputId": "f48b3abd-cbf5-434e-ad19-b57d096226f7"
      },
      "source": [
        "epochs = 3\n",
        "for epoch in range(epochs):\n",
        "    training_loss = 0\n",
        "    for images, labels in trainloader:\n",
        "        # Move to GPU\n",
        "        images, labels = images.to('cuda'), labels.to('cuda')\n",
        "        # Clear gradients\n",
        "        optimizer.zero_grad()\n",
        "        \n",
        "        # Feed forward, calculating log probabilities\n",
        "        logps = model(images)\n",
        "        # Calculate loss, Negative log likelihood loss\n",
        "        loss = criterion(logps, labels)\n",
        "\n",
        "        # Backprop\n",
        "        loss.backward()\n",
        "        # Update weights\n",
        "        optimizer.step()\n",
        "        \n",
        "        training_loss += loss.item()\n",
        "    else:\n",
        "        print(f\"Training loss: {training_loss/len(trainloader)}\")"
      ],
      "id": "1c84cfe6",
      "execution_count": null,
      "outputs": [
        {
          "name": "stdout",
          "output_type": "stream",
          "text": [
            "Training loss: -0.4653121444086234\n",
            "Training loss: -0.5838683247566223\n",
            "Training loss: -0.5904939919710159\n"
          ]
        }
      ]
    },
    {
      "cell_type": "code",
      "metadata": {
        "id": "59bea8c6",
        "outputId": "f2a48640-4203-4050-ce5b-ea642a65aa2c"
      },
      "source": [
        "# Testing\n",
        "test_loss = 0\n",
        "accuracy = 0\n",
        "with torch.no_grad():\n",
        "    model.eval()\n",
        "    for images, labels in testloader:\n",
        "        images, labels = images.to('cuda'), labels.to('cuda')\n",
        "        # Feed forward test data\n",
        "        logps = model(images)\n",
        "        batch_loss = criterion(logps, labels)\n",
        "        # Adding to total test loss\n",
        "        test_loss += batch_loss\n",
        "        \n",
        "        # Calculate accuracy\n",
        "        ps = torch.exp(logps)\n",
        "        top_p, top_class = ps.topk(1, dim=1)\n",
        "        equals = top_class == labels.view(*top_class.shape)\n",
        "        accuracy += torch.mean(equals.type(torch.FloatTensor)).item()\n",
        "        \n",
        "    print(f\"Epoch {epoch+1}/{epochs}.. \"\n",
        "                  f\"Test loss: {test_loss/len(testloader):.3f}.. \"\n",
        "                  f\"Test accuracy: {accuracy/len(testloader):.3f}\")\n",
        "    running_loss = 0\n",
        "    model.train() "
      ],
      "id": "59bea8c6",
      "execution_count": null,
      "outputs": [
        {
          "name": "stdout",
          "output_type": "stream",
          "text": [
            "Epoch 3/3.. Test loss: -0.551.. Test accuracy: 0.594\n"
          ]
        }
      ]
    }
  ]
}