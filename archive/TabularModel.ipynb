{
  "nbformat": 4,
  "nbformat_minor": 0,
  "metadata": {
    "colab": {
      "name": "TabularModel.ipynb",
      "provenance": [],
      "toc_visible": true
    },
    "kernelspec": {
      "name": "python3",
      "language": "python",
      "display_name": "Python 3 (ipykernel)"
    },
    "language_info": {
      "name": "python"
    }
  },
  "cells": [
    {
      "cell_type": "markdown",
      "metadata": {
        "collapsed": false,
        "id": "Q5F2yE_KCPLt"
      },
      "source": [
        "<a href=\"https://colab.research.google.com/github/HadarRosenwald/severity-detection/blob/main/TabularModel.ipynb\" target=\"_parent\"><img src=\"https://colab.research.google.com/assets/colab-badge.svg\" alt=\"Open In Colab\"/></a>"
      ]
    },
    {
      "cell_type": "code",
      "metadata": {
        "pycharm": {
          "name": "#%%\n"
        },
        "id": "aMaY-JqMCPLv"
      },
      "source": [
        "!pip -q install torchxrayvision\n",
        "!pip -q install image_tabular"
      ],
      "execution_count": 119,
      "outputs": []
    },
    {
      "cell_type": "code",
      "metadata": {
        "id": "wUbyi5VYID2s"
      },
      "source": [
        "# torch.__version__"
      ],
      "execution_count": 120,
      "outputs": []
    },
    {
      "cell_type": "code",
      "metadata": {
        "pycharm": {
          "name": "#%%\n"
        },
        "id": "RPOUV9nuCPLw"
      },
      "source": [
        "import matplotlib.pyplot as plt\n",
        "import os\n",
        "import shutil\n",
        "import torch\n",
        "import torchxrayvision as xrv\n",
        "import numpy as np\n",
        "import pandas as pd\n",
        "from torch import nn\n",
        "from torch import optim\n",
        "import torch.nn.functional as F\n",
        "from torchvision import datasets, transforms, models\n",
        "import fastai\n",
        "from fastai.tabular.data import TabularList\n",
        "import image_tabular as imtab\n",
        "from sklearn.model_selection import train_test_split\n",
        "import math\n",
        "\n",
        "\n",
        "from fastai.vision import *\n",
        "from fastai.tabular import *\n",
        "from image_tabular.core import *\n",
        "from image_tabular.dataset import *\n",
        "from image_tabular.model import *\n",
        "from image_tabular.metric import *"
      ],
      "execution_count": 121,
      "outputs": []
    },
    {
      "cell_type": "code",
      "metadata": {
        "id": "YmOrm7VtE0Hh"
      },
      "source": [
        "!rm -rf covid-chestxray-dataset"
      ],
      "execution_count": 122,
      "outputs": []
    },
    {
      "cell_type": "code",
      "metadata": {
        "pycharm": {
          "name": "#%%\n"
        },
        "id": "1Z1t7KsWCPLw",
        "colab": {
          "base_uri": "https://localhost:8080/"
        },
        "outputId": "3c4fe1f2-fbf2-44f3-ee6c-9c04db33c2d7"
      },
      "source": [
        "!git clone https://github.com/ieee8023/covid-chestxray-dataset\n",
        "d = xrv.datasets.COVID19_Dataset(imgpath=\"covid-chestxray-dataset/images/\",csvpath=\"covid-chestxray-dataset/metadata.csv\")"
      ],
      "execution_count": 123,
      "outputs": [
        {
          "output_type": "stream",
          "name": "stdout",
          "text": [
            "Cloning into 'covid-chestxray-dataset'...\n",
            "remote: Enumerating objects: 3641, done.\u001b[K\n",
            "remote: Total 3641 (delta 0), reused 0 (delta 0), pack-reused 3641\u001b[K\n",
            "Receiving objects: 100% (3641/3641), 632.96 MiB | 35.33 MiB/s, done.\n",
            "Resolving deltas: 100% (1450/1450), done.\n",
            "Checking out files: 100% (1174/1174), done.\n"
          ]
        }
      ]
    },
    {
      "cell_type": "markdown",
      "metadata": {
        "id": "nHfGT5usOnlj"
      },
      "source": [
        "# **Configurations**"
      ]
    },
    {
      "cell_type": "code",
      "metadata": {
        "id": "svu5iqk6OqAP"
      },
      "source": [
        "# data split\n",
        "test_pct=0.2\n",
        "valid_pct=0.2\n",
        "\n",
        "# models param\n",
        "##TAB\n",
        "tab_out_sz = 18 # output size that will be concatenated with the CNN, same output size\n",
        "dropout_prob_tab = 0.2\n",
        "tab_layers = [100, 200] # the sizes of the hidden fully connected layers between the input (after embedding) and before the classification layer. The number of hidden layers is determined by the length of the list.\n",
        "# TODO: tune this, for our data size, [100,200] seems highly overfitted. according to the rule of thumb bellow, we should have 0\n",
        "# https://forums.fast.ai/t/an-attempt-to-find-the-right-hidden-layer-size-for-your-tabular-learner/45714\n",
        "# len_train = 110; alpha = 2; n_input=8; n_output=18; io=n_input+n_output; numHiddenLayers=2\n",
        "# tab_layers = [(len_train//(alpha*(io)))//numHiddenLayers]*numHiddenLayers\n",
        "\n",
        "##CNN\n",
        "cnn_out_sz = 18 # following xrv.models.DenseNet output layer\n",
        "image_size = 224 # to fit xrv.models.DenseNet\n",
        "# image_resize_method = ResizeMethod.SQUISH\n",
        "image_convert_mode = 'L' #for greyscale\n",
        "\n",
        "##CNN_TAB\n",
        "cnn_tabular_dropout_prob = 0.2\n",
        "cnn_tabular_layers = [cnn_out_sz + tab_out_sz, 32]\n",
        "cnn_tabular_out_sz = 5 #number of classes\n",
        "batch_size = 64\n",
        "n_epoch = 2\n",
        "\n",
        "\n",
        "# misc\n",
        "seed=42\n",
        "data_path = Path(\"./covid-chestxray-dataset/\")\n",
        "device = torch.device('cuda:0' if torch.cuda.is_available() else 'cpu')"
      ],
      "execution_count": 124,
      "outputs": []
    },
    {
      "cell_type": "code",
      "metadata": {
        "id": "6ME4NNclllLy"
      },
      "source": [
        ""
      ],
      "execution_count": 124,
      "outputs": []
    },
    {
      "cell_type": "code",
      "metadata": {
        "id": "rSCSTm6Ck2tk"
      },
      "source": [
        ""
      ],
      "execution_count": 124,
      "outputs": []
    },
    {
      "cell_type": "markdown",
      "metadata": {
        "collapsed": false,
        "id": "eATwgX-1CPLx"
      },
      "source": [
        "# **Creating label**"
      ]
    },
    {
      "cell_type": "code",
      "metadata": {
        "pycharm": {
          "name": "#%%\n"
        },
        "id": "KbNCuzXZCPLx"
      },
      "source": [
        "def generate_label(x):\n",
        "    # no data\n",
        "    if np.all(pd.isna([x.survival, x.intubated, x.went_icu, x.needed_supplemental_O2])):\n",
        "        return np.NaN\n",
        "\n",
        "    # didn't survive\n",
        "    if x.survival=='N':\n",
        "        return '4'\n",
        "\n",
        "    #either survived or survival is unknown\n",
        "    if x.intubated == 'Y':\n",
        "        return '3'\n",
        "    if x.survival=='Y':\n",
        "        if x.went_icu == 'Y' or x.needed_supplemental_O2 == 'Y':\n",
        "            return '1'\n",
        "    if x.went_icu == 'Y' or x.needed_supplemental_O2 == 'Y':\n",
        "        return '2'\n",
        "    return '0'"
      ],
      "execution_count": 125,
      "outputs": []
    },
    {
      "cell_type": "code",
      "metadata": {
        "pycharm": {
          "name": "#%%\n"
        },
        "id": "JquZTpMCCPLx"
      },
      "source": [
        "metadata = d.csv\n",
        "metadata['severity_class']=metadata.apply(generate_label, axis=1)"
      ],
      "execution_count": 126,
      "outputs": []
    },
    {
      "cell_type": "markdown",
      "metadata": {
        "id": "USaxB9lRCWQc"
      },
      "source": [
        "# **Tabular Data handling**"
      ]
    },
    {
      "cell_type": "markdown",
      "metadata": {
        "id": "DH5jZ8OaOcbM"
      },
      "source": [
        "## **Avoiding confounders**"
      ]
    },
    {
      "cell_type": "code",
      "metadata": {
        "pycharm": {
          "name": "#%%\n"
        },
        "id": "MUGSnQSqCPLy"
      },
      "source": [
        "filtered_metadata = metadata.loc[(metadata.view!=\"APS\") & (metadata.offset>=0) & (metadata.offset<=8) & (metadata.intubation_present != 'Y') & (metadata.in_icu != 'Y')]\n",
        "filtered_metadata = filtered_metadata[['index','patientid','sex','age','RT_PCR_positive','temperature','pO2_saturation', 'leukocyte_count', 'neutrophil_count', 'lymphocyte_count', 'severity_class' ,'filename']]"
      ],
      "execution_count": 127,
      "outputs": []
    },
    {
      "cell_type": "markdown",
      "metadata": {
        "id": "Pt0OzKWmPTQB"
      },
      "source": [
        "## **Handling missing data**"
      ]
    },
    {
      "cell_type": "code",
      "metadata": {
        "id": "Jqteqo3fO0Hg"
      },
      "source": [
        "filtered_metadata = filtered_metadata.dropna(subset=['severity_class'], how='any')"
      ],
      "execution_count": 128,
      "outputs": []
    },
    {
      "cell_type": "code",
      "metadata": {
        "colab": {
          "base_uri": "https://localhost:8080/",
          "height": 295
        },
        "id": "oezmYzeeO--E",
        "outputId": "a539d7d4-261a-487f-b5ae-5af85b541892"
      },
      "source": [
        "filtered_metadata.head()"
      ],
      "execution_count": 129,
      "outputs": [
        {
          "output_type": "execute_result",
          "data": {
            "text/html": [
              "<div>\n",
              "<style scoped>\n",
              "    .dataframe tbody tr th:only-of-type {\n",
              "        vertical-align: middle;\n",
              "    }\n",
              "\n",
              "    .dataframe tbody tr th {\n",
              "        vertical-align: top;\n",
              "    }\n",
              "\n",
              "    .dataframe thead th {\n",
              "        text-align: right;\n",
              "    }\n",
              "</style>\n",
              "<table border=\"1\" class=\"dataframe\">\n",
              "  <thead>\n",
              "    <tr style=\"text-align: right;\">\n",
              "      <th></th>\n",
              "      <th>index</th>\n",
              "      <th>patientid</th>\n",
              "      <th>sex</th>\n",
              "      <th>age</th>\n",
              "      <th>RT_PCR_positive</th>\n",
              "      <th>temperature</th>\n",
              "      <th>pO2_saturation</th>\n",
              "      <th>leukocyte_count</th>\n",
              "      <th>neutrophil_count</th>\n",
              "      <th>lymphocyte_count</th>\n",
              "      <th>severity_class</th>\n",
              "      <th>filename</th>\n",
              "    </tr>\n",
              "  </thead>\n",
              "  <tbody>\n",
              "    <tr>\n",
              "      <th>0</th>\n",
              "      <td>0</td>\n",
              "      <td>2</td>\n",
              "      <td>M</td>\n",
              "      <td>65.0</td>\n",
              "      <td>Y</td>\n",
              "      <td>NaN</td>\n",
              "      <td>NaN</td>\n",
              "      <td>NaN</td>\n",
              "      <td>NaN</td>\n",
              "      <td>NaN</td>\n",
              "      <td>1</td>\n",
              "      <td>auntminnie-a-2020_01_28_23_51_6665_2020_01_28_...</td>\n",
              "    </tr>\n",
              "    <tr>\n",
              "      <th>1</th>\n",
              "      <td>1</td>\n",
              "      <td>2</td>\n",
              "      <td>M</td>\n",
              "      <td>65.0</td>\n",
              "      <td>Y</td>\n",
              "      <td>NaN</td>\n",
              "      <td>NaN</td>\n",
              "      <td>NaN</td>\n",
              "      <td>NaN</td>\n",
              "      <td>NaN</td>\n",
              "      <td>1</td>\n",
              "      <td>auntminnie-b-2020_01_28_23_51_6665_2020_01_28_...</td>\n",
              "    </tr>\n",
              "    <tr>\n",
              "      <th>2</th>\n",
              "      <td>2</td>\n",
              "      <td>2</td>\n",
              "      <td>M</td>\n",
              "      <td>65.0</td>\n",
              "      <td>Y</td>\n",
              "      <td>NaN</td>\n",
              "      <td>NaN</td>\n",
              "      <td>NaN</td>\n",
              "      <td>NaN</td>\n",
              "      <td>NaN</td>\n",
              "      <td>1</td>\n",
              "      <td>auntminnie-c-2020_01_28_23_51_6665_2020_01_28_...</td>\n",
              "    </tr>\n",
              "    <tr>\n",
              "      <th>3</th>\n",
              "      <td>3</td>\n",
              "      <td>2</td>\n",
              "      <td>M</td>\n",
              "      <td>65.0</td>\n",
              "      <td>Y</td>\n",
              "      <td>NaN</td>\n",
              "      <td>NaN</td>\n",
              "      <td>NaN</td>\n",
              "      <td>NaN</td>\n",
              "      <td>NaN</td>\n",
              "      <td>1</td>\n",
              "      <td>auntminnie-d-2020_01_28_23_51_6665_2020_01_28_...</td>\n",
              "    </tr>\n",
              "    <tr>\n",
              "      <th>4</th>\n",
              "      <td>4</td>\n",
              "      <td>4</td>\n",
              "      <td>F</td>\n",
              "      <td>52.0</td>\n",
              "      <td>Y</td>\n",
              "      <td>NaN</td>\n",
              "      <td>NaN</td>\n",
              "      <td>NaN</td>\n",
              "      <td>NaN</td>\n",
              "      <td>NaN</td>\n",
              "      <td>0</td>\n",
              "      <td>nejmc2001573_f1a.jpeg</td>\n",
              "    </tr>\n",
              "  </tbody>\n",
              "</table>\n",
              "</div>"
            ],
            "text/plain": [
              "   index  ...                                           filename\n",
              "0      0  ...  auntminnie-a-2020_01_28_23_51_6665_2020_01_28_...\n",
              "1      1  ...  auntminnie-b-2020_01_28_23_51_6665_2020_01_28_...\n",
              "2      2  ...  auntminnie-c-2020_01_28_23_51_6665_2020_01_28_...\n",
              "3      3  ...  auntminnie-d-2020_01_28_23_51_6665_2020_01_28_...\n",
              "4      4  ...                              nejmc2001573_f1a.jpeg\n",
              "\n",
              "[5 rows x 12 columns]"
            ]
          },
          "metadata": {},
          "execution_count": 129
        }
      ]
    },
    {
      "cell_type": "markdown",
      "metadata": {
        "id": "amnyhuYVPXyK"
      },
      "source": [
        "## **Train test and validation split**"
      ]
    },
    {
      "cell_type": "code",
      "metadata": {
        "pycharm": {
          "name": "#%%\n"
        },
        "id": "ZGr5dqVUCPLz"
      },
      "source": [
        "train_df, test_df = train_test_split(filtered_metadata, test_size=test_pct)\n",
        "\n",
        "# idx for validation, shared by image and tabular data\n",
        "val_idx = get_valid_index(train_df, valid_pct=valid_pct, seed=seed)"
      ],
      "execution_count": 130,
      "outputs": []
    },
    {
      "cell_type": "markdown",
      "metadata": {
        "id": "KtW9O19pPgcQ"
      },
      "source": [
        "## **Preparing fastai LabelLists**"
      ]
    },
    {
      "cell_type": "markdown",
      "metadata": {
        "id": "udE9NfiAceAH"
      },
      "source": [
        "### **Features**"
      ]
    },
    {
      "cell_type": "code",
      "metadata": {
        "pycharm": {
          "name": "#%%\n"
        },
        "id": "Ygc-2AFNCPLz"
      },
      "source": [
        "# Features with categorical values\n",
        "cat_names = ['sex', 'RT_PCR_positive']\n",
        "\n",
        "# Features with continious values\n",
        "cont_names = ['age', 'temperature', 'pO2_saturation', 'leukocyte_count', 'neutrophil_count', 'lymphocyte_count']"
      ],
      "execution_count": 131,
      "outputs": []
    },
    {
      "cell_type": "markdown",
      "metadata": {
        "id": "uBjLtSKycrwo"
      },
      "source": [
        "### **Labels**"
      ]
    },
    {
      "cell_type": "code",
      "metadata": {
        "id": "Dc-nQT6hVUf-"
      },
      "source": [
        "# Target\n",
        "dep_var = ['severity_class']"
      ],
      "execution_count": 132,
      "outputs": []
    },
    {
      "cell_type": "markdown",
      "metadata": {
        "id": "1bMoSEwHc6U2"
      },
      "source": [
        "### **Ensambling the tabular dataset**"
      ]
    },
    {
      "cell_type": "code",
      "metadata": {
        "pycharm": {
          "name": "#%%\n"
        },
        "id": "LXNBYD8NCPL0"
      },
      "source": [
        "procs = [FillMissing, Categorify, Normalize] # <- TODO Understand how does FillMissing work. without it- it doesnt work + understand why it changed the categorial from 2 to 8 (x[1][0].shape)\n",
        "# procs = [Categorify, Normalize]\n",
        "\n",
        "tab_data = (TabularList.from_df(train_df, path=data_path, cat_names=cat_names, cont_names=cont_names, procs=procs)\n",
        "            .split_by_idx(val_idx)\n",
        "            .label_from_df(cols=dep_var))\n",
        "\n",
        "test_tab_data = TabularList.from_df(test_df, cat_names=cat_names, cont_names=cont_names, processor=tab_data.train.x.processor)\n",
        "tab_data = tab_data.add_test(test_tab_data)"
      ],
      "execution_count": 133,
      "outputs": []
    },
    {
      "cell_type": "code",
      "metadata": {
        "colab": {
          "base_uri": "https://localhost:8080/"
        },
        "id": "6tPRhX4nW8ta",
        "outputId": "2bdcbfad-0728-41ba-f5be-ca5741d44c73"
      },
      "source": [
        "# Iterating over tab_data items, printing class name and items len, using \n",
        "# `show_some()` to return the representation of the first 5 elements in `items`.\n",
        "tab_data\n",
        "# Note that the Test LabelList has no labels. Like in Kaggle competitions. This was changes in fastai 2. Look here: https://forums.fast.ai/t/empty-label-list-for-test-dataset-using-from-folder/57100"
      ],
      "execution_count": 134,
      "outputs": [
        {
          "output_type": "execute_result",
          "data": {
            "text/plain": [
              "LabelLists;\n",
              "\n",
              "Train: LabelList (88 items)\n",
              "x: TabularList\n",
              "sex F; RT_PCR_positive #na#; age_na False; temperature_na True; pO2_saturation_na True; leukocyte_count_na True; neutrophil_count_na True; lymphocyte_count_na True; age -2.0967; temperature 0.0644; pO2_saturation 0.2683; leukocyte_count -0.0339; neutrophil_count -0.1248; lymphocyte_count -0.1171; ,sex M; RT_PCR_positive Y; age_na False; temperature_na False; pO2_saturation_na False; leukocyte_count_na True; neutrophil_count_na True; lymphocyte_count_na True; age -1.2513; temperature -2.7682; pO2_saturation 1.0259; leukocyte_count -0.0339; neutrophil_count -0.1248; lymphocyte_count -0.1171; ,sex M; RT_PCR_positive Y; age_na False; temperature_na True; pO2_saturation_na True; leukocyte_count_na True; neutrophil_count_na True; lymphocyte_count_na True; age 0.8622; temperature 0.0644; pO2_saturation 0.2683; leukocyte_count -0.0339; neutrophil_count -0.1248; lymphocyte_count -0.1171; ,sex M; RT_PCR_positive Y; age_na False; temperature_na False; pO2_saturation_na True; leukocyte_count_na True; neutrophil_count_na True; lymphocyte_count_na False; age -0.4059; temperature -1.1158; pO2_saturation 0.2683; leukocyte_count -0.0339; neutrophil_count -0.1248; lymphocyte_count -0.3173; ,sex F; RT_PCR_positive Unclear; age_na True; temperature_na True; pO2_saturation_na True; leukocyte_count_na True; neutrophil_count_na True; lymphocyte_count_na True; age 0.0168; temperature 0.0644; pO2_saturation 0.2683; leukocyte_count -0.0339; neutrophil_count -0.1248; lymphocyte_count -0.1171; \n",
              "y: CategoryList\n",
              "0,1,1,0,0\n",
              "Path: covid-chestxray-dataset;\n",
              "\n",
              "Valid: LabelList (22 items)\n",
              "x: TabularList\n",
              "sex M; RT_PCR_positive Y; age_na False; temperature_na True; pO2_saturation_na True; leukocyte_count_na True; neutrophil_count_na True; lymphocyte_count_na True; age 1.4963; temperature 0.0644; pO2_saturation 0.2683; leukocyte_count -0.0339; neutrophil_count -0.1248; lymphocyte_count -0.1171; ,sex F; RT_PCR_positive Unclear; age_na True; temperature_na True; pO2_saturation_na True; leukocyte_count_na True; neutrophil_count_na True; lymphocyte_count_na True; age 0.0168; temperature 0.0644; pO2_saturation 0.2683; leukocyte_count -0.0339; neutrophil_count -0.1248; lymphocyte_count -0.1171; ,sex #na#; RT_PCR_positive Unclear; age_na True; temperature_na True; pO2_saturation_na True; leukocyte_count_na True; neutrophil_count_na True; lymphocyte_count_na True; age 0.0168; temperature 0.0644; pO2_saturation 0.2683; leukocyte_count -0.0339; neutrophil_count -0.1248; lymphocyte_count -0.1171; ,sex M; RT_PCR_positive Unclear; age_na True; temperature_na True; pO2_saturation_na True; leukocyte_count_na True; neutrophil_count_na False; lymphocyte_count_na False; age 0.0168; temperature 0.0644; pO2_saturation 0.2683; leukocyte_count -0.0339; neutrophil_count 0.7487; lymphocyte_count 1.6850; ,sex F; RT_PCR_positive Unclear; age_na True; temperature_na True; pO2_saturation_na False; leukocyte_count_na True; neutrophil_count_na False; lymphocyte_count_na False; age 0.0168; temperature 0.0644; pO2_saturation -2.9585; leukocyte_count -0.0339; neutrophil_count 0.2496; lymphocyte_count -0.3173; \n",
              "y: CategoryList\n",
              "3,0,3,0,0\n",
              "Path: covid-chestxray-dataset;\n",
              "\n",
              "Test: LabelList (28 items)\n",
              "x: TabularList\n",
              "sex M; RT_PCR_positive Y; age_na False; temperature_na False; pO2_saturation_na False; leukocyte_count_na False; neutrophil_count_na True; lymphocyte_count_na True; age 0.2282; temperature 0.5365; pO2_saturation 1.0820; leukocyte_count 9.0682; neutrophil_count -0.1248; lymphocyte_count -0.1171; ,sex F; RT_PCR_positive Unclear; age_na True; temperature_na True; pO2_saturation_na False; leukocyte_count_na True; neutrophil_count_na False; lymphocyte_count_na False; age 0.0168; temperature 0.0644; pO2_saturation -1.8361; leukocyte_count -0.0339; neutrophil_count 6.2390; lymphocyte_count 0.4836; ,sex F; RT_PCR_positive Y; age_na False; temperature_na True; pO2_saturation_na True; leukocyte_count_na True; neutrophil_count_na True; lymphocyte_count_na True; age 1.2145; temperature 0.0644; pO2_saturation 0.2683; leukocyte_count -0.0339; neutrophil_count -0.1248; lymphocyte_count -0.1171; ,sex F; RT_PCR_positive Y; age_na False; temperature_na True; pO2_saturation_na True; leukocyte_count_na True; neutrophil_count_na True; lymphocyte_count_na True; age -0.4059; temperature 0.0644; pO2_saturation 0.2683; leukocyte_count -0.0339; neutrophil_count -0.1248; lymphocyte_count -0.1171; ,sex M; RT_PCR_positive #na#; age_na False; temperature_na True; pO2_saturation_na True; leukocyte_count_na True; neutrophil_count_na True; lymphocyte_count_na True; age 0.5100; temperature 0.0644; pO2_saturation 0.2683; leukocyte_count -0.0339; neutrophil_count -0.1248; lymphocyte_count -0.1171; \n",
              "y: EmptyLabelList\n",
              ",,,,\n",
              "Path: covid-chestxray-dataset"
            ]
          },
          "metadata": {},
          "execution_count": 134
        }
      ]
    },
    {
      "cell_type": "markdown",
      "metadata": {
        "id": "fNtuthuTrEKi"
      },
      "source": [
        "### one example from the tabular data"
      ]
    },
    {
      "cell_type": "code",
      "metadata": {
        "colab": {
          "base_uri": "https://localhost:8080/"
        },
        "id": "NV29g5pBrAGy",
        "outputId": "1704629c-089f-4a6e-f61e-fa60139ecc64"
      },
      "source": [
        "print(f\"features: {tab_data.train[8][0]}\")\n",
        "print(f\"class: {tab_data.train[8][1]}\")"
      ],
      "execution_count": 135,
      "outputs": [
        {
          "output_type": "stream",
          "name": "stdout",
          "text": [
            "features: sex F; RT_PCR_positive Y; age_na False; temperature_na False; pO2_saturation_na True; leukocyte_count_na True; neutrophil_count_na True; lymphocyte_count_na True; age 0.2282; temperature -3.9484; pO2_saturation 0.2683; leukocyte_count -0.0339; neutrophil_count -0.1248; lymphocyte_count -0.1171; \n",
            "class: 0\n"
          ]
        }
      ]
    },
    {
      "cell_type": "markdown",
      "metadata": {
        "collapsed": false,
        "id": "A07rtGNlCPL0"
      },
      "source": [
        "# **Image Data handling**"
      ]
    },
    {
      "cell_type": "markdown",
      "metadata": {
        "id": "t387cDr7m2T_"
      },
      "source": [
        "## **Creating test and train image folders**"
      ]
    },
    {
      "cell_type": "code",
      "metadata": {
        "pycharm": {
          "name": "#%%\n"
        },
        "id": "gCRyT8qXCPL1"
      },
      "source": [
        "def create_sub_image_folder(dataframe, imgs_type, sub_dir_by_lable : bool):\n",
        "  filtered_imgpath = d.imgpath + '/' + imgs_type + '/'\n",
        "  filtered_filenames = dataframe.filename + ';' + dataframe.severity_class\n",
        "  if not os.path.exists(filtered_imgpath):\n",
        "      os.mkdir(filtered_imgpath)\n",
        "  if sub_dir_by_lable:\n",
        "    for severity_class in list(dataframe.severity_class):\n",
        "        if not os.path.exists(filtered_imgpath + f'/{severity_class}'):\n",
        "            os.mkdir(filtered_imgpath + f'/{severity_class}')\n",
        "  for file_name_label in filtered_filenames:\n",
        "      file_name, label = file_name_label.split(';')\n",
        "      src = d.imgpath + file_name\n",
        "      dst = filtered_imgpath + label + '/' + file_name if sub_dir_by_lable else filtered_imgpath + file_name\n",
        "      if not os.path.exists(dst):\n",
        "          shutil.copyfile(src, dst)"
      ],
      "execution_count": 136,
      "outputs": []
    },
    {
      "cell_type": "code",
      "metadata": {
        "pycharm": {
          "name": "#%%\n"
        },
        "id": "cxywk0U5CPL1"
      },
      "source": [
        "create_sub_image_folder(train_df, 'train', False)\n",
        "create_sub_image_folder(test_df, 'test', False)\n",
        "filtered_img_base_path = d.imgpath + '/'"
      ],
      "execution_count": 137,
      "outputs": []
    },
    {
      "cell_type": "code",
      "metadata": {
        "pycharm": {
          "name": "#%%\n"
        },
        "id": "gPJbhu6_CPL1"
      },
      "source": [
        "# train_transforms = transforms.Compose([transforms.Grayscale(num_output_channels=1),\n",
        "#                                        transforms.RandomRotation(30),\n",
        "#                                        transforms.RandomResizedCrop(224),\n",
        "#                                        transforms.RandomHorizontalFlip(),\n",
        "#                                        transforms.ToTensor(),\n",
        "#                                        transforms.Normalize((0.5), (0.5))])\n",
        "\n",
        "# test_transforms = transforms.Compose([transforms.Grayscale(num_output_channels=1),\n",
        "#                                      transforms.Resize(255),\n",
        "#                                      transforms.CenterCrop(224),\n",
        "#                                      transforms.ToTensor()])\n",
        "\n",
        "# train_data = datasets.ImageFolder(filtered_img_base_path + '/train', transform=train_transforms)\n",
        "# test_data = datasets.ImageFolder(filtered_img_base_path + '/test', transform=test_transforms)\n",
        "# # train_data, val_data, test_data = split_data(data)\n",
        "\n",
        "# trainloader = torch.utils.data.DataLoader(train_data, batch_size=64, shuffle=True)\n",
        "# testloader = torch.utils.data.DataLoader(test_data, batch_size=64)"
      ],
      "execution_count": 138,
      "outputs": []
    },
    {
      "cell_type": "markdown",
      "metadata": {
        "id": "skycfQ7RnwFU"
      },
      "source": [
        "## **Preparing fastai LabelLists**"
      ]
    },
    {
      "cell_type": "code",
      "metadata": {
        "colab": {
          "base_uri": "https://localhost:8080/"
        },
        "id": "NXhuyozYjNTz",
        "outputId": "eb1e8a02-535c-4c0e-cb57-15d401527d41"
      },
      "source": [
        "tfms = get_transforms(xtra_tfms=crop_pad(size=image_size))\n",
        "\n",
        "\n",
        "image_data = (ImageList.from_df(train_df, path=d.imgpath, cols=\"filename\", \n",
        "                                folder=\"train\", convert_mode = image_convert_mode)\n",
        "                        .split_by_idx(val_idx)\n",
        "                        .label_from_df(cols=dep_var)\n",
        "                        # ).transform(tfms, size=image_size, resize_method=image_resize_method)\n",
        "                        ).transform(tfms, size=image_size)\n",
        "            \n",
        "test_image_data = ImageList.from_df(test_df, path=d.imgpath, cols=\"filename\",\n",
        "                                    folder=\"test\", convert_mode = image_convert_mode)\n",
        "image_data = image_data.add_test(test_image_data)\n",
        "image_data"
      ],
      "execution_count": 139,
      "outputs": [
        {
          "output_type": "execute_result",
          "data": {
            "text/plain": [
              "LabelLists;\n",
              "\n",
              "Train: LabelList (88 items)\n",
              "x: ImageList\n",
              "Image (1, 224, 224),Image (1, 224, 224),Image (1, 224, 224),Image (1, 224, 224),Image (1, 224, 224)\n",
              "y: CategoryList\n",
              "0,1,1,0,0\n",
              "Path: covid-chestxray-dataset/images;\n",
              "\n",
              "Valid: LabelList (22 items)\n",
              "x: ImageList\n",
              "Image (1, 224, 224),Image (1, 224, 224),Image (1, 224, 224),Image (1, 224, 224),Image (1, 224, 224)\n",
              "y: CategoryList\n",
              "3,0,3,0,0\n",
              "Path: covid-chestxray-dataset/images;\n",
              "\n",
              "Test: LabelList (28 items)\n",
              "x: ImageList\n",
              "Image (1, 224, 224),Image (1, 224, 224),Image (1, 224, 224),Image (1, 224, 224),Image (1, 224, 224)\n",
              "y: EmptyLabelList\n",
              ",,,,\n",
              "Path: covid-chestxray-dataset/images"
            ]
          },
          "metadata": {},
          "execution_count": 139
        }
      ]
    },
    {
      "cell_type": "markdown",
      "metadata": {
        "id": "ZKOU_hfurjJH"
      },
      "source": [
        "### one example from the image data"
      ]
    },
    {
      "cell_type": "code",
      "metadata": {
        "colab": {
          "base_uri": "https://localhost:8080/",
          "height": 0
        },
        "id": "He4Op0OCpVtQ",
        "outputId": "ac61f56a-7269-4ab9-b62a-4adb6ef086c5"
      },
      "source": [
        "print(f\"Class: {image_data.train[8][1]}\")\n",
        "image_data.train[8][0]\n",
        "\n",
        "#TODO understand why it keeps changing. looks like the same photo, but augmented differently each time. maybe its the squish"
      ],
      "execution_count": 140,
      "outputs": [
        {
          "output_type": "stream",
          "name": "stdout",
          "text": [
            "Class: 0\n"
          ]
        },
        {
          "output_type": "execute_result",
          "data": {
            "image/png": "[encoded data removed]",
            "image/jpeg": "[encoded data removed]",
            "text/plain": [
              "Image (1, 224, 224)"
            ]
          },
          "metadata": {},
          "execution_count": 140
        }
      ]
    },
    {
      "cell_type": "markdown",
      "metadata": {
        "id": "xqFJLXd04K48"
      },
      "source": [
        "# **Integrate image and tabular data**"
      ]
    },
    {
      "cell_type": "code",
      "metadata": {
        "colab": {
          "base_uri": "https://localhost:8080/"
        },
        "id": "xUGE9pvj4bHG",
        "outputId": "8866cdcc-d403-4135-9f72-ae7966586d1e"
      },
      "source": [
        "integrate_train, integrate_val, integrate_test = get_imagetabdatasets(image_data, tab_data)\n",
        "\n",
        "db = DataBunch.create(integrate_train, integrate_val, integrate_test, path=data_path, bs=batch_size)\n",
        "db"
      ],
      "execution_count": 141,
      "outputs": [
        {
          "output_type": "execute_result",
          "data": {
            "text/plain": [
              "DataBunch;\n",
              "\n",
              "Train: <image_tabular.dataset.ImageTabDataset object at 0x7f31969d4210>;\n",
              "\n",
              "Valid: <image_tabular.dataset.ImageTabDataset object at 0x7f31969d4810>;\n",
              "\n",
              "Test: <image_tabular.dataset.ImageTabDataset object at 0x7f31969d4bd0>"
            ]
          },
          "metadata": {},
          "execution_count": 141
        }
      ]
    },
    {
      "cell_type": "code",
      "metadata": {
        "id": "DqswIQkI5qZe"
      },
      "source": [
        "# TODO do we need this? I think it ruins the images, making them 3 channels again\n",
        "# # image normalization with imagenet_stats\n",
        "# db.norm, db.denorm = normalize_funcs_image_tab(*imagenet_stats)\n",
        "# db.add_tfm(db.norm)"
      ],
      "execution_count": 142,
      "outputs": []
    },
    {
      "cell_type": "code",
      "metadata": {
        "colab": {
          "base_uri": "https://localhost:8080/"
        },
        "id": "PqfNC9dpJ1uU",
        "outputId": "b293cd81-8c0c-4ebc-997d-7f6657d4d186"
      },
      "source": [
        "x, y = next(iter(db.train_dl))\n",
        "\n",
        "print(f\"x holds {len(x)} items\")\n",
        "print(f\"first item - batch of images ({x[0].shape})\")\n",
        "print(f\"second item - holds both categorial ({x[1][0].shape}) and continuous ({x[1][1].shape}) tabular data\")\n",
        "\n",
        "print(f\"y is the targets ({y.shape})\")"
      ],
      "execution_count": 143,
      "outputs": [
        {
          "output_type": "stream",
          "name": "stdout",
          "text": [
            "x holds 2 items\n",
            "first item - batch of images (torch.Size([64, 1, 224, 224]))\n",
            "second item - holds both categorial (torch.Size([64, 8])) and continuous (torch.Size([64, 6])) tabular data\n",
            "y is the targets (torch.Size([64]))\n"
          ]
        }
      ]
    },
    {
      "cell_type": "code",
      "metadata": {
        "id": "y8Pp7D9AgJZW",
        "colab": {
          "base_uri": "https://localhost:8080/"
        },
        "outputId": "5ffcda6b-4629-4d94-9659-26adf2076ee2"
      },
      "source": [
        "x, y = next(iter(db.train_dl))\n",
        "y"
      ],
      "execution_count": 144,
      "outputs": [
        {
          "output_type": "execute_result",
          "data": {
            "text/plain": [
              "tensor([0, 0, 0, 2, 3, 3, 0, 0, 0, 0, 0, 4, 4, 3, 4, 0, 0, 0, 1, 0, 0, 0, 1, 0,\n",
              "        2, 0, 0, 3, 0, 0, 0, 0, 0, 0, 1, 3, 4, 2, 0, 0, 0, 0, 1, 2, 3, 0, 3, 0,\n",
              "        0, 0, 0, 2, 3, 0, 1, 4, 0, 3, 0, 3, 0, 0, 0, 2])"
            ]
          },
          "metadata": {},
          "execution_count": 144
        }
      ]
    },
    {
      "cell_type": "markdown",
      "metadata": {
        "id": "5pc5IOV60Rza"
      },
      "source": [
        "# **The models**"
      ]
    },
    {
      "cell_type": "markdown",
      "metadata": {
        "id": "Oc0oPaRUPoP3"
      },
      "source": [
        "### **The tabular model**"
      ]
    },
    {
      "cell_type": "code",
      "metadata": {
        "pycharm": {
          "name": "#%%\n"
        },
        "colab": {
          "base_uri": "https://localhost:8080/"
        },
        "id": "PHcIw1y_CPL0",
        "outputId": "fd92c55a-7335-41b3-e336-fd2accc4fe8b"
      },
      "source": [
        "# embedding sizes of categorical data. Return the default embedding sizes suitable for this data. Using the rule of thumb - min(600, round(1.6 * n_cat**0.56))\n",
        "# TODO think if we want to replace that with one-hot, since they are binary\n",
        "emb_szs = tab_data.train.get_emb_szs()\n",
        "print(f\"emb_szs: {emb_szs}\")\n",
        "\n",
        "# The tabular model\n",
        "tabular_model = TabularModel(emb_szs=emb_szs, n_cont = len(cont_names), out_sz=tab_out_sz, layers=tab_layers, ps=dropout_prob_tab)\n",
        "tabular_model"
      ],
      "execution_count": 145,
      "outputs": [
        {
          "output_type": "stream",
          "name": "stdout",
          "text": [
            "emb_szs: [(3, 3), (3, 3), (3, 3), (3, 3), (3, 3), (3, 3), (3, 3), (3, 3)]\n"
          ]
        },
        {
          "output_type": "execute_result",
          "data": {
            "text/plain": [
              "TabularModel(\n",
              "  (embeds): ModuleList(\n",
              "    (0): Embedding(3, 3)\n",
              "    (1): Embedding(3, 3)\n",
              "    (2): Embedding(3, 3)\n",
              "    (3): Embedding(3, 3)\n",
              "    (4): Embedding(3, 3)\n",
              "    (5): Embedding(3, 3)\n",
              "    (6): Embedding(3, 3)\n",
              "    (7): Embedding(3, 3)\n",
              "  )\n",
              "  (emb_drop): Dropout(p=0.0, inplace=False)\n",
              "  (bn_cont): BatchNorm1d(6, eps=1e-05, momentum=0.1, affine=True, track_running_stats=True)\n",
              "  (layers): Sequential(\n",
              "    (0): Linear(in_features=30, out_features=100, bias=True)\n",
              "    (1): ReLU(inplace=True)\n",
              "    (2): BatchNorm1d(100, eps=1e-05, momentum=0.1, affine=True, track_running_stats=True)\n",
              "    (3): Dropout(p=0.2, inplace=False)\n",
              "    (4): Linear(in_features=100, out_features=200, bias=True)\n",
              "    (5): ReLU(inplace=True)\n",
              "    (6): BatchNorm1d(200, eps=1e-05, momentum=0.1, affine=True, track_running_stats=True)\n",
              "    (7): Dropout(p=0.2, inplace=False)\n",
              "    (8): Linear(in_features=200, out_features=18, bias=True)\n",
              "  )\n",
              ")"
            ]
          },
          "metadata": {},
          "execution_count": 145
        }
      ]
    },
    {
      "cell_type": "markdown",
      "metadata": {
        "id": "qJ_WcBtBoHGo"
      },
      "source": [
        "## **The CNN model** \n",
        "Using pretrained xrv.models.DenseNet for transfer learning"
      ]
    },
    {
      "cell_type": "code",
      "metadata": {
        "pycharm": {
          "name": "#%%\n"
        },
        "colab": {
          "base_uri": "https://localhost:8080/"
        },
        "id": "vEc9uRjdCPL2",
        "outputId": "0873f8dd-bab3-4b30-a2eb-84290c205b68"
      },
      "source": [
        "cnn_model = xrv.models.DenseNet(weights=\"densenet121-res224-all\")\n",
        "cnn_model.classifier"
      ],
      "execution_count": 146,
      "outputs": [
        {
          "output_type": "execute_result",
          "data": {
            "text/plain": [
              "Linear(in_features=1024, out_features=18, bias=True)"
            ]
          },
          "metadata": {},
          "execution_count": 146
        }
      ]
    },
    {
      "cell_type": "code",
      "metadata": {
        "id": "zH6pAZaIo2ji"
      },
      "source": [
        "# Don't backprop model parameters!\n",
        "for param in cnn_model.parameters():\n",
        "    param.requires_grad = False"
      ],
      "execution_count": 147,
      "outputs": []
    },
    {
      "cell_type": "code",
      "metadata": {
        "pycharm": {
          "name": "#%%\n"
        },
        "id": "lx_EzW66CPL2"
      },
      "source": [
        "#TODO check if this is necessary!\n",
        "\n",
        "# # New classifier\n",
        "# cnn_model.classifier = nn.Sequential(nn.Linear(1024, 512),\n",
        "#                           nn.ReLU(),\n",
        "#                           nn.Dropout(0.2),\n",
        "#                           nn.Linear(512,256),\n",
        "#                           nn.ReLU(),\n",
        "#                           nn.Dropout(0.2),\n",
        "#                           nn.Linear(256,18))\n",
        "\n",
        "# #criterion = nn.NLLLoss()\n",
        "\n",
        "# # Training only the classifier parameters, cnn_model parameters remains unchanged\n",
        "# optimizer = optim.RMSprop(cnn_model.classifier.parameters(), lr=0.004)"
      ],
      "execution_count": 148,
      "outputs": []
    },
    {
      "cell_type": "markdown",
      "metadata": {
        "id": "_-rsI6GL1PX4"
      },
      "source": [
        "## **The integrated CNN Tabular model** "
      ]
    },
    {
      "cell_type": "code",
      "metadata": {
        "pycharm": {
          "name": "#%%\n"
        },
        "id": "UFSamYCSCPL2"
      },
      "source": [
        "img_tabular_model = CNNTabularModel(cnn_model,\n",
        "                                  tabular_model,\n",
        "                                  layers = cnn_tabular_layers,\n",
        "                                  ps=cnn_tabular_dropout_prob,\n",
        "                                  out_sz=cnn_tabular_out_sz).to(device)"
      ],
      "execution_count": 149,
      "outputs": []
    },
    {
      "cell_type": "code",
      "metadata": {
        "pycharm": {
          "name": "#%%\n"
        },
        "colab": {
          "base_uri": "https://localhost:8080/"
        },
        "id": "qt3V1vTtCPL2",
        "outputId": "db259474-b3eb-425a-9dde-0859cc3105d9"
      },
      "source": [
        "img_tabular_model"
      ],
      "execution_count": 150,
      "outputs": [
        {
          "output_type": "execute_result",
          "data": {
            "text/plain": [
              "CNNTabularModel(\n",
              "  (cnn_model): XRV-DenseNet121-densenet121-res224-all\n",
              "  (tabular_model): TabularModel(\n",
              "    (embeds): ModuleList(\n",
              "      (0): Embedding(3, 3)\n",
              "      (1): Embedding(3, 3)\n",
              "      (2): Embedding(3, 3)\n",
              "      (3): Embedding(3, 3)\n",
              "      (4): Embedding(3, 3)\n",
              "      (5): Embedding(3, 3)\n",
              "      (6): Embedding(3, 3)\n",
              "      (7): Embedding(3, 3)\n",
              "    )\n",
              "    (emb_drop): Dropout(p=0.0, inplace=False)\n",
              "    (bn_cont): BatchNorm1d(6, eps=1e-05, momentum=0.1, affine=True, track_running_stats=True)\n",
              "    (layers): Sequential(\n",
              "      (0): Linear(in_features=30, out_features=100, bias=True)\n",
              "      (1): ReLU(inplace=True)\n",
              "      (2): BatchNorm1d(100, eps=1e-05, momentum=0.1, affine=True, track_running_stats=True)\n",
              "      (3): Dropout(p=0.2, inplace=False)\n",
              "      (4): Linear(in_features=100, out_features=200, bias=True)\n",
              "      (5): ReLU(inplace=True)\n",
              "      (6): BatchNorm1d(200, eps=1e-05, momentum=0.1, affine=True, track_running_stats=True)\n",
              "      (7): Dropout(p=0.2, inplace=False)\n",
              "      (8): Linear(in_features=200, out_features=18, bias=True)\n",
              "    )\n",
              "  )\n",
              "  (layers): Sequential(\n",
              "    (0): BatchNorm1d(36, eps=1e-05, momentum=0.1, affine=True, track_running_stats=True)\n",
              "    (1): Dropout(p=0.2, inplace=False)\n",
              "    (2): Linear(in_features=36, out_features=32, bias=True)\n",
              "    (3): ReLU(inplace=True)\n",
              "    (4): BatchNorm1d(32, eps=1e-05, momentum=0.1, affine=True, track_running_stats=True)\n",
              "    (5): Dropout(p=0.2, inplace=False)\n",
              "    (6): Linear(in_features=32, out_features=5, bias=True)\n",
              "  )\n",
              ")"
            ]
          },
          "metadata": {},
          "execution_count": 150
        }
      ]
    },
    {
      "cell_type": "code",
      "metadata": {
        "colab": {
          "base_uri": "https://localhost:8080/"
        },
        "id": "ejwRtdjuF0FI",
        "outputId": "438d57a0-675e-4a96-b315-20031580889b"
      },
      "source": [
        "# check model output dimension, should be (batch_size, 5)\n",
        "img_tabular_model(*x).shape"
      ],
      "execution_count": 151,
      "outputs": [
        {
          "output_type": "execute_result",
          "data": {
            "text/plain": [
              "torch.Size([64, 5])"
            ]
          },
          "metadata": {},
          "execution_count": 151
        }
      ]
    },
    {
      "cell_type": "code",
      "metadata": {
        "id": "JzHfLCzFSEZO"
      },
      "source": [
        "#TODO!! make the weigted loss work. we might need a list with len 5 and not 2\n",
        "\n",
        "# # adjust loss function weight because the dataset is extremely unbalanced\n",
        "# weights = [1/(1-train_df[\"severity_class\"].mean()), 1/train_df[\"severity_class\"].mean()]\n",
        "# loss_func = CrossEntropyFlat(weight=torch.FloatTensor(weights).to(device))\n",
        "loss_func = CrossEntropyFlat()"
      ],
      "execution_count": 152,
      "outputs": []
    },
    {
      "cell_type": "code",
      "metadata": {
        "id": "vvLCCvxugeBc"
      },
      "source": [
        "# def accuracy_multi(preds, targs, thresh=0.5):\n",
        "#     print(f\"preds shape: {preds.shape} \\n{preds}\")\n",
        "#     print(f\"targs shape: {targs.shape} \\n{targs}\")\n",
        "#     return ((preds>thresh)==targs).float().mean()"
      ],
      "execution_count": 153,
      "outputs": []
    },
    {
      "cell_type": "code",
      "metadata": {
        "id": "uTMYDw74IzOo"
      },
      "source": [
        "# learn = Learner(db, img_tabular_model, metrics=[accuracy, ROCAUC()], loss_func=torch.nn.NLLLoss)\n",
        "# learn = Learner(db, img_tabular_model, metrics=[accuracy, ROCAUC()], loss_func=loss_func) # <- TODO check why ROCAUC doesnt work\n",
        "learn = Learner(db, img_tabular_model, metrics=[accuracy], loss_func=loss_func)\n",
        "\n",
        "#TODO! check optimizer"
      ],
      "execution_count": 154,
      "outputs": []
    },
    {
      "cell_type": "code",
      "metadata": {
        "colab": {
          "base_uri": "https://localhost:8080/"
        },
        "id": "ClpkWZ7THqgv",
        "outputId": "a026e247-55d1-4f74-dc04-34eff7b42050"
      },
      "source": [
        "learn.model"
      ],
      "execution_count": 155,
      "outputs": [
        {
          "output_type": "execute_result",
          "data": {
            "text/plain": [
              "CNNTabularModel(\n",
              "  (cnn_model): XRV-DenseNet121-densenet121-res224-all\n",
              "  (tabular_model): TabularModel(\n",
              "    (embeds): ModuleList(\n",
              "      (0): Embedding(3, 3)\n",
              "      (1): Embedding(3, 3)\n",
              "      (2): Embedding(3, 3)\n",
              "      (3): Embedding(3, 3)\n",
              "      (4): Embedding(3, 3)\n",
              "      (5): Embedding(3, 3)\n",
              "      (6): Embedding(3, 3)\n",
              "      (7): Embedding(3, 3)\n",
              "    )\n",
              "    (emb_drop): Dropout(p=0.0, inplace=False)\n",
              "    (bn_cont): BatchNorm1d(6, eps=1e-05, momentum=0.1, affine=True, track_running_stats=True)\n",
              "    (layers): Sequential(\n",
              "      (0): Linear(in_features=30, out_features=100, bias=True)\n",
              "      (1): ReLU(inplace=True)\n",
              "      (2): BatchNorm1d(100, eps=1e-05, momentum=0.1, affine=True, track_running_stats=True)\n",
              "      (3): Dropout(p=0.2, inplace=False)\n",
              "      (4): Linear(in_features=100, out_features=200, bias=True)\n",
              "      (5): ReLU(inplace=True)\n",
              "      (6): BatchNorm1d(200, eps=1e-05, momentum=0.1, affine=True, track_running_stats=True)\n",
              "      (7): Dropout(p=0.2, inplace=False)\n",
              "      (8): Linear(in_features=200, out_features=18, bias=True)\n",
              "    )\n",
              "  )\n",
              "  (layers): Sequential(\n",
              "    (0): BatchNorm1d(36, eps=1e-05, momentum=0.1, affine=True, track_running_stats=True)\n",
              "    (1): Dropout(p=0.2, inplace=False)\n",
              "    (2): Linear(in_features=36, out_features=32, bias=True)\n",
              "    (3): ReLU(inplace=True)\n",
              "    (4): BatchNorm1d(32, eps=1e-05, momentum=0.1, affine=True, track_running_stats=True)\n",
              "    (5): Dropout(p=0.2, inplace=False)\n",
              "    (6): Linear(in_features=32, out_features=5, bias=True)\n",
              "  )\n",
              ")"
            ]
          },
          "metadata": {},
          "execution_count": 155
        }
      ]
    },
    {
      "cell_type": "code",
      "metadata": {
        "id": "fS_WdKrX7oLW"
      },
      "source": [
        "#TODO - check if we need this and if so, make this work\n",
        "\n",
        "# # organize layer groups in order to use differential learning rates provided by fastai\n",
        "# # the first two layer groups are earlier layers of resnet\n",
        "# # the last layer group consists of the fully connected layers of cnn model, tabular model,\n",
        "# # and final fully connected layers for the concatenated data\n",
        "# learn.layer_groups = [nn.Sequential(*flatten_model(cnn_model.layer_groups[0])),\n",
        "#                       nn.Sequential(*flatten_model(cnn_model.layer_groups[1])),\n",
        "#                       nn.Sequential(*(flatten_model(cnn_model.layer_groups[2]) +\n",
        "#                                       flatten_model(integrate_model.tabular_model) +\n",
        "#                                       flatten_model(integrate_model.layers)))]"
      ],
      "execution_count": 156,
      "outputs": []
    },
    {
      "cell_type": "markdown",
      "metadata": {
        "id": "QKNAyFNs8N6X"
      },
      "source": [
        "# **Training**"
      ]
    },
    {
      "cell_type": "code",
      "metadata": {
        "id": "ac977UNa8T4U"
      },
      "source": [
        "# TODO currently doesnt work. maybe because we don't have layer groups. check\n",
        "# # find learning rate to train the last layer group first \n",
        "# learn.freeze()\n",
        "# learn.lr_find()\n",
        "# learn.recorder.plot()"
      ],
      "execution_count": 157,
      "outputs": []
    },
    {
      "cell_type": "code",
      "metadata": {
        "colab": {
          "base_uri": "https://localhost:8080/",
          "height": 112
        },
        "id": "eE3TOz1klIRr",
        "outputId": "df1db4b4-6ed6-479b-90b9-e71cabac19a3"
      },
      "source": [
        "# train\n",
        "learn.fit_one_cycle(n_epoch, 1e-4)"
      ],
      "execution_count": 158,
      "outputs": [
        {
          "output_type": "display_data",
          "data": {
            "text/html": [
              "<table border=\"1\" class=\"dataframe\">\n",
              "  <thead>\n",
              "    <tr style=\"text-align: left;\">\n",
              "      <th>epoch</th>\n",
              "      <th>train_loss</th>\n",
              "      <th>valid_loss</th>\n",
              "      <th>accuracy</th>\n",
              "      <th>time</th>\n",
              "    </tr>\n",
              "  </thead>\n",
              "  <tbody>\n",
              "    <tr>\n",
              "      <td>0</td>\n",
              "      <td>1.740784</td>\n",
              "      <td>1.629709</td>\n",
              "      <td>0.272727</td>\n",
              "      <td>01:13</td>\n",
              "    </tr>\n",
              "    <tr>\n",
              "      <td>1</td>\n",
              "      <td>1.791947</td>\n",
              "      <td>1.628106</td>\n",
              "      <td>0.272727</td>\n",
              "      <td>01:11</td>\n",
              "    </tr>\n",
              "  </tbody>\n",
              "</table>"
            ],
            "text/plain": [
              "<IPython.core.display.HTML object>"
            ]
          },
          "metadata": {}
        }
      ]
    },
    {
      "cell_type": "code",
      "metadata": {
        "id": "RaF5rCmmImyu"
      },
      "source": [
        "# # unfreeze all layer groups to train the entire model using differential learning rates\n",
        "# learn.unfreeze()\n",
        "# learn.fit_one_cycle(n_epoch, slice(1e-6, 1e-4))"
      ],
      "execution_count": 159,
      "outputs": []
    },
    {
      "cell_type": "markdown",
      "metadata": {
        "id": "Pyqwy7XW8jO0"
      },
      "source": [
        "# **Prediction**"
      ]
    },
    {
      "cell_type": "code",
      "metadata": {
        "colab": {
          "base_uri": "https://localhost:8080/",
          "height": 17
        },
        "id": "eKgsvegX8iY6",
        "outputId": "e35e1705-7498-4307-a180-6c28d824fb02"
      },
      "source": [
        "# make predictions for the test set\n",
        "preds, y = learn.get_preds(DatasetType.Test)"
      ],
      "execution_count": 160,
      "outputs": [
        {
          "output_type": "display_data",
          "data": {
            "text/html": [
              ""
            ],
            "text/plain": [
              "<IPython.core.display.HTML object>"
            ]
          },
          "metadata": {}
        }
      ]
    },
    {
      "cell_type": "code",
      "metadata": {
        "colab": {
          "base_uri": "https://localhost:8080/"
        },
        "id": "hCOuQ7LXHrLA",
        "outputId": "87c2c045-eab9-4cbf-aef0-a3f98502e8b6"
      },
      "source": [
        "#TODO!! understand why this is all nans\n",
        "preds"
      ],
      "execution_count": 161,
      "outputs": [
        {
          "output_type": "execute_result",
          "data": {
            "text/plain": [
              "tensor([[0.1746, 0.2171, 0.1949, 0.2427, 0.1707],\n",
              "        [0.1771, 0.2146, 0.1961, 0.2418, 0.1704],\n",
              "        [0.1754, 0.2130, 0.1963, 0.2444, 0.1709],\n",
              "        [0.1756, 0.2137, 0.1965, 0.2439, 0.1703],\n",
              "        [0.1754, 0.2135, 0.1965, 0.2439, 0.1707],\n",
              "        [0.1756, 0.2135, 0.1960, 0.2449, 0.1699],\n",
              "        [0.1756, 0.2126, 0.1968, 0.2420, 0.1731],\n",
              "        [0.1755, 0.2137, 0.1965, 0.2438, 0.1705],\n",
              "        [0.1757, 0.2136, 0.1961, 0.2446, 0.1700],\n",
              "        [0.1755, 0.2137, 0.1965, 0.2437, 0.1705],\n",
              "        [0.1763, 0.2130, 0.1964, 0.2449, 0.1695],\n",
              "        [0.1754, 0.2130, 0.1963, 0.2444, 0.1709],\n",
              "        [0.1755, 0.2130, 0.1962, 0.2443, 0.1710],\n",
              "        [0.1756, 0.2137, 0.1965, 0.2438, 0.1704],\n",
              "        [0.1756, 0.2137, 0.1965, 0.2439, 0.1703],\n",
              "        [0.1754, 0.2131, 0.1964, 0.2443, 0.1708],\n",
              "        [0.1756, 0.2134, 0.1962, 0.2439, 0.1709],\n",
              "        [0.1757, 0.2138, 0.1962, 0.2442, 0.1702],\n",
              "        [0.1757, 0.2129, 0.1960, 0.2439, 0.1714],\n",
              "        [0.1754, 0.2130, 0.1963, 0.2444, 0.1709],\n",
              "        [0.1767, 0.2131, 0.1954, 0.2424, 0.1725],\n",
              "        [0.1755, 0.2137, 0.1965, 0.2437, 0.1706],\n",
              "        [0.1755, 0.2137, 0.1965, 0.2437, 0.1705],\n",
              "        [0.1758, 0.2129, 0.1959, 0.2438, 0.1716],\n",
              "        [0.1755, 0.2136, 0.1965, 0.2446, 0.1698],\n",
              "        [0.1756, 0.2137, 0.1965, 0.2438, 0.1705],\n",
              "        [0.1753, 0.2135, 0.1965, 0.2439, 0.1708],\n",
              "        [0.1757, 0.2136, 0.1961, 0.2446, 0.1700]])"
            ]
          },
          "metadata": {},
          "execution_count": 161
        }
      ]
    },
    {
      "cell_type": "code",
      "metadata": {
        "id": "0jG1E6avh_1W",
        "colab": {
          "base_uri": "https://localhost:8080/"
        },
        "outputId": "d6f77d8a-cbe5-4e2e-a9bf-86f6fe1d50ab"
      },
      "source": [
        "y"
      ],
      "execution_count": 162,
      "outputs": [
        {
          "output_type": "execute_result",
          "data": {
            "text/plain": [
              "tensor([0, 0, 0, 0, 0, 0, 0, 0, 0, 0, 0, 0, 0, 0, 0, 0, 0, 0, 0, 0, 0, 0, 0, 0,\n",
              "        0, 0, 0, 0])"
            ]
          },
          "metadata": {},
          "execution_count": 162
        }
      ]
    },
    {
      "cell_type": "code",
      "metadata": {
        "id": "yr9Io-EHh9tN",
        "colab": {
          "base_uri": "https://localhost:8080/"
        },
        "outputId": "6866f304-81c3-4364-8754-16dc65b6165f"
      },
      "source": [
        "print(y.shape)\n",
        "print(preds.shape)"
      ],
      "execution_count": 163,
      "outputs": [
        {
          "output_type": "stream",
          "name": "stdout",
          "text": [
            "torch.Size([28])\n",
            "torch.Size([28, 5])\n"
          ]
        }
      ]
    },
    {
      "cell_type": "code",
      "metadata": {
        "id": "FXlc6LcVh8i5"
      },
      "source": [
        ""
      ],
      "execution_count": 163,
      "outputs": []
    },
    {
      "cell_type": "code",
      "metadata": {
        "id": "eEEfkHybUU5d"
      },
      "source": [
        ""
      ],
      "execution_count": 163,
      "outputs": []
    },
    {
      "cell_type": "code",
      "metadata": {
        "id": "gm9UDxiX_pYX"
      },
      "source": [
        ""
      ],
      "execution_count": 163,
      "outputs": []
    },
    {
      "cell_type": "code",
      "metadata": {
        "id": "SdtJrHRIX9UD"
      },
      "source": [
        "# for test_images, test_labels in trainloader:  \n",
        "#     plt.imshow(test_images[0][0])\n",
        "#     break"
      ],
      "execution_count": 164,
      "outputs": []
    },
    {
      "cell_type": "markdown",
      "metadata": {
        "id": "cuOI-Xrxri56"
      },
      "source": [
        "# **Explainability**"
      ]
    },
    {
      "cell_type": "code",
      "metadata": {
        "id": "Rx5xmDXBrngf"
      },
      "source": [
        "saliency_transform = transforms.Compose([transforms.Grayscale(num_output_channels=1),\n",
        "                                       transforms.RandomRotation(30),\n",
        "                                       transforms.Resize((224, 224)),\n",
        "                                       transforms.RandomHorizontalFlip(),\n",
        "                                       transforms.ToTensor(),\n",
        "                                       transforms.Normalize((0.5), (0.5)),\n",
        "                                       transforms.Lambda(lambda x: x[None])])\n",
        "def create_saliency_map(image_filename='000001-17.jpg'):\n",
        "  image = PIL.Image.open(f'/content/covid-chestxray-dataset/images/{image_filename}')\n",
        "  image = train_transforms(image)\n",
        "  image = image.reshape(1, 1, image_size, image_size)\n",
        "\n",
        "  image.requires_grad_()\n",
        "  output = model(image)\n",
        "\n",
        "  # Catch the output\n",
        "  output_idx = output.argmax()\n",
        "  output_max = output[0, output_idx]\n",
        "\n",
        "  # Do backpropagation to get the derivative of the output based on the image\n",
        "  output_max.backward()\n",
        "\n",
        "  saliency, _ = torch.max(image.grad.data.abs(), dim=1) \n",
        "  saliency = saliency.reshape(image_size, image_size)\n",
        "\n",
        "  # Reshape the image\n",
        "  image = image.reshape(image_size, image_size)\n",
        "\n",
        "  # Visualize the image and the saliency map\n",
        "  fig, ax = plt.subplots(1, 2)\n",
        "  ax[0].imshow(image.cpu().detach().numpy(), cmap=\"gray\")\n",
        "  ax[0].axis('off')\n",
        "  ax[1].imshow(saliency.cpu(), cmap='hot')\n",
        "  ax[1].axis('off')\n",
        "  plt.tight_layout()\n",
        "  fig.suptitle('The Image and Its Saliency Map')\n",
        "  plt.show()"
      ],
      "execution_count": 165,
      "outputs": []
    },
    {
      "cell_type": "code",
      "metadata": {
        "id": "mebZLakstGfL",
        "outputId": "a4fd2b0b-5ebb-4bf6-c35b-9bf18842bb6e",
        "colab": {
          "base_uri": "https://localhost:8080/",
          "height": 269
        }
      },
      "source": [
        "create_saliency_map()"
      ],
      "execution_count": 166,
      "outputs": [
        {
          "output_type": "display_data",
          "data": {
            "image/png": "[encoded data removed]",
            "text/plain": [
              "<Figure size 432x288 with 2 Axes>"
            ]
          },
          "metadata": {
            "needs_background": "light"
          }
        }
      ]
    }
  ]
}