{
  "nbformat": 4,
  "nbformat_minor": 0,
  "metadata": {
    "colab": {
      "name": "TabularModel.ipynb",
      "provenance": [],
      "include_colab_link": true
    },
    "kernelspec": {
      "name": "python3",
      "language": "python",
      "display_name": "Python 3 (ipykernel)"
    },
    "language_info": {
      "name": "python"
    }
  },
  "cells": [
    {
      "cell_type": "markdown",
      "metadata": {
        "id": "view-in-github",
        "colab_type": "text"
      },
      "source": [
        "<a href=\"https://colab.research.google.com/github/HadarRosenwald/severity-detection/blob/main/TabularModel.ipynb\" target=\"_parent\"><img src=\"https://colab.research.google.com/assets/colab-badge.svg\" alt=\"Open In Colab\"/></a>"
      ]
    },
    {
      "cell_type": "markdown",
      "metadata": {
        "collapsed": false,
        "id": "Q5F2yE_KCPLt"
      },
      "source": [
        "<a href=\"https://colab.research.google.com/github/HadarRosenwald/severity-detection/blob/main/TabularModel.ipynb\" target=\"_parent\"><img src=\"https://colab.research.google.com/assets/colab-badge.svg\" alt=\"Open In Colab\"/></a>"
      ]
    },
    {
      "cell_type": "code",
      "metadata": {
        "pycharm": {
          "name": "#%%\n"
        },
        "id": "aMaY-JqMCPLv"
      },
      "source": [
        "!pip -q install torchxrayvision\n",
        "!pip -q install image_tabular"
      ],
      "execution_count": null,
      "outputs": []
    },
    {
      "cell_type": "code",
      "metadata": {
        "id": "wUbyi5VYID2s"
      },
      "source": [
        "# torch.__version__"
      ],
      "execution_count": null,
      "outputs": []
    },
    {
      "cell_type": "code",
      "metadata": {
        "pycharm": {
          "name": "#%%\n"
        },
        "id": "RPOUV9nuCPLw"
      },
      "source": [
        "import matplotlib.pyplot as plt\n",
        "import os\n",
        "import shutil\n",
        "import torch\n",
        "import torchxrayvision as xrv\n",
        "import numpy as np\n",
        "import pandas as pd\n",
        "from torch import nn\n",
        "from torch import optim\n",
        "import torch.nn.functional as F\n",
        "from torchvision import datasets, transforms, models\n",
        "import fastai\n",
        "from fastai.tabular.data import TabularList\n",
        "import image_tabular as imtab\n",
        "from sklearn.model_selection import train_test_split\n",
        "import math\n",
        "\n",
        "from fastai.vision import *\n",
        "from fastai.tabular import *\n",
        "from image_tabular.core import *\n",
        "from image_tabular.dataset import *\n",
        "from image_tabular.model import *\n",
        "from image_tabular.metric import *"
      ],
      "execution_count": null,
      "outputs": []
    },
    {
      "cell_type": "code",
      "metadata": {
        "pycharm": {
          "name": "#%%\n"
        },
        "id": "1Z1t7KsWCPLw"
      },
      "source": [
        "!git clone https://github.com/ieee8023/covid-chestxray-dataset\n",
        "d = xrv.datasets.COVID19_Dataset(imgpath=\"covid-chestxray-dataset/images/\",csvpath=\"covid-chestxray-dataset/metadata.csv\")"
      ],
      "execution_count": null,
      "outputs": []
    },
    {
      "cell_type": "code",
      "metadata": {
        "id": "YmOrm7VtE0Hh"
      },
      "source": [
        "# !rm -rf covid-chestxray-dataset"
      ],
      "execution_count": null,
      "outputs": []
    },
    {
      "cell_type": "markdown",
      "metadata": {
        "collapsed": false,
        "id": "eATwgX-1CPLx"
      },
      "source": [
        "# **Creating label**"
      ]
    },
    {
      "cell_type": "code",
      "metadata": {
        "pycharm": {
          "name": "#%%\n"
        },
        "id": "KbNCuzXZCPLx"
      },
      "source": [
        "def generate_label(x):\n",
        "    # no data\n",
        "    if np.all(pd.isna([x.survival, x.intubated, x.went_icu, x.needed_supplemental_O2])):\n",
        "        return np.NaN\n",
        "\n",
        "    # didn't survive\n",
        "    if x.survival=='N':\n",
        "        return '4'\n",
        "\n",
        "    #either survived or survival is unknown\n",
        "    if x.intubated == 'Y':\n",
        "        return '3'\n",
        "    if x.survival=='Y':\n",
        "        if x.went_icu == 'Y' or x.needed_supplemental_O2 == 'Y':\n",
        "            return '1'\n",
        "    if x.went_icu == 'Y' or x.needed_supplemental_O2 == 'Y':\n",
        "        return '2'\n",
        "    return '0'"
      ],
      "execution_count": null,
      "outputs": []
    },
    {
      "cell_type": "code",
      "metadata": {
        "pycharm": {
          "name": "#%%\n"
        },
        "id": "JquZTpMCCPLx"
      },
      "source": [
        "metadata = d.csv\n",
        "metadata['severity_class']=metadata.apply(generate_label, axis=1)"
      ],
      "execution_count": null,
      "outputs": []
    },
    {
      "cell_type": "markdown",
      "metadata": {
        "id": "USaxB9lRCWQc"
      },
      "source": [
        "# **Tabular Data handling**"
      ]
    },
    {
      "cell_type": "code",
      "metadata": {
        "pycharm": {
          "name": "#%%\n"
        },
        "id": "MUGSnQSqCPLy"
      },
      "source": [
        "filtered_metadata = metadata.loc[(metadata.view!=\"APS\") & (metadata.offset>=0) & (metadata.offset<=8) & (metadata.intubation_present != 'Y') & (metadata.in_icu != 'Y')]\n",
        "# filtered_metadata = filtered_metadata[['index','patientid','sex','age','RT_PCR_positive','temperature','pO2_saturation', 'leukocyte_count', 'neutrophil_count', 'lymphocyte_count', 'survival', 'intubated', 'went_icu', 'needed_supplemental_O2','filename']]\n",
        "filtered_metadata = filtered_metadata[['index','patientid','sex','age','RT_PCR_positive','temperature','pO2_saturation', 'leukocyte_count', 'neutrophil_count', 'lymphocyte_count', 'severity_class' ,'filename']]"
      ],
      "execution_count": null,
      "outputs": []
    },
    {
      "cell_type": "code",
      "metadata": {
        "pycharm": {
          "name": "#%%\n"
        },
        "id": "y8aJYLOGCPLy"
      },
      "source": [
        "data_path = Path(\"./covid-chestxray-dataset/\")"
      ],
      "execution_count": null,
      "outputs": []
    },
    {
      "cell_type": "code",
      "metadata": {
        "pycharm": {
          "name": "#%%\n"
        },
        "colab": {
          "base_uri": "https://localhost:8080/",
          "height": 226
        },
        "id": "ZGr5dqVUCPLz",
        "outputId": "902a2189-4428-421a-a540-5557fa4443af"
      },
      "source": [
        "train_df, test_df = train_test_split(filtered_metadata, test_size=0.2)\n",
        "# train_df = train_df.dropna(subset=['survival', 'intubated', 'went_icu', 'needed_supplemental_O2'], how='any')\n",
        "# test_df = test_df.dropna(subset=['survival', 'intubated', 'went_icu', 'needed_supplemental_O2'], how='any')\n",
        "\n",
        "train_df = train_df.dropna(subset=['severity_class'], how='any')\n",
        "test_df = test_df.dropna(subset=['severity_class'], how='any')\n",
        "\n",
        "train_df.head()"
      ],
      "execution_count": null,
      "outputs": [
        {
          "output_type": "execute_result",
          "data": {
            "text/html": [
              "<div>\n",
              "<style scoped>\n",
              "    .dataframe tbody tr th:only-of-type {\n",
              "        vertical-align: middle;\n",
              "    }\n",
              "\n",
              "    .dataframe tbody tr th {\n",
              "        vertical-align: top;\n",
              "    }\n",
              "\n",
              "    .dataframe thead th {\n",
              "        text-align: right;\n",
              "    }\n",
              "</style>\n",
              "<table border=\"1\" class=\"dataframe\">\n",
              "  <thead>\n",
              "    <tr style=\"text-align: right;\">\n",
              "      <th></th>\n",
              "      <th>index</th>\n",
              "      <th>patientid</th>\n",
              "      <th>sex</th>\n",
              "      <th>age</th>\n",
              "      <th>RT_PCR_positive</th>\n",
              "      <th>temperature</th>\n",
              "      <th>pO2_saturation</th>\n",
              "      <th>leukocyte_count</th>\n",
              "      <th>neutrophil_count</th>\n",
              "      <th>lymphocyte_count</th>\n",
              "      <th>severity_class</th>\n",
              "      <th>filename</th>\n",
              "    </tr>\n",
              "  </thead>\n",
              "  <tbody>\n",
              "    <tr>\n",
              "      <th>265</th>\n",
              "      <td>434</td>\n",
              "      <td>229</td>\n",
              "      <td>F</td>\n",
              "      <td>NaN</td>\n",
              "      <td>Unclear</td>\n",
              "      <td>NaN</td>\n",
              "      <td>55.0</td>\n",
              "      <td>NaN</td>\n",
              "      <td>NaN</td>\n",
              "      <td>NaN</td>\n",
              "      <td>0</td>\n",
              "      <td>2cd63b76.jpg</td>\n",
              "    </tr>\n",
              "    <tr>\n",
              "      <th>445</th>\n",
              "      <td>765</td>\n",
              "      <td>399</td>\n",
              "      <td>F</td>\n",
              "      <td>62.0</td>\n",
              "      <td>NaN</td>\n",
              "      <td>NaN</td>\n",
              "      <td>NaN</td>\n",
              "      <td>NaN</td>\n",
              "      <td>NaN</td>\n",
              "      <td>NaN</td>\n",
              "      <td>3</td>\n",
              "      <td>000001-4.jpg</td>\n",
              "    </tr>\n",
              "    <tr>\n",
              "      <th>323</th>\n",
              "      <td>547</td>\n",
              "      <td>291</td>\n",
              "      <td>F</td>\n",
              "      <td>61.0</td>\n",
              "      <td>Y</td>\n",
              "      <td>37.6</td>\n",
              "      <td>NaN</td>\n",
              "      <td>NaN</td>\n",
              "      <td>NaN</td>\n",
              "      <td>NaN</td>\n",
              "      <td>0</td>\n",
              "      <td>296_2020_4584_Fig2_HTML-a.png</td>\n",
              "    </tr>\n",
              "    <tr>\n",
              "      <th>268</th>\n",
              "      <td>438</td>\n",
              "      <td>233</td>\n",
              "      <td>M</td>\n",
              "      <td>NaN</td>\n",
              "      <td>Unclear</td>\n",
              "      <td>NaN</td>\n",
              "      <td>25.0</td>\n",
              "      <td>NaN</td>\n",
              "      <td>2.2</td>\n",
              "      <td>0.4</td>\n",
              "      <td>1</td>\n",
              "      <td>441c9cdd.jpg</td>\n",
              "    </tr>\n",
              "    <tr>\n",
              "      <th>397</th>\n",
              "      <td>673</td>\n",
              "      <td>358</td>\n",
              "      <td>F</td>\n",
              "      <td>25.0</td>\n",
              "      <td>Y</td>\n",
              "      <td>NaN</td>\n",
              "      <td>NaN</td>\n",
              "      <td>NaN</td>\n",
              "      <td>NaN</td>\n",
              "      <td>NaN</td>\n",
              "      <td>0</td>\n",
              "      <td>b0f1684d1ee90dc09deef015e29dae_jumbo.jpeg</td>\n",
              "    </tr>\n",
              "  </tbody>\n",
              "</table>\n",
              "</div>"
            ],
            "text/plain": [
              "     index patientid  ... severity_class                                   filename\n",
              "265    434       229  ...              0                               2cd63b76.jpg\n",
              "445    765       399  ...              3                               000001-4.jpg\n",
              "323    547       291  ...              0              296_2020_4584_Fig2_HTML-a.png\n",
              "268    438       233  ...              1                               441c9cdd.jpg\n",
              "397    673       358  ...              0  b0f1684d1ee90dc09deef015e29dae_jumbo.jpeg\n",
              "\n",
              "[5 rows x 12 columns]"
            ]
          },
          "metadata": {},
          "execution_count": 9
        }
      ]
    },
    {
      "cell_type": "code",
      "metadata": {
        "pycharm": {
          "name": "#%%\n"
        },
        "id": "Ygc-2AFNCPLz"
      },
      "source": [
        "val_idx = get_valid_index(train_df)\n",
        "# Features with categorical values\n",
        "cat_names = ['sex', 'RT_PCR_positive', 'severity_class']\n",
        "# Features with continious values\n",
        "cont_names = ['age', 'temperature', 'pO2_saturation', 'leukocyte_count', 'neutrophil_count', 'lymphocyte_count']\n",
        "# Target\n",
        "# dep_var = ['survival', 'intubated', 'went_icu', 'needed_supplemental_O2']\n",
        "dep_var = ['severity_class']\n",
        "procs = [FillMissing, Categorify, Normalize]"
      ],
      "execution_count": null,
      "outputs": []
    },
    {
      "cell_type": "code",
      "metadata": {
        "id": "Na4a7c9AoKkE"
      },
      "source": [
        ""
      ],
      "execution_count": null,
      "outputs": []
    },
    {
      "cell_type": "code",
      "metadata": {
        "id": "26qKhrNroSTS"
      },
      "source": [
        ""
      ],
      "execution_count": null,
      "outputs": []
    },
    {
      "cell_type": "code",
      "metadata": {
        "id": "gjSaGgYboOY4"
      },
      "source": [
        ""
      ],
      "execution_count": null,
      "outputs": []
    },
    {
      "cell_type": "code",
      "metadata": {
        "id": "Jxg2KsjaoNEc"
      },
      "source": [
        ""
      ],
      "execution_count": null,
      "outputs": []
    },
    {
      "cell_type": "code",
      "metadata": {
        "pycharm": {
          "name": "#%%\n"
        },
        "id": "LXNBYD8NCPL0",
        "colab": {
          "base_uri": "https://localhost:8080/"
        },
        "outputId": "6a0062b4-f4b8-4065-beb8-4a721777b2ee"
      },
      "source": [
        "tab_data = (TabularList.from_df(train_df, path=data_path, cat_names=cat_names, cont_names=cont_names, procs=procs).split_by_idx(val_idx).label_from_df(cols=dep_var))\n",
        "\n",
        "tab_data.add_test(TabularList.from_df(test_df, cat_names=cat_names, cont_names=cont_names, processor=tab_data.train.x.processor))"
      ],
      "execution_count": null,
      "outputs": [
        {
          "output_type": "execute_result",
          "data": {
            "text/plain": [
              "LabelLists;\n",
              "\n",
              "Train: LabelList (82 items)\n",
              "x: TabularList\n",
              "sex F; RT_PCR_positive Unclear; severity_class 0; age_na True; temperature_na True; pO2_saturation_na False; leukocyte_count_na True; neutrophil_count_na True; lymphocyte_count_na True; age 0.1223; temperature 0.0809; pO2_saturation -0.7301; leukocyte_count -0.0496; neutrophil_count -0.1245; lymphocyte_count -0.1266; ,sex F; RT_PCR_positive #na#; severity_class 3; age_na False; temperature_na True; pO2_saturation_na True; leukocyte_count_na True; neutrophil_count_na True; lymphocyte_count_na True; age 0.6793; temperature 0.0809; pO2_saturation 0.0315; leukocyte_count -0.0496; neutrophil_count -0.1245; lymphocyte_count -0.1266; ,sex M; RT_PCR_positive Unclear; severity_class 1; age_na True; temperature_na True; pO2_saturation_na False; leukocyte_count_na True; neutrophil_count_na False; lymphocyte_count_na False; age 0.1223; temperature 0.0809; pO2_saturation -2.6342; leukocyte_count -0.0496; neutrophil_count -0.9672; lymphocyte_count -0.8521; ,sex F; RT_PCR_positive Y; severity_class 0; age_na False; temperature_na True; pO2_saturation_na True; leukocyte_count_na True; neutrophil_count_na True; lymphocyte_count_na True; age -2.2651; temperature 0.0809; pO2_saturation 0.0315; leukocyte_count -0.0496; neutrophil_count -0.1245; lymphocyte_count -0.1266; ,sex F; RT_PCR_positive Y; severity_class 4; age_na False; temperature_na True; pO2_saturation_na True; leukocyte_count_na True; neutrophil_count_na True; lymphocyte_count_na True; age 1.0772; temperature 0.0809; pO2_saturation 0.0315; leukocyte_count -0.0496; neutrophil_count -0.1245; lymphocyte_count -0.1266; \n",
              "y: CategoryList\n",
              "0,3,1,0,4\n",
              "Path: covid-chestxray-dataset;\n",
              "\n",
              "Valid: LabelList (20 items)\n",
              "x: TabularList\n",
              "sex F; RT_PCR_positive Y; severity_class 0; age_na False; temperature_na True; pO2_saturation_na True; leukocyte_count_na True; neutrophil_count_na True; lymphocyte_count_na True; age -1.0714; temperature 0.0809; pO2_saturation 0.0315; leukocyte_count -0.0496; neutrophil_count -0.1245; lymphocyte_count -0.1266; ,sex F; RT_PCR_positive Y; severity_class 0; age_na False; temperature_na False; pO2_saturation_na False; leukocyte_count_na True; neutrophil_count_na True; lymphocyte_count_na True; age 1.3956; temperature 1.7383; pO2_saturation 1.6817; leukocyte_count -0.0496; neutrophil_count -0.1245; lymphocyte_count -0.1266; ,sex F; RT_PCR_positive Y; severity_class 0; age_na False; temperature_na False; pO2_saturation_na True; leukocyte_count_na True; neutrophil_count_na True; lymphocyte_count_na True; age 0.5998; temperature -2.9026; pO2_saturation 0.0315; leukocyte_count -0.0496; neutrophil_count -0.1245; lymphocyte_count -0.1266; ,sex M; RT_PCR_positive Y; severity_class 1; age_na False; temperature_na False; pO2_saturation_na False; leukocyte_count_na True; neutrophil_count_na True; lymphocyte_count_na True; age -1.4693; temperature -4.2285; pO2_saturation 1.8721; leukocyte_count -0.0496; neutrophil_count -0.1245; lymphocyte_count -0.1266; ,sex F; RT_PCR_positive Unclear; severity_class 0; age_na True; temperature_na True; pO2_saturation_na False; leukocyte_count_na True; neutrophil_count_na True; lymphocyte_count_na True; age 0.1223; temperature 0.0809; pO2_saturation -2.3169; leukocyte_count -0.0496; neutrophil_count -0.1245; lymphocyte_count -0.1266; \n",
              "y: CategoryList\n",
              "0,0,0,1,0\n",
              "Path: covid-chestxray-dataset;\n",
              "\n",
              "Test: LabelList (36 items)\n",
              "x: TabularList\n",
              "sex F; RT_PCR_positive Unclear; severity_class 0; age_na False; temperature_na True; pO2_saturation_na True; leukocyte_count_na True; neutrophil_count_na True; lymphocyte_count_na True; age -1.9468; temperature 0.0809; pO2_saturation 0.0315; leukocyte_count -0.0496; neutrophil_count -0.1245; lymphocyte_count -0.1266; ,sex F; RT_PCR_positive Y; severity_class 0; age_na False; temperature_na True; pO2_saturation_na True; leukocyte_count_na True; neutrophil_count_na True; lymphocyte_count_na True; age 1.9526; temperature 0.0809; pO2_saturation 0.0315; leukocyte_count -0.0496; neutrophil_count -0.1245; lymphocyte_count -0.1266; ,sex M; RT_PCR_positive Unclear; severity_class 0; age_na True; temperature_na True; pO2_saturation_na True; leukocyte_count_na True; neutrophil_count_na True; lymphocyte_count_na True; age 0.1223; temperature 0.0809; pO2_saturation 0.0315; leukocyte_count -0.0496; neutrophil_count -0.1245; lymphocyte_count -0.1266; ,sex M; RT_PCR_positive #na#; severity_class 0; age_na False; temperature_na True; pO2_saturation_na True; leukocyte_count_na True; neutrophil_count_na True; lymphocyte_count_na True; age 1.7934; temperature 0.0809; pO2_saturation 0.0315; leukocyte_count -0.0496; neutrophil_count -0.1245; lymphocyte_count -0.1266; ,sex F; RT_PCR_positive Y; severity_class 2; age_na False; temperature_na True; pO2_saturation_na True; leukocyte_count_na True; neutrophil_count_na True; lymphocyte_count_na True; age 1.6343; temperature 0.0809; pO2_saturation 0.0315; leukocyte_count -0.0496; neutrophil_count -0.1245; lymphocyte_count -0.1266; \n",
              "y: EmptyLabelList\n",
              ",,,,\n",
              "Path: covid-chestxray-dataset"
            ]
          },
          "metadata": {},
          "execution_count": 11
        }
      ]
    },
    {
      "cell_type": "code",
      "metadata": {
        "pycharm": {
          "name": "#%%\n"
        },
        "colab": {
          "base_uri": "https://localhost:8080/"
        },
        "id": "PHcIw1y_CPL0",
        "outputId": "c1da8024-aaff-4f62-c86b-a17505d2dbfe"
      },
      "source": [
        "# embedding sizes of categorical data\n",
        "emb_szs = tab_data.train.get_emb_szs()\n",
        "# output size, will be concatenated with the CNN, same output size\n",
        "tab_out_sz = 18\n",
        "# The tabular model\n",
        "tabular_model = TabularModel(emb_szs, len(cont_names), out_sz=tab_out_sz, layers=[18], ps=0.2)\n",
        "tabular_model"
      ],
      "execution_count": null,
      "outputs": [
        {
          "output_type": "execute_result",
          "data": {
            "text/plain": [
              "TabularModel(\n",
              "  (embeds): ModuleList(\n",
              "    (0): Embedding(3, 3)\n",
              "    (1): Embedding(3, 3)\n",
              "    (2): Embedding(6, 4)\n",
              "    (3): Embedding(3, 3)\n",
              "    (4): Embedding(3, 3)\n",
              "    (5): Embedding(3, 3)\n",
              "    (6): Embedding(3, 3)\n",
              "    (7): Embedding(3, 3)\n",
              "    (8): Embedding(3, 3)\n",
              "  )\n",
              "  (emb_drop): Dropout(p=0.0, inplace=False)\n",
              "  (bn_cont): BatchNorm1d(6, eps=1e-05, momentum=0.1, affine=True, track_running_stats=True)\n",
              "  (layers): Sequential(\n",
              "    (0): Linear(in_features=34, out_features=18, bias=True)\n",
              "    (1): ReLU(inplace=True)\n",
              "    (2): BatchNorm1d(18, eps=1e-05, momentum=0.1, affine=True, track_running_stats=True)\n",
              "    (3): Dropout(p=0.2, inplace=False)\n",
              "    (4): Linear(in_features=18, out_features=18, bias=True)\n",
              "  )\n",
              ")"
            ]
          },
          "metadata": {},
          "execution_count": 12
        }
      ]
    },
    {
      "cell_type": "markdown",
      "metadata": {
        "collapsed": false,
        "id": "A07rtGNlCPL0"
      },
      "source": [
        "# **Image Data handling**"
      ]
    },
    {
      "cell_type": "code",
      "metadata": {
        "id": "PAZ-JA4-C4lj"
      },
      "source": [
        ""
      ],
      "execution_count": null,
      "outputs": []
    },
    {
      "cell_type": "code",
      "metadata": {
        "pycharm": {
          "name": "#%%\n"
        },
        "id": "gCRyT8qXCPL1"
      },
      "source": [
        "def create_sub_image_folder(dataframe, imgs_type, sub_dir_by_lable : bool):\n",
        "  filtered_imgpath = d.imgpath + '/' + imgs_type + '/'\n",
        "  filtered_filenames = dataframe.filename + ';' + dataframe.severity_class\n",
        "  if not os.path.exists(filtered_imgpath):\n",
        "      os.mkdir(filtered_imgpath)\n",
        "  if sub_dir_by_lable:\n",
        "    for severity_class in list(dataframe.severity_class):\n",
        "        if not os.path.exists(filtered_imgpath + f'/{severity_class}'):\n",
        "            os.mkdir(filtered_imgpath + f'/{severity_class}')\n",
        "  for file_name_label in filtered_filenames:\n",
        "      file_name, label = file_name_label.split(';')\n",
        "      src = d.imgpath + file_name\n",
        "      dst = filtered_imgpath + label + '/' + file_name if sub_dir_by_lable else filtered_imgpath + file_name\n",
        "      if not os.path.exists(dst):\n",
        "          shutil.copyfile(src, dst)"
      ],
      "execution_count": null,
      "outputs": []
    },
    {
      "cell_type": "code",
      "metadata": {
        "pycharm": {
          "name": "#%%\n"
        },
        "id": "cxywk0U5CPL1"
      },
      "source": [
        "create_sub_image_folder(train_df, 'train', False)\n",
        "create_sub_image_folder(test_df, 'test', False)\n",
        "filtered_img_base_path = d.imgpath + '/'"
      ],
      "execution_count": null,
      "outputs": []
    },
    {
      "cell_type": "code",
      "metadata": {
        "pycharm": {
          "name": "#%%\n"
        },
        "id": "gPJbhu6_CPL1"
      },
      "source": [
        "# train_transforms = transforms.Compose([transforms.Grayscale(num_output_channels=1),\n",
        "#                                        transforms.RandomRotation(30),\n",
        "#                                        transforms.RandomResizedCrop(224),\n",
        "#                                        transforms.RandomHorizontalFlip(),\n",
        "#                                        transforms.ToTensor(),\n",
        "#                                        transforms.Normalize((0.5), (0.5))])\n",
        "\n",
        "# test_transforms = transforms.Compose([transforms.Grayscale(num_output_channels=1),\n",
        "#                                      transforms.Resize(255),\n",
        "#                                      transforms.CenterCrop(224),\n",
        "#                                      transforms.ToTensor()])\n",
        "\n",
        "# train_data = datasets.ImageFolder(filtered_img_base_path + '/train', transform=train_transforms)\n",
        "# test_data = datasets.ImageFolder(filtered_img_base_path + '/test', transform=test_transforms)\n",
        "# # train_data, val_data, test_data = split_data(data)\n",
        "\n",
        "# trainloader = torch.utils.data.DataLoader(train_data, batch_size=64, shuffle=True)\n",
        "# testloader = torch.utils.data.DataLoader(test_data, batch_size=64)"
      ],
      "execution_count": null,
      "outputs": []
    },
    {
      "cell_type": "code",
      "metadata": {
        "id": "E8Sd4uWujyOF"
      },
      "source": [
        ""
      ],
      "execution_count": null,
      "outputs": []
    },
    {
      "cell_type": "code",
      "metadata": {
        "colab": {
          "base_uri": "https://localhost:8080/"
        },
        "id": "NXhuyozYjNTz",
        "outputId": "3055570c-0c64-441d-cd52-eea612ace53f"
      },
      "source": [
        "tfms = get_transforms()\n",
        "size=224\n",
        "\n",
        "image_data = (ImageList.from_df(train_df, path=d.imgpath, cols=\"filename\",\n",
        "                               folder=\"train\", convert_mode = 'L').split_by_idx(val_idx)\n",
        "              .label_from_df(cols=dep_var)).transform(tfms, size=size, resize_method=ResizeMethod.SQUISH)\n",
        "            \n",
        "test_image_data = ImageList.from_df(test_df, path=d.imgpath, cols=\"filename\",\n",
        "                                    folder=\"test\", convert_mode = 'L')\n",
        "image_data.add_test(test_image_data)"
      ],
      "execution_count": null,
      "outputs": [
        {
          "output_type": "execute_result",
          "data": {
            "text/plain": [
              "LabelLists;\n",
              "\n",
              "Train: LabelList (82 items)\n",
              "x: ImageList\n",
              "Image (1, 224, 224),Image (1, 224, 224),Image (1, 224, 224),Image (1, 224, 224),Image (1, 224, 224)\n",
              "y: CategoryList\n",
              "0,3,1,0,4\n",
              "Path: covid-chestxray-dataset/images;\n",
              "\n",
              "Valid: LabelList (20 items)\n",
              "x: ImageList\n",
              "Image (1, 224, 224),Image (1, 224, 224),Image (1, 224, 224),Image (1, 224, 224),Image (1, 224, 224)\n",
              "y: CategoryList\n",
              "0,0,0,1,0\n",
              "Path: covid-chestxray-dataset/images;\n",
              "\n",
              "Test: LabelList (36 items)\n",
              "x: ImageList\n",
              "Image (1, 224, 224),Image (1, 224, 224),Image (1, 224, 224),Image (1, 224, 224),Image (1, 224, 224)\n",
              "y: EmptyLabelList\n",
              ",,,,\n",
              "Path: covid-chestxray-dataset/images"
            ]
          },
          "metadata": {},
          "execution_count": 35
        }
      ]
    },
    {
      "cell_type": "code",
      "metadata": {
        "pycharm": {
          "name": "#%%\n"
        },
        "colab": {
          "base_uri": "https://localhost:8080/"
        },
        "id": "vEc9uRjdCPL2",
        "outputId": "7c0725d0-b814-41dc-a235-6e8be8216804"
      },
      "source": [
        "model = xrv.models.DenseNet(weights=\"densenet121-res224-all\")\n",
        "model.classifier"
      ],
      "execution_count": null,
      "outputs": [
        {
          "output_type": "execute_result",
          "data": {
            "text/plain": [
              "Linear(in_features=1024, out_features=18, bias=True)"
            ]
          },
          "metadata": {},
          "execution_count": 36
        }
      ]
    },
    {
      "cell_type": "code",
      "metadata": {
        "pycharm": {
          "name": "#%%\n"
        },
        "id": "lx_EzW66CPL2"
      },
      "source": [
        "# Don't backprop model parameters!\n",
        "for param in model.parameters():\n",
        "    param.requires_grad = False\n",
        "    \n",
        "# New classifier\n",
        "model.classifier = nn.Sequential(nn.Linear(1024, 512),\n",
        "                          nn.ReLU(),\n",
        "                          nn.Dropout(0.2),\n",
        "                          nn.Linear(512,256),\n",
        "                          nn.ReLU(),\n",
        "                          nn.Dropout(0.2),\n",
        "                          nn.Linear(256,18))\n",
        "\n",
        "#criterion = nn.NLLLoss()\n",
        "\n",
        "# Training only the classifier parameters, model parameters remains unchanged\n",
        "optimizer = optim.RMSprop(model.classifier.parameters(), lr=0.004)"
      ],
      "execution_count": null,
      "outputs": []
    },
    {
      "cell_type": "code",
      "metadata": {
        "pycharm": {
          "name": "#%%\n"
        },
        "id": "UFSamYCSCPL2"
      },
      "source": [
        "cnn_out_sz = 18\n",
        "img_tabular_model = CNNTabularModel(model,\n",
        "                                  tabular_model,\n",
        "                                  layers = [cnn_out_sz + tab_out_sz, 32],\n",
        "                                  ps=0.2,\n",
        "                                  out_sz=2)"
      ],
      "execution_count": null,
      "outputs": []
    },
    {
      "cell_type": "code",
      "metadata": {
        "pycharm": {
          "name": "#%%\n"
        },
        "colab": {
          "base_uri": "https://localhost:8080/"
        },
        "id": "qt3V1vTtCPL2",
        "outputId": "99eded83-ba4f-43b1-ecd2-b8a8d85d4fda"
      },
      "source": [
        "img_tabular_model"
      ],
      "execution_count": null,
      "outputs": [
        {
          "output_type": "execute_result",
          "data": {
            "text/plain": [
              "CNNTabularModel(\n",
              "  (cnn_model): XRV-DenseNet121-densenet121-res224-all\n",
              "  (tabular_model): TabularModel(\n",
              "    (embeds): ModuleList(\n",
              "      (0): Embedding(3, 3)\n",
              "      (1): Embedding(3, 3)\n",
              "      (2): Embedding(6, 4)\n",
              "      (3): Embedding(3, 3)\n",
              "      (4): Embedding(3, 3)\n",
              "      (5): Embedding(3, 3)\n",
              "      (6): Embedding(3, 3)\n",
              "      (7): Embedding(3, 3)\n",
              "      (8): Embedding(3, 3)\n",
              "    )\n",
              "    (emb_drop): Dropout(p=0.0, inplace=False)\n",
              "    (bn_cont): BatchNorm1d(6, eps=1e-05, momentum=0.1, affine=True, track_running_stats=True)\n",
              "    (layers): Sequential(\n",
              "      (0): Linear(in_features=34, out_features=18, bias=True)\n",
              "      (1): ReLU(inplace=True)\n",
              "      (2): BatchNorm1d(18, eps=1e-05, momentum=0.1, affine=True, track_running_stats=True)\n",
              "      (3): Dropout(p=0.2, inplace=False)\n",
              "      (4): Linear(in_features=18, out_features=18, bias=True)\n",
              "    )\n",
              "  )\n",
              "  (layers): Sequential(\n",
              "    (0): BatchNorm1d(36, eps=1e-05, momentum=0.1, affine=True, track_running_stats=True)\n",
              "    (1): Dropout(p=0.2, inplace=False)\n",
              "    (2): Linear(in_features=36, out_features=32, bias=True)\n",
              "    (3): ReLU(inplace=True)\n",
              "    (4): BatchNorm1d(32, eps=1e-05, momentum=0.1, affine=True, track_running_stats=True)\n",
              "    (5): Dropout(p=0.2, inplace=False)\n",
              "    (6): Linear(in_features=32, out_features=2, bias=True)\n",
              "  )\n",
              ")"
            ]
          },
          "metadata": {},
          "execution_count": 39
        }
      ]
    },
    {
      "cell_type": "code",
      "metadata": {
        "id": "JzHfLCzFSEZO"
      },
      "source": [
        ""
      ],
      "execution_count": null,
      "outputs": []
    },
    {
      "cell_type": "code",
      "metadata": {
        "id": "ehfkkkZ1UTI8"
      },
      "source": [
        "# class ImageTabDataset(Dataset):\n",
        "#     def __init__(self, images, tabs):\n",
        "#         \"\"\"\n",
        "#         Hybrid dataset that integrates image and tabular data.\n",
        "#         :param images: a fastai LabelList that contains image data\n",
        "#         :param tabs: a fastai LabelList that contains tabular data\n",
        "#         \"\"\"\n",
        "#         self.images, self.tabs = images, tabs\n",
        "\n",
        "#     def __len__(self):\n",
        "#         return len(self.images)\n",
        "\n",
        "#     def __getitem__(self, i):\n",
        "#         # return x as a tuple of image x and tabular x\n",
        "#         # image y and tabular y should be the same\n",
        "#         return (self.images[i][0], self.tabs[i][0]), self.images[i][1]\n",
        "\n",
        "\n",
        "# def get_imagetabdatasets(image_data, tabular_data):\n",
        "#     \"\"\"\n",
        "#     Helper function to construct train, valid, and optional test imagetabdatasets.\n",
        "#     :param image_data: a fastai Labellists that contains image train, valid, and optional test Labellists\n",
        "#     :param tabular_data: a fastai Labellists that contains tabular train, valid, and optional test Labellists\n",
        "#     \"\"\"\n",
        "#     datasets = []\n",
        "#     for images, tabs in zip(image_data.lists, tabular_data.lists):\n",
        "#         print(f\"###images:###\\n{images}\")\n",
        "#         print(f\"\\n###tabs:###\\n\\n{tabs}\")\n",
        "#         datasets.append(ImageTabDataset(images, tabs))\n",
        "#     return datasets"
      ],
      "execution_count": null,
      "outputs": []
    },
    {
      "cell_type": "code",
      "metadata": {
        "id": "uTMYDw74IzOo",
        "colab": {
          "base_uri": "https://localhost:8080/"
        },
        "outputId": "91ca1bd5-3d68-4dfb-c6fd-497f77bc2625"
      },
      "source": [
        "integrate_train, integrate_val, integrate_test = get_imagetabdatasets(image_data, tab_data)\n",
        "\n",
        "\n",
        "bs = 64\n",
        "db = DataBunch.create(integrate_train, integrate_test, path=data_path, bs=bs)\n",
        "learn = Learner(db, img_tabular_model, metrics=[accuracy, ROCAUC()], loss_func=torch.nn.NLLLoss)"
      ],
      "execution_count": null,
      "outputs": [
        {
          "output_type": "stream",
          "name": "stdout",
          "text": [
            "###images:###\n",
            "LabelList (82 items)\n",
            "x: ImageList\n",
            "Image (1, 224, 224),Image (1, 224, 224),Image (1, 224, 224),Image (1, 224, 224),Image (1, 224, 224)\n",
            "y: CategoryList\n",
            "0,3,1,0,4\n",
            "Path: covid-chestxray-dataset/images\n",
            "\n",
            "###tabs:###\n",
            "\n",
            "LabelList (82 items)\n",
            "x: TabularList\n",
            "sex F; RT_PCR_positive Unclear; severity_class 0; age_na True; temperature_na True; pO2_saturation_na False; leukocyte_count_na True; neutrophil_count_na True; lymphocyte_count_na True; age 0.1223; temperature 0.0809; pO2_saturation -0.7301; leukocyte_count -0.0496; neutrophil_count -0.1245; lymphocyte_count -0.1266; ,sex F; RT_PCR_positive #na#; severity_class 3; age_na False; temperature_na True; pO2_saturation_na True; leukocyte_count_na True; neutrophil_count_na True; lymphocyte_count_na True; age 0.6793; temperature 0.0809; pO2_saturation 0.0315; leukocyte_count -0.0496; neutrophil_count -0.1245; lymphocyte_count -0.1266; ,sex M; RT_PCR_positive Unclear; severity_class 1; age_na True; temperature_na True; pO2_saturation_na False; leukocyte_count_na True; neutrophil_count_na False; lymphocyte_count_na False; age 0.1223; temperature 0.0809; pO2_saturation -2.6342; leukocyte_count -0.0496; neutrophil_count -0.9672; lymphocyte_count -0.8521; ,sex F; RT_PCR_positive Y; severity_class 0; age_na False; temperature_na True; pO2_saturation_na True; leukocyte_count_na True; neutrophil_count_na True; lymphocyte_count_na True; age -2.2651; temperature 0.0809; pO2_saturation 0.0315; leukocyte_count -0.0496; neutrophil_count -0.1245; lymphocyte_count -0.1266; ,sex F; RT_PCR_positive Y; severity_class 4; age_na False; temperature_na True; pO2_saturation_na True; leukocyte_count_na True; neutrophil_count_na True; lymphocyte_count_na True; age 1.0772; temperature 0.0809; pO2_saturation 0.0315; leukocyte_count -0.0496; neutrophil_count -0.1245; lymphocyte_count -0.1266; \n",
            "y: CategoryList\n",
            "0,3,1,0,4\n",
            "Path: covid-chestxray-dataset\n",
            "###images:###\n",
            "LabelList (20 items)\n",
            "x: ImageList\n",
            "Image (1, 224, 224),Image (1, 224, 224),Image (1, 224, 224),Image (1, 224, 224),Image (1, 224, 224)\n",
            "y: CategoryList\n",
            "0,0,0,1,0\n",
            "Path: covid-chestxray-dataset/images\n",
            "\n",
            "###tabs:###\n",
            "\n",
            "LabelList (20 items)\n",
            "x: TabularList\n",
            "sex F; RT_PCR_positive Y; severity_class 0; age_na False; temperature_na True; pO2_saturation_na True; leukocyte_count_na True; neutrophil_count_na True; lymphocyte_count_na True; age -1.0714; temperature 0.0809; pO2_saturation 0.0315; leukocyte_count -0.0496; neutrophil_count -0.1245; lymphocyte_count -0.1266; ,sex F; RT_PCR_positive Y; severity_class 0; age_na False; temperature_na False; pO2_saturation_na False; leukocyte_count_na True; neutrophil_count_na True; lymphocyte_count_na True; age 1.3956; temperature 1.7383; pO2_saturation 1.6817; leukocyte_count -0.0496; neutrophil_count -0.1245; lymphocyte_count -0.1266; ,sex F; RT_PCR_positive Y; severity_class 0; age_na False; temperature_na False; pO2_saturation_na True; leukocyte_count_na True; neutrophil_count_na True; lymphocyte_count_na True; age 0.5998; temperature -2.9026; pO2_saturation 0.0315; leukocyte_count -0.0496; neutrophil_count -0.1245; lymphocyte_count -0.1266; ,sex M; RT_PCR_positive Y; severity_class 1; age_na False; temperature_na False; pO2_saturation_na False; leukocyte_count_na True; neutrophil_count_na True; lymphocyte_count_na True; age -1.4693; temperature -4.2285; pO2_saturation 1.8721; leukocyte_count -0.0496; neutrophil_count -0.1245; lymphocyte_count -0.1266; ,sex F; RT_PCR_positive Unclear; severity_class 0; age_na True; temperature_na True; pO2_saturation_na False; leukocyte_count_na True; neutrophil_count_na True; lymphocyte_count_na True; age 0.1223; temperature 0.0809; pO2_saturation -2.3169; leukocyte_count -0.0496; neutrophil_count -0.1245; lymphocyte_count -0.1266; \n",
            "y: CategoryList\n",
            "0,0,0,1,0\n",
            "Path: covid-chestxray-dataset\n",
            "###images:###\n",
            "LabelList (36 items)\n",
            "x: ImageList\n",
            "Image (1, 224, 224),Image (1, 224, 224),Image (1, 224, 224),Image (1, 224, 224),Image (1, 224, 224)\n",
            "y: EmptyLabelList\n",
            ",,,,\n",
            "Path: covid-chestxray-dataset/images\n",
            "\n",
            "###tabs:###\n",
            "\n",
            "LabelList (36 items)\n",
            "x: TabularList\n",
            "sex F; RT_PCR_positive Unclear; severity_class 0; age_na False; temperature_na True; pO2_saturation_na True; leukocyte_count_na True; neutrophil_count_na True; lymphocyte_count_na True; age -1.9468; temperature 0.0809; pO2_saturation 0.0315; leukocyte_count -0.0496; neutrophil_count -0.1245; lymphocyte_count -0.1266; ,sex F; RT_PCR_positive Y; severity_class 0; age_na False; temperature_na True; pO2_saturation_na True; leukocyte_count_na True; neutrophil_count_na True; lymphocyte_count_na True; age 1.9526; temperature 0.0809; pO2_saturation 0.0315; leukocyte_count -0.0496; neutrophil_count -0.1245; lymphocyte_count -0.1266; ,sex M; RT_PCR_positive Unclear; severity_class 0; age_na True; temperature_na True; pO2_saturation_na True; leukocyte_count_na True; neutrophil_count_na True; lymphocyte_count_na True; age 0.1223; temperature 0.0809; pO2_saturation 0.0315; leukocyte_count -0.0496; neutrophil_count -0.1245; lymphocyte_count -0.1266; ,sex M; RT_PCR_positive #na#; severity_class 0; age_na False; temperature_na True; pO2_saturation_na True; leukocyte_count_na True; neutrophil_count_na True; lymphocyte_count_na True; age 1.7934; temperature 0.0809; pO2_saturation 0.0315; leukocyte_count -0.0496; neutrophil_count -0.1245; lymphocyte_count -0.1266; ,sex F; RT_PCR_positive Y; severity_class 2; age_na False; temperature_na True; pO2_saturation_na True; leukocyte_count_na True; neutrophil_count_na True; lymphocyte_count_na True; age 1.6343; temperature 0.0809; pO2_saturation 0.0315; leukocyte_count -0.0496; neutrophil_count -0.1245; lymphocyte_count -0.1266; \n",
            "y: EmptyLabelList\n",
            ",,,,\n",
            "Path: covid-chestxray-dataset\n"
          ]
        }
      ]
    },
    {
      "cell_type": "code",
      "metadata": {
        "colab": {
          "base_uri": "https://localhost:8080/",
          "height": 459
        },
        "id": "eE3TOz1klIRr",
        "outputId": "31e63d71-06eb-445f-b10b-6fa026992fe4"
      },
      "source": [
        "# train\n",
        "learn.fit_one_cycle(10, 1e-4)\n",
        "\n",
        "# unfreeze all layer groups to train the entire model using differential learning rates\n",
        "learn.unfreeze()\n",
        "learn.fit_one_cycle(5, slice(1e-6, 1e-4))"
      ],
      "execution_count": null,
      "outputs": [
        {
          "output_type": "display_data",
          "data": {
            "text/html": [
              "\n",
              "    <div>\n",
              "        <style>\n",
              "            /* Turns off some styling */\n",
              "            progress {\n",
              "                /* gets rid of default border in Firefox and Opera. */\n",
              "                border: none;\n",
              "                /* Needs to be in here for Safari polyfill so background images work as expected. */\n",
              "                background-size: auto;\n",
              "            }\n",
              "            .progress-bar-interrupted, .progress-bar-interrupted::-webkit-progress-bar {\n",
              "                background: #F44336;\n",
              "            }\n",
              "        </style>\n",
              "      <progress value='0' class='' max='10' style='width:300px; height:20px; vertical-align: middle;'></progress>\n",
              "      0.00% [0/10 00:00<00:00]\n",
              "    </div>\n",
              "    \n",
              "<table border=\"1\" class=\"dataframe\">\n",
              "  <thead>\n",
              "    <tr style=\"text-align: left;\">\n",
              "      <th>epoch</th>\n",
              "      <th>train_loss</th>\n",
              "      <th>valid_loss</th>\n",
              "      <th>accuracy</th>\n",
              "      <th>rocauc</th>\n",
              "      <th>time</th>\n",
              "    </tr>\n",
              "  </thead>\n",
              "  <tbody>\n",
              "  </tbody>\n",
              "</table><p>\n",
              "\n",
              "    <div>\n",
              "        <style>\n",
              "            /* Turns off some styling */\n",
              "            progress {\n",
              "                /* gets rid of default border in Firefox and Opera. */\n",
              "                border: none;\n",
              "                /* Needs to be in here for Safari polyfill so background images work as expected. */\n",
              "                background-size: auto;\n",
              "            }\n",
              "            .progress-bar-interrupted, .progress-bar-interrupted::-webkit-progress-bar {\n",
              "                background: #F44336;\n",
              "            }\n",
              "        </style>\n",
              "      <progress value='0' class='' max='1' style='width:300px; height:20px; vertical-align: middle;'></progress>\n",
              "      0.00% [0/1 00:00<00:00]\n",
              "    </div>\n",
              "    "
            ],
            "text/plain": [
              "<IPython.core.display.HTML object>"
            ]
          },
          "metadata": {}
        },
        {
          "output_type": "error",
          "ename": "RuntimeError",
          "evalue": "ignored",
          "traceback": [
            "\u001b[0;31m---------------------------------------------------------------------------\u001b[0m",
            "\u001b[0;31mRuntimeError\u001b[0m                              Traceback (most recent call last)",
            "\u001b[0;32m<ipython-input-65-12fc18bacdc6>\u001b[0m in \u001b[0;36m<module>\u001b[0;34m()\u001b[0m\n\u001b[1;32m      1\u001b[0m \u001b[0;31m# train\u001b[0m\u001b[0;34m\u001b[0m\u001b[0;34m\u001b[0m\u001b[0;34m\u001b[0m\u001b[0m\n\u001b[0;32m----> 2\u001b[0;31m \u001b[0mlearn\u001b[0m\u001b[0;34m.\u001b[0m\u001b[0mfit_one_cycle\u001b[0m\u001b[0;34m(\u001b[0m\u001b[0;36m10\u001b[0m\u001b[0;34m,\u001b[0m \u001b[0;36m1e-4\u001b[0m\u001b[0;34m)\u001b[0m\u001b[0;34m\u001b[0m\u001b[0;34m\u001b[0m\u001b[0m\n\u001b[0m\u001b[1;32m      3\u001b[0m \u001b[0;34m\u001b[0m\u001b[0m\n\u001b[1;32m      4\u001b[0m \u001b[0;31m# unfreeze all layer groups to train the entire model using differential learning rates\u001b[0m\u001b[0;34m\u001b[0m\u001b[0;34m\u001b[0m\u001b[0;34m\u001b[0m\u001b[0m\n\u001b[1;32m      5\u001b[0m \u001b[0mlearn\u001b[0m\u001b[0;34m.\u001b[0m\u001b[0munfreeze\u001b[0m\u001b[0;34m(\u001b[0m\u001b[0;34m)\u001b[0m\u001b[0;34m\u001b[0m\u001b[0;34m\u001b[0m\u001b[0m\n",
            "\u001b[0;32m/usr/local/lib/python3.7/dist-packages/fastai/train.py\u001b[0m in \u001b[0;36mfit_one_cycle\u001b[0;34m(learn, cyc_len, max_lr, moms, div_factor, pct_start, final_div, wd, callbacks, tot_epochs, start_epoch)\u001b[0m\n\u001b[1;32m     21\u001b[0m     callbacks.append(OneCycleScheduler(learn, max_lr, moms=moms, div_factor=div_factor, pct_start=pct_start,\n\u001b[1;32m     22\u001b[0m                                        final_div=final_div, tot_epochs=tot_epochs, start_epoch=start_epoch))\n\u001b[0;32m---> 23\u001b[0;31m     \u001b[0mlearn\u001b[0m\u001b[0;34m.\u001b[0m\u001b[0mfit\u001b[0m\u001b[0;34m(\u001b[0m\u001b[0mcyc_len\u001b[0m\u001b[0;34m,\u001b[0m \u001b[0mmax_lr\u001b[0m\u001b[0;34m,\u001b[0m \u001b[0mwd\u001b[0m\u001b[0;34m=\u001b[0m\u001b[0mwd\u001b[0m\u001b[0;34m,\u001b[0m \u001b[0mcallbacks\u001b[0m\u001b[0;34m=\u001b[0m\u001b[0mcallbacks\u001b[0m\u001b[0;34m)\u001b[0m\u001b[0;34m\u001b[0m\u001b[0;34m\u001b[0m\u001b[0m\n\u001b[0m\u001b[1;32m     24\u001b[0m \u001b[0;34m\u001b[0m\u001b[0m\n\u001b[1;32m     25\u001b[0m def fit_fc(learn:Learner, tot_epochs:int=1, lr:float=defaults.lr,  moms:Tuple[float,float]=(0.95,0.85), start_pct:float=0.72,\n",
            "\u001b[0;32m/usr/local/lib/python3.7/dist-packages/fastai/basic_train.py\u001b[0m in \u001b[0;36mfit\u001b[0;34m(self, epochs, lr, wd, callbacks)\u001b[0m\n\u001b[1;32m    198\u001b[0m         \u001b[0;32melse\u001b[0m\u001b[0;34m:\u001b[0m \u001b[0mself\u001b[0m\u001b[0;34m.\u001b[0m\u001b[0mopt\u001b[0m\u001b[0;34m.\u001b[0m\u001b[0mlr\u001b[0m\u001b[0;34m,\u001b[0m\u001b[0mself\u001b[0m\u001b[0;34m.\u001b[0m\u001b[0mopt\u001b[0m\u001b[0;34m.\u001b[0m\u001b[0mwd\u001b[0m \u001b[0;34m=\u001b[0m \u001b[0mlr\u001b[0m\u001b[0;34m,\u001b[0m\u001b[0mwd\u001b[0m\u001b[0;34m\u001b[0m\u001b[0;34m\u001b[0m\u001b[0m\n\u001b[1;32m    199\u001b[0m         \u001b[0mcallbacks\u001b[0m \u001b[0;34m=\u001b[0m \u001b[0;34m[\u001b[0m\u001b[0mcb\u001b[0m\u001b[0;34m(\u001b[0m\u001b[0mself\u001b[0m\u001b[0;34m)\u001b[0m \u001b[0;32mfor\u001b[0m \u001b[0mcb\u001b[0m \u001b[0;32min\u001b[0m \u001b[0mself\u001b[0m\u001b[0;34m.\u001b[0m\u001b[0mcallback_fns\u001b[0m \u001b[0;34m+\u001b[0m \u001b[0mlistify\u001b[0m\u001b[0;34m(\u001b[0m\u001b[0mdefaults\u001b[0m\u001b[0;34m.\u001b[0m\u001b[0mextra_callback_fns\u001b[0m\u001b[0;34m)\u001b[0m\u001b[0;34m]\u001b[0m \u001b[0;34m+\u001b[0m \u001b[0mlistify\u001b[0m\u001b[0;34m(\u001b[0m\u001b[0mcallbacks\u001b[0m\u001b[0;34m)\u001b[0m\u001b[0;34m\u001b[0m\u001b[0;34m\u001b[0m\u001b[0m\n\u001b[0;32m--> 200\u001b[0;31m         \u001b[0mfit\u001b[0m\u001b[0;34m(\u001b[0m\u001b[0mepochs\u001b[0m\u001b[0;34m,\u001b[0m \u001b[0mself\u001b[0m\u001b[0;34m,\u001b[0m \u001b[0mmetrics\u001b[0m\u001b[0;34m=\u001b[0m\u001b[0mself\u001b[0m\u001b[0;34m.\u001b[0m\u001b[0mmetrics\u001b[0m\u001b[0;34m,\u001b[0m \u001b[0mcallbacks\u001b[0m\u001b[0;34m=\u001b[0m\u001b[0mself\u001b[0m\u001b[0;34m.\u001b[0m\u001b[0mcallbacks\u001b[0m\u001b[0;34m+\u001b[0m\u001b[0mcallbacks\u001b[0m\u001b[0;34m)\u001b[0m\u001b[0;34m\u001b[0m\u001b[0;34m\u001b[0m\u001b[0m\n\u001b[0m\u001b[1;32m    201\u001b[0m \u001b[0;34m\u001b[0m\u001b[0m\n\u001b[1;32m    202\u001b[0m     \u001b[0;32mdef\u001b[0m \u001b[0mcreate_opt\u001b[0m\u001b[0;34m(\u001b[0m\u001b[0mself\u001b[0m\u001b[0;34m,\u001b[0m \u001b[0mlr\u001b[0m\u001b[0;34m:\u001b[0m\u001b[0mFloats\u001b[0m\u001b[0;34m,\u001b[0m \u001b[0mwd\u001b[0m\u001b[0;34m:\u001b[0m\u001b[0mFloats\u001b[0m\u001b[0;34m=\u001b[0m\u001b[0;36m0.\u001b[0m\u001b[0;34m)\u001b[0m\u001b[0;34m->\u001b[0m\u001b[0;32mNone\u001b[0m\u001b[0;34m:\u001b[0m\u001b[0;34m\u001b[0m\u001b[0;34m\u001b[0m\u001b[0m\n",
            "\u001b[0;32m/usr/local/lib/python3.7/dist-packages/fastai/basic_train.py\u001b[0m in \u001b[0;36mfit\u001b[0;34m(epochs, learn, callbacks, metrics)\u001b[0m\n\u001b[1;32m     99\u001b[0m             \u001b[0;32mfor\u001b[0m \u001b[0mxb\u001b[0m\u001b[0;34m,\u001b[0m\u001b[0myb\u001b[0m \u001b[0;32min\u001b[0m \u001b[0mprogress_bar\u001b[0m\u001b[0;34m(\u001b[0m\u001b[0mlearn\u001b[0m\u001b[0;34m.\u001b[0m\u001b[0mdata\u001b[0m\u001b[0;34m.\u001b[0m\u001b[0mtrain_dl\u001b[0m\u001b[0;34m,\u001b[0m \u001b[0mparent\u001b[0m\u001b[0;34m=\u001b[0m\u001b[0mpbar\u001b[0m\u001b[0;34m)\u001b[0m\u001b[0;34m:\u001b[0m\u001b[0;34m\u001b[0m\u001b[0;34m\u001b[0m\u001b[0m\n\u001b[1;32m    100\u001b[0m                 \u001b[0mxb\u001b[0m\u001b[0;34m,\u001b[0m \u001b[0myb\u001b[0m \u001b[0;34m=\u001b[0m \u001b[0mcb_handler\u001b[0m\u001b[0;34m.\u001b[0m\u001b[0mon_batch_begin\u001b[0m\u001b[0;34m(\u001b[0m\u001b[0mxb\u001b[0m\u001b[0;34m,\u001b[0m \u001b[0myb\u001b[0m\u001b[0;34m)\u001b[0m\u001b[0;34m\u001b[0m\u001b[0;34m\u001b[0m\u001b[0m\n\u001b[0;32m--> 101\u001b[0;31m                 \u001b[0mloss\u001b[0m \u001b[0;34m=\u001b[0m \u001b[0mloss_batch\u001b[0m\u001b[0;34m(\u001b[0m\u001b[0mlearn\u001b[0m\u001b[0;34m.\u001b[0m\u001b[0mmodel\u001b[0m\u001b[0;34m,\u001b[0m \u001b[0mxb\u001b[0m\u001b[0;34m,\u001b[0m \u001b[0myb\u001b[0m\u001b[0;34m,\u001b[0m \u001b[0mlearn\u001b[0m\u001b[0;34m.\u001b[0m\u001b[0mloss_func\u001b[0m\u001b[0;34m,\u001b[0m \u001b[0mlearn\u001b[0m\u001b[0;34m.\u001b[0m\u001b[0mopt\u001b[0m\u001b[0;34m,\u001b[0m \u001b[0mcb_handler\u001b[0m\u001b[0;34m)\u001b[0m\u001b[0;34m\u001b[0m\u001b[0;34m\u001b[0m\u001b[0m\n\u001b[0m\u001b[1;32m    102\u001b[0m                 \u001b[0;32mif\u001b[0m \u001b[0mcb_handler\u001b[0m\u001b[0;34m.\u001b[0m\u001b[0mon_batch_end\u001b[0m\u001b[0;34m(\u001b[0m\u001b[0mloss\u001b[0m\u001b[0;34m)\u001b[0m\u001b[0;34m:\u001b[0m \u001b[0;32mbreak\u001b[0m\u001b[0;34m\u001b[0m\u001b[0;34m\u001b[0m\u001b[0m\n\u001b[1;32m    103\u001b[0m \u001b[0;34m\u001b[0m\u001b[0m\n",
            "\u001b[0;32m/usr/local/lib/python3.7/dist-packages/fastai/basic_train.py\u001b[0m in \u001b[0;36mloss_batch\u001b[0;34m(model, xb, yb, loss_func, opt, cb_handler)\u001b[0m\n\u001b[1;32m     28\u001b[0m \u001b[0;34m\u001b[0m\u001b[0m\n\u001b[1;32m     29\u001b[0m     \u001b[0;32mif\u001b[0m \u001b[0;32mnot\u001b[0m \u001b[0mloss_func\u001b[0m\u001b[0;34m:\u001b[0m \u001b[0;32mreturn\u001b[0m \u001b[0mto_detach\u001b[0m\u001b[0;34m(\u001b[0m\u001b[0mout\u001b[0m\u001b[0;34m)\u001b[0m\u001b[0;34m,\u001b[0m \u001b[0mto_detach\u001b[0m\u001b[0;34m(\u001b[0m\u001b[0myb\u001b[0m\u001b[0;34m[\u001b[0m\u001b[0;36m0\u001b[0m\u001b[0;34m]\u001b[0m\u001b[0;34m)\u001b[0m\u001b[0;34m\u001b[0m\u001b[0;34m\u001b[0m\u001b[0m\n\u001b[0;32m---> 30\u001b[0;31m     \u001b[0mloss\u001b[0m \u001b[0;34m=\u001b[0m \u001b[0mloss_func\u001b[0m\u001b[0;34m(\u001b[0m\u001b[0mout\u001b[0m\u001b[0;34m,\u001b[0m \u001b[0;34m*\u001b[0m\u001b[0myb\u001b[0m\u001b[0;34m)\u001b[0m\u001b[0;34m\u001b[0m\u001b[0;34m\u001b[0m\u001b[0m\n\u001b[0m\u001b[1;32m     31\u001b[0m \u001b[0;34m\u001b[0m\u001b[0m\n\u001b[1;32m     32\u001b[0m     \u001b[0;32mif\u001b[0m \u001b[0mopt\u001b[0m \u001b[0;32mis\u001b[0m \u001b[0;32mnot\u001b[0m \u001b[0;32mNone\u001b[0m\u001b[0;34m:\u001b[0m\u001b[0;34m\u001b[0m\u001b[0;34m\u001b[0m\u001b[0m\n",
            "\u001b[0;32m/usr/local/lib/python3.7/dist-packages/torch/nn/modules/loss.py\u001b[0m in \u001b[0;36m__init__\u001b[0;34m(self, weight, size_average, ignore_index, reduce, reduction)\u001b[0m\n\u001b[1;32m    210\u001b[0m     def __init__(self, weight: Optional[Tensor] = None, size_average=None, ignore_index: int = -100,\n\u001b[1;32m    211\u001b[0m                  reduce=None, reduction: str = 'mean') -> None:\n\u001b[0;32m--> 212\u001b[0;31m         \u001b[0msuper\u001b[0m\u001b[0;34m(\u001b[0m\u001b[0mNLLLoss\u001b[0m\u001b[0;34m,\u001b[0m \u001b[0mself\u001b[0m\u001b[0;34m)\u001b[0m\u001b[0;34m.\u001b[0m\u001b[0m__init__\u001b[0m\u001b[0;34m(\u001b[0m\u001b[0mweight\u001b[0m\u001b[0;34m,\u001b[0m \u001b[0msize_average\u001b[0m\u001b[0;34m,\u001b[0m \u001b[0mreduce\u001b[0m\u001b[0;34m,\u001b[0m \u001b[0mreduction\u001b[0m\u001b[0;34m)\u001b[0m\u001b[0;34m\u001b[0m\u001b[0;34m\u001b[0m\u001b[0m\n\u001b[0m\u001b[1;32m    213\u001b[0m         \u001b[0mself\u001b[0m\u001b[0;34m.\u001b[0m\u001b[0mignore_index\u001b[0m \u001b[0;34m=\u001b[0m \u001b[0mignore_index\u001b[0m\u001b[0;34m\u001b[0m\u001b[0;34m\u001b[0m\u001b[0m\n\u001b[1;32m    214\u001b[0m \u001b[0;34m\u001b[0m\u001b[0m\n",
            "\u001b[0;32m/usr/local/lib/python3.7/dist-packages/torch/nn/modules/loss.py\u001b[0m in \u001b[0;36m__init__\u001b[0;34m(self, weight, size_average, reduce, reduction)\u001b[0m\n\u001b[1;32m     23\u001b[0m \u001b[0;32mclass\u001b[0m \u001b[0m_WeightedLoss\u001b[0m\u001b[0;34m(\u001b[0m\u001b[0m_Loss\u001b[0m\u001b[0;34m)\u001b[0m\u001b[0;34m:\u001b[0m\u001b[0;34m\u001b[0m\u001b[0;34m\u001b[0m\u001b[0m\n\u001b[1;32m     24\u001b[0m     \u001b[0;32mdef\u001b[0m \u001b[0m__init__\u001b[0m\u001b[0;34m(\u001b[0m\u001b[0mself\u001b[0m\u001b[0;34m,\u001b[0m \u001b[0mweight\u001b[0m\u001b[0;34m:\u001b[0m \u001b[0mOptional\u001b[0m\u001b[0;34m[\u001b[0m\u001b[0mTensor\u001b[0m\u001b[0;34m]\u001b[0m \u001b[0;34m=\u001b[0m \u001b[0;32mNone\u001b[0m\u001b[0;34m,\u001b[0m \u001b[0msize_average\u001b[0m\u001b[0;34m=\u001b[0m\u001b[0;32mNone\u001b[0m\u001b[0;34m,\u001b[0m \u001b[0mreduce\u001b[0m\u001b[0;34m=\u001b[0m\u001b[0;32mNone\u001b[0m\u001b[0;34m,\u001b[0m \u001b[0mreduction\u001b[0m\u001b[0;34m:\u001b[0m \u001b[0mstr\u001b[0m \u001b[0;34m=\u001b[0m \u001b[0;34m'mean'\u001b[0m\u001b[0;34m)\u001b[0m \u001b[0;34m->\u001b[0m \u001b[0;32mNone\u001b[0m\u001b[0;34m:\u001b[0m\u001b[0;34m\u001b[0m\u001b[0;34m\u001b[0m\u001b[0m\n\u001b[0;32m---> 25\u001b[0;31m         \u001b[0msuper\u001b[0m\u001b[0;34m(\u001b[0m\u001b[0m_WeightedLoss\u001b[0m\u001b[0;34m,\u001b[0m \u001b[0mself\u001b[0m\u001b[0;34m)\u001b[0m\u001b[0;34m.\u001b[0m\u001b[0m__init__\u001b[0m\u001b[0;34m(\u001b[0m\u001b[0msize_average\u001b[0m\u001b[0;34m,\u001b[0m \u001b[0mreduce\u001b[0m\u001b[0;34m,\u001b[0m \u001b[0mreduction\u001b[0m\u001b[0;34m)\u001b[0m\u001b[0;34m\u001b[0m\u001b[0;34m\u001b[0m\u001b[0m\n\u001b[0m\u001b[1;32m     26\u001b[0m         \u001b[0mself\u001b[0m\u001b[0;34m.\u001b[0m\u001b[0mregister_buffer\u001b[0m\u001b[0;34m(\u001b[0m\u001b[0;34m'weight'\u001b[0m\u001b[0;34m,\u001b[0m \u001b[0mweight\u001b[0m\u001b[0;34m)\u001b[0m\u001b[0;34m\u001b[0m\u001b[0;34m\u001b[0m\u001b[0m\n\u001b[1;32m     27\u001b[0m         \u001b[0mself\u001b[0m\u001b[0;34m.\u001b[0m\u001b[0mweight\u001b[0m\u001b[0;34m:\u001b[0m \u001b[0mOptional\u001b[0m\u001b[0;34m[\u001b[0m\u001b[0mTensor\u001b[0m\u001b[0;34m]\u001b[0m\u001b[0;34m\u001b[0m\u001b[0;34m\u001b[0m\u001b[0m\n",
            "\u001b[0;32m/usr/local/lib/python3.7/dist-packages/torch/nn/modules/loss.py\u001b[0m in \u001b[0;36m__init__\u001b[0;34m(self, size_average, reduce, reduction)\u001b[0m\n\u001b[1;32m     16\u001b[0m         \u001b[0msuper\u001b[0m\u001b[0;34m(\u001b[0m\u001b[0m_Loss\u001b[0m\u001b[0;34m,\u001b[0m \u001b[0mself\u001b[0m\u001b[0;34m)\u001b[0m\u001b[0;34m.\u001b[0m\u001b[0m__init__\u001b[0m\u001b[0;34m(\u001b[0m\u001b[0;34m)\u001b[0m\u001b[0;34m\u001b[0m\u001b[0;34m\u001b[0m\u001b[0m\n\u001b[1;32m     17\u001b[0m         \u001b[0;32mif\u001b[0m \u001b[0msize_average\u001b[0m \u001b[0;32mis\u001b[0m \u001b[0;32mnot\u001b[0m \u001b[0;32mNone\u001b[0m \u001b[0;32mor\u001b[0m \u001b[0mreduce\u001b[0m \u001b[0;32mis\u001b[0m \u001b[0;32mnot\u001b[0m \u001b[0;32mNone\u001b[0m\u001b[0;34m:\u001b[0m\u001b[0;34m\u001b[0m\u001b[0;34m\u001b[0m\u001b[0m\n\u001b[0;32m---> 18\u001b[0;31m             \u001b[0mself\u001b[0m\u001b[0;34m.\u001b[0m\u001b[0mreduction\u001b[0m\u001b[0;34m:\u001b[0m \u001b[0mstr\u001b[0m \u001b[0;34m=\u001b[0m \u001b[0m_Reduction\u001b[0m\u001b[0;34m.\u001b[0m\u001b[0mlegacy_get_string\u001b[0m\u001b[0;34m(\u001b[0m\u001b[0msize_average\u001b[0m\u001b[0;34m,\u001b[0m \u001b[0mreduce\u001b[0m\u001b[0;34m)\u001b[0m\u001b[0;34m\u001b[0m\u001b[0;34m\u001b[0m\u001b[0m\n\u001b[0m\u001b[1;32m     19\u001b[0m         \u001b[0;32melse\u001b[0m\u001b[0;34m:\u001b[0m\u001b[0;34m\u001b[0m\u001b[0;34m\u001b[0m\u001b[0m\n\u001b[1;32m     20\u001b[0m             \u001b[0mself\u001b[0m\u001b[0;34m.\u001b[0m\u001b[0mreduction\u001b[0m \u001b[0;34m=\u001b[0m \u001b[0mreduction\u001b[0m\u001b[0;34m\u001b[0m\u001b[0;34m\u001b[0m\u001b[0m\n",
            "\u001b[0;32m/usr/local/lib/python3.7/dist-packages/torch/nn/_reduction.py\u001b[0m in \u001b[0;36mlegacy_get_string\u001b[0;34m(size_average, reduce, emit_warning)\u001b[0m\n\u001b[1;32m     33\u001b[0m         \u001b[0mreduce\u001b[0m \u001b[0;34m=\u001b[0m \u001b[0;32mTrue\u001b[0m\u001b[0;34m\u001b[0m\u001b[0;34m\u001b[0m\u001b[0m\n\u001b[1;32m     34\u001b[0m \u001b[0;34m\u001b[0m\u001b[0m\n\u001b[0;32m---> 35\u001b[0;31m     \u001b[0;32mif\u001b[0m \u001b[0msize_average\u001b[0m \u001b[0;32mand\u001b[0m \u001b[0mreduce\u001b[0m\u001b[0;34m:\u001b[0m\u001b[0;34m\u001b[0m\u001b[0;34m\u001b[0m\u001b[0m\n\u001b[0m\u001b[1;32m     36\u001b[0m         \u001b[0mret\u001b[0m \u001b[0;34m=\u001b[0m \u001b[0;34m'mean'\u001b[0m\u001b[0;34m\u001b[0m\u001b[0;34m\u001b[0m\u001b[0m\n\u001b[1;32m     37\u001b[0m     \u001b[0;32melif\u001b[0m \u001b[0mreduce\u001b[0m\u001b[0;34m:\u001b[0m\u001b[0;34m\u001b[0m\u001b[0;34m\u001b[0m\u001b[0m\n",
            "\u001b[0;31mRuntimeError\u001b[0m: Boolean value of Tensor with more than one value is ambiguous"
          ]
        }
      ]
    },
    {
      "cell_type": "code",
      "metadata": {
        "id": "eEEfkHybUU5d"
      },
      "source": [
        ""
      ],
      "execution_count": null,
      "outputs": []
    },
    {
      "cell_type": "code",
      "metadata": {
        "colab": {
          "base_uri": "https://localhost:8080/",
          "height": 269
        },
        "id": "SdtJrHRIX9UD",
        "outputId": "b4322d17-ef57-43e9-b0d8-f4d7191630d4"
      },
      "source": [
        "for test_images, test_labels in trainloader:  \n",
        "    plt.imshow(test_images[0][0])\n",
        "    break"
      ],
      "execution_count": null,
      "outputs": [
        {
          "output_type": "display_data",
          "data": {
            "image/png": "[encoded data removed]",
            "text/plain": [
              "<Figure size 432x288 with 1 Axes>"
            ]
          },
          "metadata": {
            "needs_background": "light"
          }
        }
      ]
    },
    {
      "cell_type": "code",
      "metadata": {
        "id": "t6smVJg5iYUo"
      },
      "source": [
        ""
      ],
      "execution_count": null,
      "outputs": []
    },
    {
      "cell_type": "code",
      "metadata": {
        "id": "SUcklY91iMe7"
      },
      "source": [
        ""
      ],
      "execution_count": null,
      "outputs": []
    },
    {
      "cell_type": "code",
      "metadata": {
        "id": "j9gjbpGBhE0I"
      },
      "source": [
        ""
      ],
      "execution_count": null,
      "outputs": []
    },
    {
      "cell_type": "code",
      "metadata": {
        "id": "fO9AwqiTh-iV"
      },
      "source": [
        ""
      ],
      "execution_count": null,
      "outputs": []
    },
    {
      "cell_type": "code",
      "metadata": {
        "id": "05vagm5vh8_m"
      },
      "source": [
        ""
      ],
      "execution_count": null,
      "outputs": []
    },
    {
      "cell_type": "code",
      "metadata": {
        "id": "EUxpqr4lh7MK"
      },
      "source": [
        ""
      ],
      "execution_count": null,
      "outputs": []
    },
    {
      "cell_type": "code",
      "metadata": {
        "id": "yYpQfyY4h5Uu"
      },
      "source": [
        ""
      ],
      "execution_count": null,
      "outputs": []
    },
    {
      "cell_type": "code",
      "metadata": {
        "id": "itFV0jF_h2fY"
      },
      "source": [
        ""
      ],
      "execution_count": null,
      "outputs": []
    }
  ]
}