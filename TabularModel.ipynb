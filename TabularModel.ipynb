{
  "nbformat": 4,
  "nbformat_minor": 0,
  "metadata": {
    "colab": {
      "name": "TabularModel.ipynb",
      "provenance": [],
      "include_colab_link": true
    },
    "kernelspec": {
      "name": "python3",
      "language": "python",
      "display_name": "Python 3 (ipykernel)"
    },
    "language_info": {
      "name": "python"
    }
  },
  "cells": [
    {
      "cell_type": "markdown",
      "metadata": {
        "id": "view-in-github",
        "colab_type": "text"
      },
      "source": [
        "<a href=\"https://colab.research.google.com/github/HadarRosenwald/severity-detection/blob/main/TabularModel.ipynb\" target=\"_parent\"><img src=\"https://colab.research.google.com/assets/colab-badge.svg\" alt=\"Open In Colab\"/></a>"
      ]
    },
    {
      "cell_type": "code",
      "metadata": {
        "colab": {
          "base_uri": "https://localhost:8080/"
        },
        "id": "rzXczdsF9n6q",
        "outputId": "cb62c4aa-2eda-4112-ddef-643c1d8b4362"
      },
      "source": [
        "!pip -q install torchxrayvision\n",
        "!pip -q install image_tabular"
      ],
      "execution_count": 1,
      "outputs": [
        {
          "output_type": "stream",
          "name": "stdout",
          "text": [
            "\u001b[K     |████████████████████████████████| 29.0 MB 13 kB/s \n",
            "\u001b[K     |████████████████████████████████| 2.0 MB 42.7 MB/s \n",
            "\u001b[?25h"
          ]
        }
      ]
    },
    {
      "cell_type": "code",
      "metadata": {
        "id": "hMUSLeYeVM7C"
      },
      "source": [
        "# !rm -rf \"/content/covid-chestxray-dataset\""
      ],
      "execution_count": 85,
      "outputs": []
    },
    {
      "cell_type": "code",
      "metadata": {
        "id": "GrPVIisu9hwb"
      },
      "source": [
        "import matplotlib.pyplot as plt\n",
        "import os\n",
        "import shutil\n",
        "import torch\n",
        "import torchxrayvision as xrv\n",
        "import numpy as np\n",
        "import pandas as pd\n",
        "from torch import nn\n",
        "from torch import optim\n",
        "import torch.nn.functional as F\n",
        "from torchvision import datasets, transforms, models\n",
        "import fastai\n",
        "from fastai.tabular.data import TabularList\n",
        "import image_tabular as imtab\n",
        "from sklearn.model_selection import train_test_split\n",
        "import math\n",
        "\n",
        "from fastai.vision import *\n",
        "from fastai.tabular import *\n",
        "from image_tabular.core import *\n",
        "from image_tabular.dataset import *\n",
        "from image_tabular.model import *\n",
        "from image_tabular.metric import *"
      ],
      "execution_count": 2,
      "outputs": []
    },
    {
      "cell_type": "code",
      "metadata": {
        "colab": {
          "base_uri": "https://localhost:8080/"
        },
        "id": "XUkKzkBq9mtq",
        "outputId": "8b68ec8e-d919-49b8-fc2a-16b2a19d4230"
      },
      "source": [
        "!git clone https://github.com/ieee8023/covid-chestxray-dataset\n",
        "d = xrv.datasets.COVID19_Dataset(imgpath=\"covid-chestxray-dataset/images/\",csvpath=\"covid-chestxray-dataset/metadata.csv\")"
      ],
      "execution_count": 86,
      "outputs": [
        {
          "output_type": "stream",
          "name": "stdout",
          "text": [
            "Cloning into 'covid-chestxray-dataset'...\n",
            "remote: Enumerating objects: 3641, done.\u001b[K\n",
            "remote: Total 3641 (delta 0), reused 0 (delta 0), pack-reused 3641\u001b[K\n",
            "Receiving objects: 100% (3641/3641), 632.96 MiB | 39.29 MiB/s, done.\n",
            "Resolving deltas: 100% (1450/1450), done.\n",
            "Checking out files: 100% (1174/1174), done.\n"
          ]
        }
      ]
    },
    {
      "cell_type": "markdown",
      "metadata": {
        "id": "phE8e_0-dZLC"
      },
      "source": [
        "# **Creating label**"
      ]
    },
    {
      "cell_type": "code",
      "metadata": {
        "pycharm": {
          "name": "#%%\n"
        },
        "id": "T2KiWKiDKFEy"
      },
      "source": [
        "def generate_label(x):\n",
        "    # no data\n",
        "    if np.all(pd.isna([x.survival, x.intubated, x.went_icu, x.needed_supplemental_O2])):\n",
        "        return np.NaN\n",
        "\n",
        "    # didn't survive\n",
        "    if x.survival=='N':\n",
        "        return '4'\n",
        "\n",
        "    #either survived or survival is unknown\n",
        "    if x.intubated == 'Y':\n",
        "        return '3'\n",
        "    if x.survival=='Y':\n",
        "        if x.went_icu == 'Y' or x.needed_supplemental_O2 == 'Y':\n",
        "            return '1'\n",
        "    if x.went_icu == 'Y' or x.needed_supplemental_O2 == 'Y':\n",
        "        return '2'\n",
        "    return '0'"
      ],
      "execution_count": 87,
      "outputs": []
    },
    {
      "cell_type": "code",
      "metadata": {
        "pycharm": {
          "name": "#%%\n"
        },
        "id": "NCyAvdsNKFE2"
      },
      "source": [
        "metadata = d.csv\n",
        "metadata['severity_class']=metadata.apply(generate_label, axis=1)"
      ],
      "execution_count": 88,
      "outputs": []
    },
    {
      "cell_type": "markdown",
      "metadata": {
        "id": "uyBPnYd-KeCI"
      },
      "source": [
        "# **Tabular Data handling**"
      ]
    },
    {
      "cell_type": "code",
      "metadata": {
        "id": "1km8Eh32-I-_"
      },
      "source": [
        "filtered_metadata = metadata.loc[(metadata.view!=\"APS\") & (metadata.offset>=0) & (metadata.offset<=8) & (metadata.intubation_present != 'Y') & (metadata.in_icu != 'Y')]\n",
        "filtered_metadata = filtered_metadata[['index','patientid','sex','age','RT_PCR_positive','temperature','pO2_saturation', 'leukocyte_count', 'neutrophil_count', 'lymphocyte_count', 'severity_class' ,'filename']]"
      ],
      "execution_count": 89,
      "outputs": []
    },
    {
      "cell_type": "code",
      "metadata": {
        "id": "-FIjDwaW-RWw"
      },
      "source": [
        "data_path = Path(\"./covid-chestxray-dataset/\")"
      ],
      "execution_count": 90,
      "outputs": []
    },
    {
      "cell_type": "code",
      "metadata": {
        "colab": {
          "base_uri": "https://localhost:8080/",
          "height": 226
        },
        "id": "nhyCvo0B-bBl",
        "outputId": "f7a289b8-7882-4d4b-a726-f23722a92bde"
      },
      "source": [
        "train_df, test_df = train_test_split(filtered_metadata, test_size=0.2)\n",
        "\n",
        "train_df = train_df.dropna(subset=['severity_class'])\n",
        "test_df = test_df.dropna(subset=['severity_class'])\n",
        "\n",
        "train_df.head()"
      ],
      "execution_count": 91,
      "outputs": [
        {
          "output_type": "execute_result",
          "data": {
            "text/html": [
              "<div>\n",
              "<style scoped>\n",
              "    .dataframe tbody tr th:only-of-type {\n",
              "        vertical-align: middle;\n",
              "    }\n",
              "\n",
              "    .dataframe tbody tr th {\n",
              "        vertical-align: top;\n",
              "    }\n",
              "\n",
              "    .dataframe thead th {\n",
              "        text-align: right;\n",
              "    }\n",
              "</style>\n",
              "<table border=\"1\" class=\"dataframe\">\n",
              "  <thead>\n",
              "    <tr style=\"text-align: right;\">\n",
              "      <th></th>\n",
              "      <th>index</th>\n",
              "      <th>patientid</th>\n",
              "      <th>sex</th>\n",
              "      <th>age</th>\n",
              "      <th>RT_PCR_positive</th>\n",
              "      <th>temperature</th>\n",
              "      <th>pO2_saturation</th>\n",
              "      <th>leukocyte_count</th>\n",
              "      <th>neutrophil_count</th>\n",
              "      <th>lymphocyte_count</th>\n",
              "      <th>severity_class</th>\n",
              "      <th>filename</th>\n",
              "    </tr>\n",
              "  </thead>\n",
              "  <tbody>\n",
              "    <tr>\n",
              "      <th>265</th>\n",
              "      <td>434</td>\n",
              "      <td>229</td>\n",
              "      <td>F</td>\n",
              "      <td>NaN</td>\n",
              "      <td>Unclear</td>\n",
              "      <td>NaN</td>\n",
              "      <td>55.0</td>\n",
              "      <td>NaN</td>\n",
              "      <td>NaN</td>\n",
              "      <td>NaN</td>\n",
              "      <td>0</td>\n",
              "      <td>2cd63b76.jpg</td>\n",
              "    </tr>\n",
              "    <tr>\n",
              "      <th>445</th>\n",
              "      <td>765</td>\n",
              "      <td>399</td>\n",
              "      <td>F</td>\n",
              "      <td>62.0</td>\n",
              "      <td>NaN</td>\n",
              "      <td>NaN</td>\n",
              "      <td>NaN</td>\n",
              "      <td>NaN</td>\n",
              "      <td>NaN</td>\n",
              "      <td>NaN</td>\n",
              "      <td>3</td>\n",
              "      <td>000001-4.jpg</td>\n",
              "    </tr>\n",
              "    <tr>\n",
              "      <th>323</th>\n",
              "      <td>547</td>\n",
              "      <td>291</td>\n",
              "      <td>F</td>\n",
              "      <td>61.0</td>\n",
              "      <td>Y</td>\n",
              "      <td>37.6</td>\n",
              "      <td>NaN</td>\n",
              "      <td>NaN</td>\n",
              "      <td>NaN</td>\n",
              "      <td>NaN</td>\n",
              "      <td>0</td>\n",
              "      <td>296_2020_4584_Fig2_HTML-a.png</td>\n",
              "    </tr>\n",
              "    <tr>\n",
              "      <th>268</th>\n",
              "      <td>438</td>\n",
              "      <td>233</td>\n",
              "      <td>M</td>\n",
              "      <td>NaN</td>\n",
              "      <td>Unclear</td>\n",
              "      <td>NaN</td>\n",
              "      <td>25.0</td>\n",
              "      <td>NaN</td>\n",
              "      <td>2.2</td>\n",
              "      <td>0.4</td>\n",
              "      <td>1</td>\n",
              "      <td>441c9cdd.jpg</td>\n",
              "    </tr>\n",
              "    <tr>\n",
              "      <th>397</th>\n",
              "      <td>673</td>\n",
              "      <td>358</td>\n",
              "      <td>F</td>\n",
              "      <td>25.0</td>\n",
              "      <td>Y</td>\n",
              "      <td>NaN</td>\n",
              "      <td>NaN</td>\n",
              "      <td>NaN</td>\n",
              "      <td>NaN</td>\n",
              "      <td>NaN</td>\n",
              "      <td>0</td>\n",
              "      <td>b0f1684d1ee90dc09deef015e29dae_jumbo.jpeg</td>\n",
              "    </tr>\n",
              "  </tbody>\n",
              "</table>\n",
              "</div>"
            ],
            "text/plain": [
              "     index patientid  ... severity_class                                   filename\n",
              "265    434       229  ...              0                               2cd63b76.jpg\n",
              "445    765       399  ...              3                               000001-4.jpg\n",
              "323    547       291  ...              0              296_2020_4584_Fig2_HTML-a.png\n",
              "268    438       233  ...              1                               441c9cdd.jpg\n",
              "397    673       358  ...              0  b0f1684d1ee90dc09deef015e29dae_jumbo.jpeg\n",
              "\n",
              "[5 rows x 12 columns]"
            ]
          },
          "metadata": {},
          "execution_count": 91
        }
      ]
    },
    {
      "cell_type": "code",
      "metadata": {
        "id": "IhrUSSth_Z9c"
      },
      "source": [
        "val_idx = get_valid_index(train_df)\n",
        "# Features with categorical values\n",
        "cat_names = ['sex', 'RT_PCR_positive']\n",
        "# Features with continious values\n",
        "cont_names = ['age', 'temperature', 'pO2_saturation', 'leukocyte_count', 'neutrophil_count', 'lymphocyte_count']\n",
        "# Target\n",
        "dep_var = ['severity_class']\n",
        "procs = [FillMissing, Categorify, Normalize]"
      ],
      "execution_count": 92,
      "outputs": []
    },
    {
      "cell_type": "code",
      "metadata": {
        "id": "bSyZQiFlB_SV",
        "outputId": "ea935ded-6be6-4af1-f16a-048f90366687",
        "colab": {
          "base_uri": "https://localhost:8080/"
        }
      },
      "source": [
        "tab_data = (TabularList.from_df(train_df, path=data_path, cat_names=cat_names, cont_names=cont_names, procs=procs).split_by_idx(val_idx).label_from_df(cols=dep_var))\n",
        "\n",
        "#add test - currently returns an error\n",
        "tab_data.add_test(TabularList.from_df(test_df, cat_names=cat_names, cont_names=cont_names, processor=tab_data.train.x.processor))"
      ],
      "execution_count": 93,
      "outputs": [
        {
          "output_type": "execute_result",
          "data": {
            "text/plain": [
              "LabelLists;\n",
              "\n",
              "Train: LabelList (82 items)\n",
              "x: TabularList\n",
              "sex F; RT_PCR_positive Unclear; age_na True; temperature_na True; pO2_saturation_na False; leukocyte_count_na True; neutrophil_count_na True; lymphocyte_count_na True; age 0.1223; temperature 0.0809; pO2_saturation -0.7301; leukocyte_count -0.0496; neutrophil_count -0.1245; lymphocyte_count -0.1266; ,sex F; RT_PCR_positive #na#; age_na False; temperature_na True; pO2_saturation_na True; leukocyte_count_na True; neutrophil_count_na True; lymphocyte_count_na True; age 0.6793; temperature 0.0809; pO2_saturation 0.0315; leukocyte_count -0.0496; neutrophil_count -0.1245; lymphocyte_count -0.1266; ,sex M; RT_PCR_positive Unclear; age_na True; temperature_na True; pO2_saturation_na False; leukocyte_count_na True; neutrophil_count_na False; lymphocyte_count_na False; age 0.1223; temperature 0.0809; pO2_saturation -2.6342; leukocyte_count -0.0496; neutrophil_count -0.9672; lymphocyte_count -0.8521; ,sex F; RT_PCR_positive Y; age_na False; temperature_na True; pO2_saturation_na True; leukocyte_count_na True; neutrophil_count_na True; lymphocyte_count_na True; age -2.2651; temperature 0.0809; pO2_saturation 0.0315; leukocyte_count -0.0496; neutrophil_count -0.1245; lymphocyte_count -0.1266; ,sex F; RT_PCR_positive Y; age_na False; temperature_na True; pO2_saturation_na True; leukocyte_count_na True; neutrophil_count_na True; lymphocyte_count_na True; age 1.0772; temperature 0.0809; pO2_saturation 0.0315; leukocyte_count -0.0496; neutrophil_count -0.1245; lymphocyte_count -0.1266; \n",
              "y: CategoryList\n",
              "0,3,1,0,4\n",
              "Path: covid-chestxray-dataset;\n",
              "\n",
              "Valid: LabelList (20 items)\n",
              "x: TabularList\n",
              "sex F; RT_PCR_positive Y; age_na False; temperature_na True; pO2_saturation_na True; leukocyte_count_na True; neutrophil_count_na True; lymphocyte_count_na True; age -1.0714; temperature 0.0809; pO2_saturation 0.0315; leukocyte_count -0.0496; neutrophil_count -0.1245; lymphocyte_count -0.1266; ,sex F; RT_PCR_positive Y; age_na False; temperature_na False; pO2_saturation_na False; leukocyte_count_na True; neutrophil_count_na True; lymphocyte_count_na True; age 1.3956; temperature 1.7383; pO2_saturation 1.6817; leukocyte_count -0.0496; neutrophil_count -0.1245; lymphocyte_count -0.1266; ,sex F; RT_PCR_positive Y; age_na False; temperature_na False; pO2_saturation_na True; leukocyte_count_na True; neutrophil_count_na True; lymphocyte_count_na True; age 0.5998; temperature -2.9026; pO2_saturation 0.0315; leukocyte_count -0.0496; neutrophil_count -0.1245; lymphocyte_count -0.1266; ,sex M; RT_PCR_positive Y; age_na False; temperature_na False; pO2_saturation_na False; leukocyte_count_na True; neutrophil_count_na True; lymphocyte_count_na True; age -1.4693; temperature -4.2285; pO2_saturation 1.8721; leukocyte_count -0.0496; neutrophil_count -0.1245; lymphocyte_count -0.1266; ,sex F; RT_PCR_positive Unclear; age_na True; temperature_na True; pO2_saturation_na False; leukocyte_count_na True; neutrophil_count_na True; lymphocyte_count_na True; age 0.1223; temperature 0.0809; pO2_saturation -2.3169; leukocyte_count -0.0496; neutrophil_count -0.1245; lymphocyte_count -0.1266; \n",
              "y: CategoryList\n",
              "0,0,0,1,0\n",
              "Path: covid-chestxray-dataset;\n",
              "\n",
              "Test: LabelList (36 items)\n",
              "x: TabularList\n",
              "sex F; RT_PCR_positive Unclear; age_na False; temperature_na True; pO2_saturation_na True; leukocyte_count_na True; neutrophil_count_na True; lymphocyte_count_na True; age -1.9468; temperature 0.0809; pO2_saturation 0.0315; leukocyte_count -0.0496; neutrophil_count -0.1245; lymphocyte_count -0.1266; ,sex F; RT_PCR_positive Y; age_na False; temperature_na True; pO2_saturation_na True; leukocyte_count_na True; neutrophil_count_na True; lymphocyte_count_na True; age 1.9526; temperature 0.0809; pO2_saturation 0.0315; leukocyte_count -0.0496; neutrophil_count -0.1245; lymphocyte_count -0.1266; ,sex M; RT_PCR_positive Unclear; age_na True; temperature_na True; pO2_saturation_na True; leukocyte_count_na True; neutrophil_count_na True; lymphocyte_count_na True; age 0.1223; temperature 0.0809; pO2_saturation 0.0315; leukocyte_count -0.0496; neutrophil_count -0.1245; lymphocyte_count -0.1266; ,sex M; RT_PCR_positive #na#; age_na False; temperature_na True; pO2_saturation_na True; leukocyte_count_na True; neutrophil_count_na True; lymphocyte_count_na True; age 1.7934; temperature 0.0809; pO2_saturation 0.0315; leukocyte_count -0.0496; neutrophil_count -0.1245; lymphocyte_count -0.1266; ,sex F; RT_PCR_positive Y; age_na False; temperature_na True; pO2_saturation_na True; leukocyte_count_na True; neutrophil_count_na True; lymphocyte_count_na True; age 1.6343; temperature 0.0809; pO2_saturation 0.0315; leukocyte_count -0.0496; neutrophil_count -0.1245; lymphocyte_count -0.1266; \n",
              "y: EmptyLabelList\n",
              ",,,,\n",
              "Path: covid-chestxray-dataset"
            ]
          },
          "metadata": {},
          "execution_count": 93
        }
      ]
    },
    {
      "cell_type": "code",
      "metadata": {
        "id": "H_RkugIyF4st",
        "outputId": "1dc0a516-d7d7-458a-8bad-e3ae0820107e",
        "colab": {
          "base_uri": "https://localhost:8080/"
        }
      },
      "source": [
        "# embedding sizes of categorical data\n",
        "emb_szs = tab_data.train.get_emb_szs()\n",
        "# output size, will be concatenated with the CNN, same output size\n",
        "tab_out_sz = 5\n",
        "# The tabular model\n",
        "tabular_model = TabularModel(emb_szs, len(cont_names), out_sz=tab_out_sz, layers=[8], ps=0.2)\n",
        "tabular_model"
      ],
      "execution_count": 94,
      "outputs": [
        {
          "output_type": "execute_result",
          "data": {
            "text/plain": [
              "TabularModel(\n",
              "  (embeds): ModuleList(\n",
              "    (0): Embedding(3, 3)\n",
              "    (1): Embedding(3, 3)\n",
              "    (2): Embedding(3, 3)\n",
              "    (3): Embedding(3, 3)\n",
              "    (4): Embedding(3, 3)\n",
              "    (5): Embedding(3, 3)\n",
              "    (6): Embedding(3, 3)\n",
              "    (7): Embedding(3, 3)\n",
              "  )\n",
              "  (emb_drop): Dropout(p=0.0, inplace=False)\n",
              "  (bn_cont): BatchNorm1d(6, eps=1e-05, momentum=0.1, affine=True, track_running_stats=True)\n",
              "  (layers): Sequential(\n",
              "    (0): Linear(in_features=30, out_features=8, bias=True)\n",
              "    (1): ReLU(inplace=True)\n",
              "    (2): BatchNorm1d(8, eps=1e-05, momentum=0.1, affine=True, track_running_stats=True)\n",
              "    (3): Dropout(p=0.2, inplace=False)\n",
              "    (4): Linear(in_features=8, out_features=5, bias=True)\n",
              "  )\n",
              ")"
            ]
          },
          "metadata": {},
          "execution_count": 94
        }
      ]
    },
    {
      "cell_type": "markdown",
      "metadata": {
        "id": "sTYIwRNueS6j"
      },
      "source": [
        "# **Image Data handling**"
      ]
    },
    {
      "cell_type": "code",
      "metadata": {
        "id": "SJQviipsfZpa"
      },
      "source": [
        "def create_sub_image_folder(dataframe, imgs_type):\n",
        "  filtered_imgpath = d.imgpath + '/' + imgs_type + '/'\n",
        "  filtered_filenames = dataframe.filename + ';' + dataframe.severity_class\n",
        "  if not os.path.exists(filtered_imgpath):\n",
        "      os.mkdir(filtered_imgpath)\n",
        "  # for severity_class in list(dataframe.severity_class):\n",
        "  #       if not os.path.exists(filtered_imgpath + f'/{severity_class}'):\n",
        "  #           os.mkdir(filtered_imgpath + f'/{severity_class}')\n",
        "  for file_name_label in filtered_filenames:\n",
        "      file_name, label = file_name_label.split(';')\n",
        "      src = d.imgpath + file_name\n",
        "      # dst = filtered_imgpath + label + '/' + file_name\n",
        "      dst = filtered_imgpath + file_name\n",
        "      if not os.path.exists(dst):\n",
        "          shutil.copyfile(src, dst)"
      ],
      "execution_count": 95,
      "outputs": []
    },
    {
      "cell_type": "code",
      "metadata": {
        "id": "1RnuSTZhmMSy"
      },
      "source": [
        "create_sub_image_folder(train_df, 'train')\n",
        "create_sub_image_folder(test_df, 'test')\n",
        "filtered_img_base_path = d.imgpath + '/'"
      ],
      "execution_count": 96,
      "outputs": []
    },
    {
      "cell_type": "code",
      "metadata": {
        "id": "NTAGIkzMiYOr"
      },
      "source": [
        "train_transforms = transforms.Compose([transforms.Grayscale(num_output_channels=1),\n",
        "                                       transforms.RandomRotation(30),\n",
        "                                       transforms.RandomResizedCrop(224),\n",
        "                                       transforms.RandomHorizontalFlip(),\n",
        "                                       transforms.ToTensor(),\n",
        "                                       transforms.Normalize((0.5), (0.5))])\n",
        "\n",
        "\n",
        "test_transforms = transforms.Compose([transforms.Grayscale(num_output_channels=1),\n",
        "                                     transforms.Resize(255),\n",
        "                                     transforms.CenterCrop(224),\n",
        "                                     transforms.ToTensor()])\n",
        "\n",
        "tfms = get_transforms()\n",
        "\n",
        "image_data = (ImageList.from_df(train_df, path=d.imgpath, convert_mode='LA', cols='filename', folder=\"train\")\n",
        "    .split_by_idx(val_idx).label_from_df(cols=dep_var))\n",
        "\n",
        "image_data = image_data.transform(tfms=tfms, size=224, resize_method = ResizeMethod.SQUISH)\n",
        "# train_data = datasets.ImageFolder(filtered_img_base_path + '/train', transform=train_transforms)\n",
        "# test_data = datasets.ImageFolder(filtered_img_base_path + '/test', transform=test_transforms)\n",
        "\n",
        "# trainloader = torch.utils.data.DataLoader(train_data, batch_size=64, shuffle=True)\n",
        "# testloader = torch.utils.data.DataLoader(test_data, batch_size=64)"
      ],
      "execution_count": 171,
      "outputs": []
    },
    {
      "cell_type": "code",
      "metadata": {
        "colab": {
          "base_uri": "https://localhost:8080/"
        },
        "id": "fc_3VVwJpNXw",
        "outputId": "1ab2451f-823b-482b-e6ca-b1cecd488dee"
      },
      "source": [
        "model = xrv.models.DenseNet(weights=\"densenet121-res224-all\")\n",
        "model.classifier"
      ],
      "execution_count": 16,
      "outputs": [
        {
          "output_type": "stream",
          "name": "stdout",
          "text": [
            "Downloading weights...\n",
            "If this fails you can run `wget https://github.com/mlmed/torchxrayvision/releases/download/v1/nih-pc-chex-mimic_ch-google-openi-kaggle-densenet121-d121-tw-lr001-rot45-tr15-sc15-seed0-best.pt -O /root/.torchxrayvision/models_data/nih-pc-chex-mimic_ch-google-openi-kaggle-densenet121-d121-tw-lr001-rot45-tr15-sc15-seed0-best.pt`\n",
            "[██████████████████████████████████████████████████]\n"
          ]
        },
        {
          "output_type": "execute_result",
          "data": {
            "text/plain": [
              "Linear(in_features=1024, out_features=18, bias=True)"
            ]
          },
          "metadata": {},
          "execution_count": 16
        }
      ]
    },
    {
      "cell_type": "code",
      "metadata": {
        "id": "5lQfXGarpQgN"
      },
      "source": [
        "# Don't backprop model parameters!\n",
        "for param in model.parameters():\n",
        "    param.requires_grad = False\n",
        "    \n",
        "# New classifier\n",
        "model.classifier = nn.Sequential(nn.Linear(1024, 512),\n",
        "                          nn.ReLU(),\n",
        "                          nn.Dropout(0.2),\n",
        "                          nn.Linear(512,256),\n",
        "                          nn.ReLU(),\n",
        "                          nn.Dropout(0.2),\n",
        "                          nn.Linear(256,5))\n",
        "\n",
        "#criterion = nn.NLLLoss()\n",
        "\n",
        "# Training only the classifier parameters, model parameters remains unchanged\n",
        "optimizer = optim.RMSprop(model.classifier.parameters(), lr=0.004)"
      ],
      "execution_count": 17,
      "outputs": []
    },
    {
      "cell_type": "markdown",
      "metadata": {
        "id": "WAGFuUq_PHOV"
      },
      "source": [
        "# **Integrated Model**"
      ]
    },
    {
      "cell_type": "code",
      "metadata": {
        "id": "ZDa_y9qppYw0"
      },
      "source": [
        "img_tabular_model = CNNTabularModel(model,\n",
        "                                  tabular_model,\n",
        "                                  layers = [model.classifier[-1].out_features + tab_out_sz, 32],\n",
        "                                  ps=0.2,\n",
        "                                  out_sz=5)"
      ],
      "execution_count": 46,
      "outputs": []
    },
    {
      "cell_type": "code",
      "metadata": {
        "id": "fh8wfT0Zq_rb"
      },
      "source": [
        "img_tabular_model"
      ],
      "execution_count": null,
      "outputs": []
    },
    {
      "cell_type": "code",
      "metadata": {
        "id": "Eo1UbznxNRfu",
        "outputId": "a38c244d-ff35-4f72-9cad-cfaf61e74769",
        "colab": {
          "base_uri": "https://localhost:8080/"
        }
      },
      "source": [
        ""
      ],
      "execution_count": 53,
      "outputs": [
        {
          "output_type": "execute_result",
          "data": {
            "text/plain": [
              "fastai.basic_data.DataBunch"
            ]
          },
          "metadata": {},
          "execution_count": 53
        }
      ]
    }
  ]
}