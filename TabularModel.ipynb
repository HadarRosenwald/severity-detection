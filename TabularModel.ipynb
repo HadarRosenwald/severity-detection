{
  "nbformat": 4,
  "nbformat_minor": 0,
  "metadata": {
    "colab": {
      "name": "TabularModel.ipynb",
      "provenance": [],
      "toc_visible": true
    },
    "kernelspec": {
      "name": "python3",
      "language": "python",
      "display_name": "Python 3 (ipykernel)"
    },
    "language_info": {
      "name": "python"
    }
  },
  "cells": [
    {
      "cell_type": "markdown",
      "metadata": {
        "collapsed": false,
        "id": "Q5F2yE_KCPLt"
      },
      "source": [
        "<a href=\"https://colab.research.google.com/github/HadarRosenwald/severity-detection/blob/main/TabularModel.ipynb\" target=\"_parent\"><img src=\"https://colab.research.google.com/assets/colab-badge.svg\" alt=\"Open In Colab\"/></a>"
      ]
    },
    {
      "cell_type": "code",
      "metadata": {
        "pycharm": {
          "name": "#%%\n"
        },
        "id": "aMaY-JqMCPLv"
      },
      "source": [
        "!pip -q install torchxrayvision\n",
        "!pip -q install image_tabular"
      ],
      "execution_count": 1,
      "outputs": []
    },
    {
      "cell_type": "code",
      "metadata": {
        "id": "wUbyi5VYID2s"
      },
      "source": [
        "# torch.__version__"
      ],
      "execution_count": 2,
      "outputs": []
    },
    {
      "cell_type": "code",
      "metadata": {
        "pycharm": {
          "name": "#%%\n"
        },
        "id": "RPOUV9nuCPLw"
      },
      "source": [
        "import matplotlib.pyplot as plt\n",
        "import os\n",
        "import shutil\n",
        "import torch\n",
        "import torchxrayvision as xrv\n",
        "import numpy as np\n",
        "import pandas as pd\n",
        "from torch import nn\n",
        "from torch import optim\n",
        "import torch.nn.functional as F\n",
        "from torchvision import datasets, transforms, models\n",
        "import fastai\n",
        "from fastai.tabular.data import TabularList\n",
        "import image_tabular as imtab\n",
        "from sklearn.model_selection import train_test_split\n",
        "import math\n",
        "\n",
        "\n",
        "from fastai.vision import *\n",
        "from fastai.tabular import *\n",
        "from image_tabular.core import *\n",
        "from image_tabular.dataset import *\n",
        "from image_tabular.model import *\n",
        "from image_tabular.metric import *"
      ],
      "execution_count": 3,
      "outputs": []
    },
    {
      "cell_type": "code",
      "metadata": {
        "id": "YmOrm7VtE0Hh"
      },
      "source": [
        "!rm -rf covid-chestxray-dataset"
      ],
      "execution_count": 4,
      "outputs": []
    },
    {
      "cell_type": "code",
      "metadata": {
        "pycharm": {
          "name": "#%%\n"
        },
        "id": "1Z1t7KsWCPLw",
        "colab": {
          "base_uri": "https://localhost:8080/"
        },
        "outputId": "5b2eade8-a64e-4b4a-ef53-34eb30a5eaa2"
      },
      "source": [
        "!git clone https://github.com/ieee8023/covid-chestxray-dataset\n",
        "d = xrv.datasets.COVID19_Dataset(imgpath=\"covid-chestxray-dataset/images/\",csvpath=\"covid-chestxray-dataset/metadata.csv\")"
      ],
      "execution_count": 5,
      "outputs": [
        {
          "output_type": "stream",
          "name": "stdout",
          "text": [
            "Cloning into 'covid-chestxray-dataset'...\n",
            "remote: Enumerating objects: 3641, done.\u001b[K\n",
            "remote: Total 3641 (delta 0), reused 0 (delta 0), pack-reused 3641\u001b[K\n",
            "Receiving objects: 100% (3641/3641), 632.96 MiB | 34.22 MiB/s, done.\n",
            "Resolving deltas: 100% (1450/1450), done.\n",
            "Checking out files: 100% (1174/1174), done.\n"
          ]
        }
      ]
    },
    {
      "cell_type": "markdown",
      "metadata": {
        "id": "nHfGT5usOnlj"
      },
      "source": [
        "# **Configurations**"
      ]
    },
    {
      "cell_type": "code",
      "metadata": {
        "id": "svu5iqk6OqAP"
      },
      "source": [
        "# data split\n",
        "test_pct=0.2\n",
        "valid_pct=0.2\n",
        "\n",
        "# models param\n",
        "##TAB\n",
        "tab_out_sz = 18 # output size that will be concatenated with the CNN, same output size\n",
        "dropout_prob_tab = 0.2\n",
        "tab_layers = [100, 200] # the sizes of the hidden fully connected layers between the input (after embedding) and before the classification layer. The number of hidden layers is determined by the length of the list.\n",
        "# TODO: tune this, for our data size, [100,200] seems highly overfitted. according to the rule of thumb bellow, we should have 0\n",
        "# https://forums.fast.ai/t/an-attempt-to-find-the-right-hidden-layer-size-for-your-tabular-learner/45714\n",
        "# len_train = 110; alpha = 2; n_input=8; n_output=18; io=n_input+n_output; numHiddenLayers=2\n",
        "# tab_layers = [(len_train//(alpha*(io)))//numHiddenLayers]*numHiddenLayers\n",
        "\n",
        "##CNN\n",
        "cnn_out_sz = 18 # following xrv.models.DenseNet output layer\n",
        "image_size = 224 # to fit xrv.models.DenseNet\n",
        "# image_resize_method = ResizeMethod.SQUISH\n",
        "image_convert_mode = 'L' #for greyscale\n",
        "\n",
        "##CNN_TAB\n",
        "cnn_tabular_dropout_prob = 0.2\n",
        "cnn_tabular_layers = [cnn_out_sz + tab_out_sz, 32]\n",
        "cnn_tabular_out_sz = 5 #number of classes\n",
        "batch_size = 64\n",
        "n_epoch = 2\n",
        "\n",
        "\n",
        "# misc\n",
        "seed=42\n",
        "data_path = Path(\"./covid-chestxray-dataset/\")\n",
        "device = torch.device('cuda:0' if torch.cuda.is_available() else 'cpu')"
      ],
      "execution_count": 6,
      "outputs": []
    },
    {
      "cell_type": "code",
      "metadata": {
        "id": "6ME4NNclllLy"
      },
      "source": [
        ""
      ],
      "execution_count": 6,
      "outputs": []
    },
    {
      "cell_type": "code",
      "metadata": {
        "id": "rSCSTm6Ck2tk"
      },
      "source": [
        ""
      ],
      "execution_count": 6,
      "outputs": []
    },
    {
      "cell_type": "markdown",
      "metadata": {
        "collapsed": false,
        "id": "eATwgX-1CPLx"
      },
      "source": [
        "# **Creating label**"
      ]
    },
    {
      "cell_type": "code",
      "metadata": {
        "pycharm": {
          "name": "#%%\n"
        },
        "id": "KbNCuzXZCPLx"
      },
      "source": [
        "def generate_label(x):\n",
        "    # no data\n",
        "    if np.all(pd.isna([x.survival, x.intubated, x.went_icu, x.needed_supplemental_O2])):\n",
        "        return np.NaN\n",
        "\n",
        "    # didn't survive\n",
        "    if x.survival=='N':\n",
        "        return '4'\n",
        "\n",
        "    #either survived or survival is unknown\n",
        "    if x.intubated == 'Y':\n",
        "        return '3'\n",
        "    if x.survival=='Y':\n",
        "        if x.went_icu == 'Y' or x.needed_supplemental_O2 == 'Y':\n",
        "            return '1'\n",
        "    if x.went_icu == 'Y' or x.needed_supplemental_O2 == 'Y':\n",
        "        return '2'\n",
        "    return '0'"
      ],
      "execution_count": 7,
      "outputs": []
    },
    {
      "cell_type": "code",
      "metadata": {
        "pycharm": {
          "name": "#%%\n"
        },
        "id": "JquZTpMCCPLx"
      },
      "source": [
        "metadata = d.csv\n",
        "metadata['severity_class']=metadata.apply(generate_label, axis=1)"
      ],
      "execution_count": 8,
      "outputs": []
    },
    {
      "cell_type": "markdown",
      "metadata": {
        "id": "USaxB9lRCWQc"
      },
      "source": [
        "# **Tabular Data handling**"
      ]
    },
    {
      "cell_type": "markdown",
      "metadata": {
        "id": "DH5jZ8OaOcbM"
      },
      "source": [
        "## **Avoiding confounders**"
      ]
    },
    {
      "cell_type": "code",
      "metadata": {
        "pycharm": {
          "name": "#%%\n"
        },
        "id": "MUGSnQSqCPLy"
      },
      "source": [
        "filtered_metadata = metadata.loc[(metadata.view!=\"APS\") & (metadata.offset>=0) & (metadata.offset<=8) & (metadata.intubation_present != 'Y') & (metadata.in_icu != 'Y')]\n",
        "filtered_metadata = filtered_metadata[['index','patientid','sex','age','RT_PCR_positive','temperature','pO2_saturation', 'leukocyte_count', 'neutrophil_count', 'lymphocyte_count', 'severity_class' ,'filename']]"
      ],
      "execution_count": 9,
      "outputs": []
    },
    {
      "cell_type": "markdown",
      "metadata": {
        "id": "Pt0OzKWmPTQB"
      },
      "source": [
        "## **Handling missing data**"
      ]
    },
    {
      "cell_type": "code",
      "metadata": {
        "id": "Jqteqo3fO0Hg"
      },
      "source": [
        "filtered_metadata = filtered_metadata.dropna(subset=['severity_class'], how='any')"
      ],
      "execution_count": 10,
      "outputs": []
    },
    {
      "cell_type": "code",
      "metadata": {
        "colab": {
          "base_uri": "https://localhost:8080/",
          "height": 296
        },
        "id": "oezmYzeeO--E",
        "outputId": "58b3d63d-2c9e-438c-ad9c-7d18600d754e"
      },
      "source": [
        "filtered_metadata.head()"
      ],
      "execution_count": 11,
      "outputs": [
        {
          "output_type": "execute_result",
          "data": {
            "text/html": [
              "<div>\n",
              "<style scoped>\n",
              "    .dataframe tbody tr th:only-of-type {\n",
              "        vertical-align: middle;\n",
              "    }\n",
              "\n",
              "    .dataframe tbody tr th {\n",
              "        vertical-align: top;\n",
              "    }\n",
              "\n",
              "    .dataframe thead th {\n",
              "        text-align: right;\n",
              "    }\n",
              "</style>\n",
              "<table border=\"1\" class=\"dataframe\">\n",
              "  <thead>\n",
              "    <tr style=\"text-align: right;\">\n",
              "      <th></th>\n",
              "      <th>index</th>\n",
              "      <th>patientid</th>\n",
              "      <th>sex</th>\n",
              "      <th>age</th>\n",
              "      <th>RT_PCR_positive</th>\n",
              "      <th>temperature</th>\n",
              "      <th>pO2_saturation</th>\n",
              "      <th>leukocyte_count</th>\n",
              "      <th>neutrophil_count</th>\n",
              "      <th>lymphocyte_count</th>\n",
              "      <th>severity_class</th>\n",
              "      <th>filename</th>\n",
              "    </tr>\n",
              "  </thead>\n",
              "  <tbody>\n",
              "    <tr>\n",
              "      <th>0</th>\n",
              "      <td>0</td>\n",
              "      <td>2</td>\n",
              "      <td>M</td>\n",
              "      <td>65.0</td>\n",
              "      <td>Y</td>\n",
              "      <td>NaN</td>\n",
              "      <td>NaN</td>\n",
              "      <td>NaN</td>\n",
              "      <td>NaN</td>\n",
              "      <td>NaN</td>\n",
              "      <td>1</td>\n",
              "      <td>auntminnie-a-2020_01_28_23_51_6665_2020_01_28_...</td>\n",
              "    </tr>\n",
              "    <tr>\n",
              "      <th>1</th>\n",
              "      <td>1</td>\n",
              "      <td>2</td>\n",
              "      <td>M</td>\n",
              "      <td>65.0</td>\n",
              "      <td>Y</td>\n",
              "      <td>NaN</td>\n",
              "      <td>NaN</td>\n",
              "      <td>NaN</td>\n",
              "      <td>NaN</td>\n",
              "      <td>NaN</td>\n",
              "      <td>1</td>\n",
              "      <td>auntminnie-b-2020_01_28_23_51_6665_2020_01_28_...</td>\n",
              "    </tr>\n",
              "    <tr>\n",
              "      <th>2</th>\n",
              "      <td>2</td>\n",
              "      <td>2</td>\n",
              "      <td>M</td>\n",
              "      <td>65.0</td>\n",
              "      <td>Y</td>\n",
              "      <td>NaN</td>\n",
              "      <td>NaN</td>\n",
              "      <td>NaN</td>\n",
              "      <td>NaN</td>\n",
              "      <td>NaN</td>\n",
              "      <td>1</td>\n",
              "      <td>auntminnie-c-2020_01_28_23_51_6665_2020_01_28_...</td>\n",
              "    </tr>\n",
              "    <tr>\n",
              "      <th>3</th>\n",
              "      <td>3</td>\n",
              "      <td>2</td>\n",
              "      <td>M</td>\n",
              "      <td>65.0</td>\n",
              "      <td>Y</td>\n",
              "      <td>NaN</td>\n",
              "      <td>NaN</td>\n",
              "      <td>NaN</td>\n",
              "      <td>NaN</td>\n",
              "      <td>NaN</td>\n",
              "      <td>1</td>\n",
              "      <td>auntminnie-d-2020_01_28_23_51_6665_2020_01_28_...</td>\n",
              "    </tr>\n",
              "    <tr>\n",
              "      <th>4</th>\n",
              "      <td>4</td>\n",
              "      <td>4</td>\n",
              "      <td>F</td>\n",
              "      <td>52.0</td>\n",
              "      <td>Y</td>\n",
              "      <td>NaN</td>\n",
              "      <td>NaN</td>\n",
              "      <td>NaN</td>\n",
              "      <td>NaN</td>\n",
              "      <td>NaN</td>\n",
              "      <td>0</td>\n",
              "      <td>nejmc2001573_f1a.jpeg</td>\n",
              "    </tr>\n",
              "  </tbody>\n",
              "</table>\n",
              "</div>"
            ],
            "text/plain": [
              "   index  ...                                           filename\n",
              "0      0  ...  auntminnie-a-2020_01_28_23_51_6665_2020_01_28_...\n",
              "1      1  ...  auntminnie-b-2020_01_28_23_51_6665_2020_01_28_...\n",
              "2      2  ...  auntminnie-c-2020_01_28_23_51_6665_2020_01_28_...\n",
              "3      3  ...  auntminnie-d-2020_01_28_23_51_6665_2020_01_28_...\n",
              "4      4  ...                              nejmc2001573_f1a.jpeg\n",
              "\n",
              "[5 rows x 12 columns]"
            ]
          },
          "metadata": {},
          "execution_count": 11
        }
      ]
    },
    {
      "cell_type": "markdown",
      "metadata": {
        "id": "amnyhuYVPXyK"
      },
      "source": [
        "## **Train test and validation split**"
      ]
    },
    {
      "cell_type": "code",
      "metadata": {
        "pycharm": {
          "name": "#%%\n"
        },
        "id": "ZGr5dqVUCPLz"
      },
      "source": [
        "train_df, test_df = train_test_split(filtered_metadata, test_size=test_pct)\n",
        "\n",
        "# idx for validation, shared by image and tabular data\n",
        "val_idx = get_valid_index(train_df, valid_pct=valid_pct, seed=seed)"
      ],
      "execution_count": 12,
      "outputs": []
    },
    {
      "cell_type": "markdown",
      "metadata": {
        "id": "KtW9O19pPgcQ"
      },
      "source": [
        "## **Preparing fastai LabelLists**"
      ]
    },
    {
      "cell_type": "markdown",
      "metadata": {
        "id": "udE9NfiAceAH"
      },
      "source": [
        "### **Features**"
      ]
    },
    {
      "cell_type": "code",
      "metadata": {
        "pycharm": {
          "name": "#%%\n"
        },
        "id": "Ygc-2AFNCPLz"
      },
      "source": [
        "# Features with categorical values\n",
        "cat_names = ['sex', 'RT_PCR_positive']\n",
        "\n",
        "# Features with continious values\n",
        "cont_names = ['age', 'temperature', 'pO2_saturation', 'leukocyte_count', 'neutrophil_count', 'lymphocyte_count']"
      ],
      "execution_count": 13,
      "outputs": []
    },
    {
      "cell_type": "markdown",
      "metadata": {
        "id": "uBjLtSKycrwo"
      },
      "source": [
        "### **Labels**"
      ]
    },
    {
      "cell_type": "code",
      "metadata": {
        "id": "Dc-nQT6hVUf-"
      },
      "source": [
        "# Target\n",
        "dep_var = ['severity_class']"
      ],
      "execution_count": 14,
      "outputs": []
    },
    {
      "cell_type": "markdown",
      "metadata": {
        "id": "1bMoSEwHc6U2"
      },
      "source": [
        "### **Ensambling the tabular dataset**"
      ]
    },
    {
      "cell_type": "code",
      "metadata": {
        "pycharm": {
          "name": "#%%\n"
        },
        "id": "LXNBYD8NCPL0"
      },
      "source": [
        "# procs = [FillMissing, Categorify, Normalize] <- TODO do we need FillMissing?\n",
        "procs = [Categorify, Normalize]\n",
        "\n",
        "tab_data = (TabularList.from_df(train_df, path=data_path, cat_names=cat_names, cont_names=cont_names, procs=procs)\n",
        "            .split_by_idx(val_idx)\n",
        "            .label_from_df(cols=dep_var))\n",
        "\n",
        "test_tab_data = TabularList.from_df(test_df, cat_names=cat_names, cont_names=cont_names, processor=tab_data.train.x.processor)\n",
        "tab_data = tab_data.add_test(test_tab_data)"
      ],
      "execution_count": 15,
      "outputs": []
    },
    {
      "cell_type": "code",
      "metadata": {
        "colab": {
          "base_uri": "https://localhost:8080/"
        },
        "id": "6tPRhX4nW8ta",
        "outputId": "48f6a9ea-fe1c-4128-c233-d5ada6df8f67"
      },
      "source": [
        "# Iterating over tab_data items, printing class name and items len, using \n",
        "# `show_some()` to return the representation of the first 5 elements in `items`.\n",
        "tab_data\n",
        "# Note that the Test LabelList has no labels. Like in Kaggle competitions. This was changes in fastai 2. Look here: https://forums.fast.ai/t/empty-label-list-for-test-dataset-using-from-folder/57100"
      ],
      "execution_count": 16,
      "outputs": [
        {
          "output_type": "execute_result",
          "data": {
            "text/plain": [
              "LabelLists;\n",
              "\n",
              "Train: LabelList (88 items)\n",
              "x: TabularList\n",
              "sex F; RT_PCR_positive #na#; age -1.8635; temperature nan; pO2_saturation nan; leukocyte_count nan; neutrophil_count nan; lymphocyte_count nan; ,sex M; RT_PCR_positive Y; age -1.1106; temperature -1.1222; pO2_saturation 0.9707; leukocyte_count nan; neutrophil_count nan; lymphocyte_count nan; ,sex M; RT_PCR_positive Y; age 0.7718; temperature nan; pO2_saturation nan; leukocyte_count nan; neutrophil_count nan; lymphocyte_count nan; ,sex M; RT_PCR_positive Y; age -0.3576; temperature -0.3857; pO2_saturation nan; leukocyte_count nan; neutrophil_count nan; lymphocyte_count -0.3942; ,sex F; RT_PCR_positive Unclear; age nan; temperature nan; pO2_saturation nan; leukocyte_count nan; neutrophil_count nan; lymphocyte_count nan; \n",
              "y: CategoryList\n",
              "0,1,1,0,0\n",
              "Path: covid-chestxray-dataset;\n",
              "\n",
              "Valid: LabelList (22 items)\n",
              "x: TabularList\n",
              "sex M; RT_PCR_positive Y; age 1.3365; temperature nan; pO2_saturation nan; leukocyte_count nan; neutrophil_count nan; lymphocyte_count nan; ,sex F; RT_PCR_positive Unclear; age nan; temperature nan; pO2_saturation nan; leukocyte_count nan; neutrophil_count nan; lymphocyte_count nan; ,sex #na#; RT_PCR_positive Unclear; age nan; temperature nan; pO2_saturation nan; leukocyte_count nan; neutrophil_count nan; lymphocyte_count nan; ,sex M; RT_PCR_positive Unclear; age nan; temperature nan; pO2_saturation nan; leukocyte_count nan; neutrophil_count -0.1132; lymphocyte_count 0.3512; ,sex F; RT_PCR_positive Unclear; age nan; temperature nan; pO2_saturation -1.4454; leukocyte_count nan; neutrophil_count -0.2763; lymphocyte_count -0.3942; \n",
              "y: CategoryList\n",
              "3,0,3,0,0\n",
              "Path: covid-chestxray-dataset;\n",
              "\n",
              "Test: LabelList (28 items)\n",
              "x: TabularList\n",
              "sex M; RT_PCR_positive Y; age 0.2071; temperature 0.3507; pO2_saturation 1.0047; leukocyte_count 2.0795; neutrophil_count nan; lymphocyte_count nan; ,sex F; RT_PCR_positive Unclear; age nan; temperature nan; pO2_saturation -0.7648; leukocyte_count nan; neutrophil_count 1.6802; lymphocyte_count -0.0960; ,sex F; RT_PCR_positive Y; age 1.0855; temperature nan; pO2_saturation nan; leukocyte_count nan; neutrophil_count nan; lymphocyte_count nan; ,sex F; RT_PCR_positive Y; age -0.3576; temperature nan; pO2_saturation nan; leukocyte_count nan; neutrophil_count nan; lymphocyte_count nan; ,sex M; RT_PCR_positive #na#; age 0.4580; temperature nan; pO2_saturation nan; leukocyte_count nan; neutrophil_count nan; lymphocyte_count nan; \n",
              "y: EmptyLabelList\n",
              ",,,,\n",
              "Path: covid-chestxray-dataset"
            ]
          },
          "metadata": {},
          "execution_count": 16
        }
      ]
    },
    {
      "cell_type": "markdown",
      "metadata": {
        "id": "fNtuthuTrEKi"
      },
      "source": [
        "### one example from the tabular data"
      ]
    },
    {
      "cell_type": "code",
      "metadata": {
        "colab": {
          "base_uri": "https://localhost:8080/"
        },
        "id": "NV29g5pBrAGy",
        "outputId": "739b072d-c4a2-4b91-c896-7382c4ddbe5b"
      },
      "source": [
        "print(f\"features: {tab_data.train[8][0]}\")\n",
        "print(f\"class: {tab_data.train[8][1]}\")"
      ],
      "execution_count": 17,
      "outputs": [
        {
          "output_type": "stream",
          "name": "stdout",
          "text": [
            "features: sex F; RT_PCR_positive Y; age 0.2071; temperature -1.6482; pO2_saturation nan; leukocyte_count nan; neutrophil_count nan; lymphocyte_count nan; \n",
            "class: 0\n"
          ]
        }
      ]
    },
    {
      "cell_type": "markdown",
      "metadata": {
        "collapsed": false,
        "id": "A07rtGNlCPL0"
      },
      "source": [
        "# **Image Data handling**"
      ]
    },
    {
      "cell_type": "markdown",
      "metadata": {
        "id": "t387cDr7m2T_"
      },
      "source": [
        "## **Creating test and train image folders**"
      ]
    },
    {
      "cell_type": "code",
      "metadata": {
        "pycharm": {
          "name": "#%%\n"
        },
        "id": "gCRyT8qXCPL1"
      },
      "source": [
        "def create_sub_image_folder(dataframe, imgs_type, sub_dir_by_lable : bool):\n",
        "  filtered_imgpath = d.imgpath + '/' + imgs_type + '/'\n",
        "  filtered_filenames = dataframe.filename + ';' + dataframe.severity_class\n",
        "  if not os.path.exists(filtered_imgpath):\n",
        "      os.mkdir(filtered_imgpath)\n",
        "  if sub_dir_by_lable:\n",
        "    for severity_class in list(dataframe.severity_class):\n",
        "        if not os.path.exists(filtered_imgpath + f'/{severity_class}'):\n",
        "            os.mkdir(filtered_imgpath + f'/{severity_class}')\n",
        "  for file_name_label in filtered_filenames:\n",
        "      file_name, label = file_name_label.split(';')\n",
        "      src = d.imgpath + file_name\n",
        "      dst = filtered_imgpath + label + '/' + file_name if sub_dir_by_lable else filtered_imgpath + file_name\n",
        "      if not os.path.exists(dst):\n",
        "          shutil.copyfile(src, dst)"
      ],
      "execution_count": 18,
      "outputs": []
    },
    {
      "cell_type": "code",
      "metadata": {
        "pycharm": {
          "name": "#%%\n"
        },
        "id": "cxywk0U5CPL1"
      },
      "source": [
        "create_sub_image_folder(train_df, 'train', False)\n",
        "create_sub_image_folder(test_df, 'test', False)\n",
        "filtered_img_base_path = d.imgpath + '/'"
      ],
      "execution_count": 19,
      "outputs": []
    },
    {
      "cell_type": "code",
      "metadata": {
        "pycharm": {
          "name": "#%%\n"
        },
        "id": "gPJbhu6_CPL1"
      },
      "source": [
        "# train_transforms = transforms.Compose([transforms.Grayscale(num_output_channels=1),\n",
        "#                                        transforms.RandomRotation(30),\n",
        "#                                        transforms.RandomResizedCrop(224),\n",
        "#                                        transforms.RandomHorizontalFlip(),\n",
        "#                                        transforms.ToTensor(),\n",
        "#                                        transforms.Normalize((0.5), (0.5))])\n",
        "\n",
        "# test_transforms = transforms.Compose([transforms.Grayscale(num_output_channels=1),\n",
        "#                                      transforms.Resize(255),\n",
        "#                                      transforms.CenterCrop(224),\n",
        "#                                      transforms.ToTensor()])\n",
        "\n",
        "# train_data = datasets.ImageFolder(filtered_img_base_path + '/train', transform=train_transforms)\n",
        "# test_data = datasets.ImageFolder(filtered_img_base_path + '/test', transform=test_transforms)\n",
        "# # train_data, val_data, test_data = split_data(data)\n",
        "\n",
        "# trainloader = torch.utils.data.DataLoader(train_data, batch_size=64, shuffle=True)\n",
        "# testloader = torch.utils.data.DataLoader(test_data, batch_size=64)"
      ],
      "execution_count": 20,
      "outputs": []
    },
    {
      "cell_type": "markdown",
      "metadata": {
        "id": "skycfQ7RnwFU"
      },
      "source": [
        "## **Preparing fastai LabelLists**"
      ]
    },
    {
      "cell_type": "code",
      "metadata": {
        "colab": {
          "base_uri": "https://localhost:8080/"
        },
        "id": "NXhuyozYjNTz",
        "outputId": "1a063a5d-36eb-448e-d584-322e68cce9c9"
      },
      "source": [
        "tfms = get_transforms(xtra_tfms=crop_pad(size=image_size))\n",
        "\n",
        "\n",
        "image_data = (ImageList.from_df(train_df, path=d.imgpath, cols=\"filename\", \n",
        "                                folder=\"train\", convert_mode = image_convert_mode)\n",
        "                        .split_by_idx(val_idx)\n",
        "                        .label_from_df(cols=dep_var)\n",
        "                        # ).transform(tfms, size=image_size, resize_method=image_resize_method)\n",
        "                        ).transform(tfms, size=image_size)\n",
        "            \n",
        "test_image_data = ImageList.from_df(test_df, path=d.imgpath, cols=\"filename\",\n",
        "                                    folder=\"test\", convert_mode = image_convert_mode)\n",
        "image_data = image_data.add_test(test_image_data)\n",
        "image_data"
      ],
      "execution_count": 21,
      "outputs": [
        {
          "output_type": "execute_result",
          "data": {
            "text/plain": [
              "LabelLists;\n",
              "\n",
              "Train: LabelList (88 items)\n",
              "x: ImageList\n",
              "Image (1, 224, 224),Image (1, 224, 224),Image (1, 224, 224),Image (1, 224, 224),Image (1, 224, 224)\n",
              "y: CategoryList\n",
              "0,1,1,0,0\n",
              "Path: covid-chestxray-dataset/images;\n",
              "\n",
              "Valid: LabelList (22 items)\n",
              "x: ImageList\n",
              "Image (1, 224, 224),Image (1, 224, 224),Image (1, 224, 224),Image (1, 224, 224),Image (1, 224, 224)\n",
              "y: CategoryList\n",
              "3,0,3,0,0\n",
              "Path: covid-chestxray-dataset/images;\n",
              "\n",
              "Test: LabelList (28 items)\n",
              "x: ImageList\n",
              "Image (1, 224, 224),Image (1, 224, 224),Image (1, 224, 224),Image (1, 224, 224),Image (1, 224, 224)\n",
              "y: EmptyLabelList\n",
              ",,,,\n",
              "Path: covid-chestxray-dataset/images"
            ]
          },
          "metadata": {},
          "execution_count": 21
        }
      ]
    },
    {
      "cell_type": "markdown",
      "metadata": {
        "id": "ZKOU_hfurjJH"
      },
      "source": [
        "### one example from the image data"
      ]
    },
    {
      "cell_type": "code",
      "metadata": {
        "colab": {
          "base_uri": "https://localhost:8080/",
          "height": 258
        },
        "id": "He4Op0OCpVtQ",
        "outputId": "31afb061-3ca1-48b5-9727-bd78af615a84"
      },
      "source": [
        "print(f\"Class: {image_data.train[8][1]}\")\n",
        "image_data.train[8][0]\n",
        "\n",
        "#TODO understand why it keeps changing. looks like the same photo, but augmented differently each time. maybe its the squish"
      ],
      "execution_count": 22,
      "outputs": [
        {
          "output_type": "stream",
          "name": "stdout",
          "text": [
            "Class: 0\n"
          ]
        },
        {
          "output_type": "execute_result",
          "data": {
            "image/png": "[encoded data removed]",
            "image/jpeg": "[encoded data removed]",
            "text/plain": [
              "Image (1, 224, 224)"
            ]
          },
          "metadata": {},
          "execution_count": 22
        }
      ]
    },
    {
      "cell_type": "markdown",
      "metadata": {
        "id": "xqFJLXd04K48"
      },
      "source": [
        "# **Integrate image and tabular data**"
      ]
    },
    {
      "cell_type": "code",
      "metadata": {
        "colab": {
          "base_uri": "https://localhost:8080/"
        },
        "id": "xUGE9pvj4bHG",
        "outputId": "c6aa1134-0c1f-45dd-9c08-46e6961adf99"
      },
      "source": [
        "integrate_train, integrate_val, integrate_test = get_imagetabdatasets(image_data, tab_data)\n",
        "\n",
        "db = DataBunch.create(integrate_train, integrate_val, integrate_test, path=data_path, bs=batch_size)\n",
        "db"
      ],
      "execution_count": 23,
      "outputs": [
        {
          "output_type": "execute_result",
          "data": {
            "text/plain": [
              "DataBunch;\n",
              "\n",
              "Train: <image_tabular.dataset.ImageTabDataset object at 0x7f02f58e6910>;\n",
              "\n",
              "Valid: <image_tabular.dataset.ImageTabDataset object at 0x7f02f58e6f50>;\n",
              "\n",
              "Test: <image_tabular.dataset.ImageTabDataset object at 0x7f02f58e6b10>"
            ]
          },
          "metadata": {},
          "execution_count": 23
        }
      ]
    },
    {
      "cell_type": "code",
      "metadata": {
        "id": "DqswIQkI5qZe"
      },
      "source": [
        "# TODO do we need this? I think it ruins the images, making them 3 channels again\n",
        "# # image normalization with imagenet_stats\n",
        "# db.norm, db.denorm = normalize_funcs_image_tab(*imagenet_stats)\n",
        "# db.add_tfm(db.norm)"
      ],
      "execution_count": 24,
      "outputs": []
    },
    {
      "cell_type": "code",
      "metadata": {
        "colab": {
          "base_uri": "https://localhost:8080/"
        },
        "id": "PqfNC9dpJ1uU",
        "outputId": "dc91e84d-e539-4c7d-fecb-249c789f2d07"
      },
      "source": [
        "x, y = next(iter(db.train_dl))\n",
        "\n",
        "print(f\"x holds {len(x)} items\")\n",
        "print(f\"first item - batch of images ({x[0].shape})\")\n",
        "print(f\"second item - holds both categorial ({x[1][0].shape}) and continuous ({x[1][1].shape}) tabular data\")\n",
        "\n",
        "print(f\"y is the targets ({y.shape})\")"
      ],
      "execution_count": 25,
      "outputs": [
        {
          "output_type": "stream",
          "name": "stdout",
          "text": [
            "x holds 2 items\n",
            "first item - batch of images (torch.Size([64, 1, 224, 224]))\n",
            "second item - holds both categorial (torch.Size([64, 2])) and continuous (torch.Size([64, 6])) tabular data\n",
            "y is the targets (torch.Size([64]))\n"
          ]
        }
      ]
    },
    {
      "cell_type": "markdown",
      "metadata": {
        "id": "5pc5IOV60Rza"
      },
      "source": [
        "# **The models**"
      ]
    },
    {
      "cell_type": "markdown",
      "metadata": {
        "id": "Oc0oPaRUPoP3"
      },
      "source": [
        "### **The tabular model**"
      ]
    },
    {
      "cell_type": "code",
      "metadata": {
        "pycharm": {
          "name": "#%%\n"
        },
        "colab": {
          "base_uri": "https://localhost:8080/"
        },
        "id": "PHcIw1y_CPL0",
        "outputId": "6508657e-8ecd-4a17-cde2-eb2b15443476"
      },
      "source": [
        "# embedding sizes of categorical data. Return the default embedding sizes suitable for this data. Using the rule of thumb - min(600, round(1.6 * n_cat**0.56))\n",
        "# TODO think if we want to replace that with one-hot, since they are binary\n",
        "emb_szs = tab_data.train.get_emb_szs()\n",
        "print(f\"emb_szs: {emb_szs}\")\n",
        "\n",
        "# The tabular model\n",
        "tabular_model = TabularModel(emb_szs=emb_szs, n_cont = len(cont_names), out_sz=tab_out_sz, layers=tab_layers, ps=dropout_prob_tab)\n",
        "tabular_model"
      ],
      "execution_count": 26,
      "outputs": [
        {
          "output_type": "stream",
          "name": "stdout",
          "text": [
            "emb_szs: [(3, 3), (3, 3)]\n"
          ]
        },
        {
          "output_type": "execute_result",
          "data": {
            "text/plain": [
              "TabularModel(\n",
              "  (embeds): ModuleList(\n",
              "    (0): Embedding(3, 3)\n",
              "    (1): Embedding(3, 3)\n",
              "  )\n",
              "  (emb_drop): Dropout(p=0.0, inplace=False)\n",
              "  (bn_cont): BatchNorm1d(6, eps=1e-05, momentum=0.1, affine=True, track_running_stats=True)\n",
              "  (layers): Sequential(\n",
              "    (0): Linear(in_features=12, out_features=100, bias=True)\n",
              "    (1): ReLU(inplace=True)\n",
              "    (2): BatchNorm1d(100, eps=1e-05, momentum=0.1, affine=True, track_running_stats=True)\n",
              "    (3): Dropout(p=0.2, inplace=False)\n",
              "    (4): Linear(in_features=100, out_features=200, bias=True)\n",
              "    (5): ReLU(inplace=True)\n",
              "    (6): BatchNorm1d(200, eps=1e-05, momentum=0.1, affine=True, track_running_stats=True)\n",
              "    (7): Dropout(p=0.2, inplace=False)\n",
              "    (8): Linear(in_features=200, out_features=18, bias=True)\n",
              "  )\n",
              ")"
            ]
          },
          "metadata": {},
          "execution_count": 26
        }
      ]
    },
    {
      "cell_type": "markdown",
      "metadata": {
        "id": "qJ_WcBtBoHGo"
      },
      "source": [
        "## **The CNN model** \n",
        "Using pretrained xrv.models.DenseNet for transfer learning"
      ]
    },
    {
      "cell_type": "code",
      "metadata": {
        "pycharm": {
          "name": "#%%\n"
        },
        "colab": {
          "base_uri": "https://localhost:8080/"
        },
        "id": "vEc9uRjdCPL2",
        "outputId": "328154a0-5039-41bc-b590-1ad33d4eb0ae"
      },
      "source": [
        "cnn_model = xrv.models.DenseNet(weights=\"densenet121-res224-all\")\n",
        "cnn_model.classifier"
      ],
      "execution_count": 27,
      "outputs": [
        {
          "output_type": "execute_result",
          "data": {
            "text/plain": [
              "Linear(in_features=1024, out_features=18, bias=True)"
            ]
          },
          "metadata": {},
          "execution_count": 27
        }
      ]
    },
    {
      "cell_type": "code",
      "metadata": {
        "id": "zH6pAZaIo2ji"
      },
      "source": [
        "# Don't backprop model parameters!\n",
        "for param in cnn_model.parameters():\n",
        "    param.requires_grad = False"
      ],
      "execution_count": 28,
      "outputs": []
    },
    {
      "cell_type": "code",
      "metadata": {
        "pycharm": {
          "name": "#%%\n"
        },
        "id": "lx_EzW66CPL2"
      },
      "source": [
        "#TODO check if this is necessary!\n",
        "\n",
        "# # New classifier\n",
        "# cnn_model.classifier = nn.Sequential(nn.Linear(1024, 512),\n",
        "#                           nn.ReLU(),\n",
        "#                           nn.Dropout(0.2),\n",
        "#                           nn.Linear(512,256),\n",
        "#                           nn.ReLU(),\n",
        "#                           nn.Dropout(0.2),\n",
        "#                           nn.Linear(256,18))\n",
        "\n",
        "# #criterion = nn.NLLLoss()\n",
        "\n",
        "# # Training only the classifier parameters, cnn_model parameters remains unchanged\n",
        "# optimizer = optim.RMSprop(cnn_model.classifier.parameters(), lr=0.004)"
      ],
      "execution_count": 29,
      "outputs": []
    },
    {
      "cell_type": "markdown",
      "metadata": {
        "id": "_-rsI6GL1PX4"
      },
      "source": [
        "## **The integrated CNN Tabular model** "
      ]
    },
    {
      "cell_type": "code",
      "metadata": {
        "pycharm": {
          "name": "#%%\n"
        },
        "id": "UFSamYCSCPL2"
      },
      "source": [
        "img_tabular_model = CNNTabularModel(cnn_model,\n",
        "                                  tabular_model,\n",
        "                                  layers = cnn_tabular_layers,\n",
        "                                  ps=cnn_tabular_dropout_prob,\n",
        "                                  out_sz=cnn_tabular_out_sz).to(device)"
      ],
      "execution_count": 30,
      "outputs": []
    },
    {
      "cell_type": "code",
      "metadata": {
        "pycharm": {
          "name": "#%%\n"
        },
        "colab": {
          "base_uri": "https://localhost:8080/"
        },
        "id": "qt3V1vTtCPL2",
        "outputId": "5eafcf2f-9c13-44b5-fe58-84cc1a683505"
      },
      "source": [
        "img_tabular_model"
      ],
      "execution_count": 31,
      "outputs": [
        {
          "output_type": "execute_result",
          "data": {
            "text/plain": [
              "CNNTabularModel(\n",
              "  (cnn_model): XRV-DenseNet121-densenet121-res224-all\n",
              "  (tabular_model): TabularModel(\n",
              "    (embeds): ModuleList(\n",
              "      (0): Embedding(3, 3)\n",
              "      (1): Embedding(3, 3)\n",
              "    )\n",
              "    (emb_drop): Dropout(p=0.0, inplace=False)\n",
              "    (bn_cont): BatchNorm1d(6, eps=1e-05, momentum=0.1, affine=True, track_running_stats=True)\n",
              "    (layers): Sequential(\n",
              "      (0): Linear(in_features=12, out_features=100, bias=True)\n",
              "      (1): ReLU(inplace=True)\n",
              "      (2): BatchNorm1d(100, eps=1e-05, momentum=0.1, affine=True, track_running_stats=True)\n",
              "      (3): Dropout(p=0.2, inplace=False)\n",
              "      (4): Linear(in_features=100, out_features=200, bias=True)\n",
              "      (5): ReLU(inplace=True)\n",
              "      (6): BatchNorm1d(200, eps=1e-05, momentum=0.1, affine=True, track_running_stats=True)\n",
              "      (7): Dropout(p=0.2, inplace=False)\n",
              "      (8): Linear(in_features=200, out_features=18, bias=True)\n",
              "    )\n",
              "  )\n",
              "  (layers): Sequential(\n",
              "    (0): BatchNorm1d(36, eps=1e-05, momentum=0.1, affine=True, track_running_stats=True)\n",
              "    (1): Dropout(p=0.2, inplace=False)\n",
              "    (2): Linear(in_features=36, out_features=32, bias=True)\n",
              "    (3): ReLU(inplace=True)\n",
              "    (4): BatchNorm1d(32, eps=1e-05, momentum=0.1, affine=True, track_running_stats=True)\n",
              "    (5): Dropout(p=0.2, inplace=False)\n",
              "    (6): Linear(in_features=32, out_features=5, bias=True)\n",
              "  )\n",
              ")"
            ]
          },
          "metadata": {},
          "execution_count": 31
        }
      ]
    },
    {
      "cell_type": "code",
      "metadata": {
        "colab": {
          "base_uri": "https://localhost:8080/"
        },
        "id": "ejwRtdjuF0FI",
        "outputId": "6a0b866b-2bd9-4ca7-f3f7-a9aced7e2501"
      },
      "source": [
        "# check model output dimension, should be (batch_size, 5)\n",
        "img_tabular_model(*x).shape"
      ],
      "execution_count": 32,
      "outputs": [
        {
          "output_type": "execute_result",
          "data": {
            "text/plain": [
              "torch.Size([64, 5])"
            ]
          },
          "metadata": {},
          "execution_count": 32
        }
      ]
    },
    {
      "cell_type": "code",
      "metadata": {
        "id": "JzHfLCzFSEZO"
      },
      "source": [
        "#TODO!! make the weigted loss work. we might need a list with len 5 and not 2\n",
        "\n",
        "# # adjust loss function weight because the dataset is extremely unbalanced\n",
        "# weights = [1/(1-train_df[\"severity_class\"].mean()), 1/train_df[\"severity_class\"].mean()]\n",
        "# loss_func = CrossEntropyFlat(weight=torch.FloatTensor(weights).to(device))\n",
        "loss_func = CrossEntropyFlat()"
      ],
      "execution_count": 33,
      "outputs": []
    },
    {
      "cell_type": "code",
      "metadata": {
        "id": "vvLCCvxugeBc"
      },
      "source": [
        "# def accuracy_multi(preds, targs, thresh=0.5):\n",
        "#     print(f\"preds shape: {preds.shape} \\n{preds}\")\n",
        "#     print(f\"targs shape: {targs.shape} \\n{targs}\")\n",
        "#     return ((preds>thresh)==targs).float().mean()"
      ],
      "execution_count": 34,
      "outputs": []
    },
    {
      "cell_type": "code",
      "metadata": {
        "id": "uTMYDw74IzOo"
      },
      "source": [
        "# learn = Learner(db, img_tabular_model, metrics=[accuracy, ROCAUC()], loss_func=torch.nn.NLLLoss)\n",
        "# learn = Learner(db, img_tabular_model, metrics=[accuracy, ROCAUC()], loss_func=loss_func) # <- TODO check why ROCAUC doesnt work\n",
        "learn = Learner(db, img_tabular_model, metrics=[accuracy], loss_func=loss_func)\n",
        "\n",
        "#TODO! check optimizer"
      ],
      "execution_count": 35,
      "outputs": []
    },
    {
      "cell_type": "code",
      "metadata": {
        "colab": {
          "base_uri": "https://localhost:8080/"
        },
        "id": "ClpkWZ7THqgv",
        "outputId": "7693cb83-7036-4af2-eafb-a7cd5b378d99"
      },
      "source": [
        "learn.model"
      ],
      "execution_count": 36,
      "outputs": [
        {
          "output_type": "execute_result",
          "data": {
            "text/plain": [
              "CNNTabularModel(\n",
              "  (cnn_model): XRV-DenseNet121-densenet121-res224-all\n",
              "  (tabular_model): TabularModel(\n",
              "    (embeds): ModuleList(\n",
              "      (0): Embedding(3, 3)\n",
              "      (1): Embedding(3, 3)\n",
              "    )\n",
              "    (emb_drop): Dropout(p=0.0, inplace=False)\n",
              "    (bn_cont): BatchNorm1d(6, eps=1e-05, momentum=0.1, affine=True, track_running_stats=True)\n",
              "    (layers): Sequential(\n",
              "      (0): Linear(in_features=12, out_features=100, bias=True)\n",
              "      (1): ReLU(inplace=True)\n",
              "      (2): BatchNorm1d(100, eps=1e-05, momentum=0.1, affine=True, track_running_stats=True)\n",
              "      (3): Dropout(p=0.2, inplace=False)\n",
              "      (4): Linear(in_features=100, out_features=200, bias=True)\n",
              "      (5): ReLU(inplace=True)\n",
              "      (6): BatchNorm1d(200, eps=1e-05, momentum=0.1, affine=True, track_running_stats=True)\n",
              "      (7): Dropout(p=0.2, inplace=False)\n",
              "      (8): Linear(in_features=200, out_features=18, bias=True)\n",
              "    )\n",
              "  )\n",
              "  (layers): Sequential(\n",
              "    (0): BatchNorm1d(36, eps=1e-05, momentum=0.1, affine=True, track_running_stats=True)\n",
              "    (1): Dropout(p=0.2, inplace=False)\n",
              "    (2): Linear(in_features=36, out_features=32, bias=True)\n",
              "    (3): ReLU(inplace=True)\n",
              "    (4): BatchNorm1d(32, eps=1e-05, momentum=0.1, affine=True, track_running_stats=True)\n",
              "    (5): Dropout(p=0.2, inplace=False)\n",
              "    (6): Linear(in_features=32, out_features=5, bias=True)\n",
              "  )\n",
              ")"
            ]
          },
          "metadata": {},
          "execution_count": 36
        }
      ]
    },
    {
      "cell_type": "code",
      "metadata": {
        "id": "fS_WdKrX7oLW"
      },
      "source": [
        "#TODO - check if we need this and if so, make this work\n",
        "\n",
        "# # organize layer groups in order to use differential learning rates provided by fastai\n",
        "# # the first two layer groups are earlier layers of resnet\n",
        "# # the last layer group consists of the fully connected layers of cnn model, tabular model,\n",
        "# # and final fully connected layers for the concatenated data\n",
        "# learn.layer_groups = [nn.Sequential(*flatten_model(cnn_model.layer_groups[0])),\n",
        "#                       nn.Sequential(*flatten_model(cnn_model.layer_groups[1])),\n",
        "#                       nn.Sequential(*(flatten_model(cnn_model.layer_groups[2]) +\n",
        "#                                       flatten_model(integrate_model.tabular_model) +\n",
        "#                                       flatten_model(integrate_model.layers)))]"
      ],
      "execution_count": 37,
      "outputs": []
    },
    {
      "cell_type": "markdown",
      "metadata": {
        "id": "QKNAyFNs8N6X"
      },
      "source": [
        "# **Training**"
      ]
    },
    {
      "cell_type": "code",
      "metadata": {
        "id": "ac977UNa8T4U"
      },
      "source": [
        "# TODO currently doesnt work. maybe because we don't have layer groups. check\n",
        "# # find learning rate to train the last layer group first \n",
        "# learn.freeze()\n",
        "# learn.lr_find()\n",
        "# learn.recorder.plot()"
      ],
      "execution_count": 38,
      "outputs": []
    },
    {
      "cell_type": "code",
      "metadata": {
        "colab": {
          "base_uri": "https://localhost:8080/",
          "height": 112
        },
        "id": "eE3TOz1klIRr",
        "outputId": "ad2aa550-0b00-4b7e-ff05-2e09306680b0"
      },
      "source": [
        "# train\n",
        "learn.fit_one_cycle(n_epoch, 1e-4)"
      ],
      "execution_count": 39,
      "outputs": [
        {
          "output_type": "display_data",
          "data": {
            "text/html": [
              "<table border=\"1\" class=\"dataframe\">\n",
              "  <thead>\n",
              "    <tr style=\"text-align: left;\">\n",
              "      <th>epoch</th>\n",
              "      <th>train_loss</th>\n",
              "      <th>valid_loss</th>\n",
              "      <th>accuracy</th>\n",
              "      <th>time</th>\n",
              "    </tr>\n",
              "  </thead>\n",
              "  <tbody>\n",
              "    <tr>\n",
              "      <td>0</td>\n",
              "      <td>nan</td>\n",
              "      <td>nan</td>\n",
              "      <td>0.500000</td>\n",
              "      <td>01:06</td>\n",
              "    </tr>\n",
              "    <tr>\n",
              "      <td>1</td>\n",
              "      <td>nan</td>\n",
              "      <td>nan</td>\n",
              "      <td>0.500000</td>\n",
              "      <td>01:05</td>\n",
              "    </tr>\n",
              "  </tbody>\n",
              "</table>"
            ],
            "text/plain": [
              "<IPython.core.display.HTML object>"
            ]
          },
          "metadata": {}
        }
      ]
    },
    {
      "cell_type": "code",
      "metadata": {
        "id": "RaF5rCmmImyu"
      },
      "source": [
        "# # unfreeze all layer groups to train the entire model using differential learning rates\n",
        "# learn.unfreeze()\n",
        "# learn.fit_one_cycle(n_epoch, slice(1e-6, 1e-4))"
      ],
      "execution_count": 40,
      "outputs": []
    },
    {
      "cell_type": "markdown",
      "metadata": {
        "id": "Pyqwy7XW8jO0"
      },
      "source": [
        "# **Prediction**"
      ]
    },
    {
      "cell_type": "code",
      "metadata": {
        "colab": {
          "base_uri": "https://localhost:8080/",
          "height": 17
        },
        "id": "eKgsvegX8iY6",
        "outputId": "0d61c880-71dd-41c3-bf8a-0f285e473d02"
      },
      "source": [
        "# make predictions for the test set\n",
        "preds, y = learn.get_preds(DatasetType.Test)"
      ],
      "execution_count": 41,
      "outputs": [
        {
          "output_type": "display_data",
          "data": {
            "text/html": [
              ""
            ],
            "text/plain": [
              "<IPython.core.display.HTML object>"
            ]
          },
          "metadata": {}
        }
      ]
    },
    {
      "cell_type": "code",
      "metadata": {
        "colab": {
          "base_uri": "https://localhost:8080/"
        },
        "id": "hCOuQ7LXHrLA",
        "outputId": "d7dc4764-586d-439c-fbb7-a1b3f8e9d4d8"
      },
      "source": [
        "#TODO!! understand why this is all nans\n",
        "preds"
      ],
      "execution_count": 42,
      "outputs": [
        {
          "output_type": "execute_result",
          "data": {
            "text/plain": [
              "tensor([[nan, nan, nan, nan, nan],\n",
              "        [nan, nan, nan, nan, nan],\n",
              "        [nan, nan, nan, nan, nan],\n",
              "        [nan, nan, nan, nan, nan],\n",
              "        [nan, nan, nan, nan, nan],\n",
              "        [nan, nan, nan, nan, nan],\n",
              "        [nan, nan, nan, nan, nan],\n",
              "        [nan, nan, nan, nan, nan],\n",
              "        [nan, nan, nan, nan, nan],\n",
              "        [nan, nan, nan, nan, nan],\n",
              "        [nan, nan, nan, nan, nan],\n",
              "        [nan, nan, nan, nan, nan],\n",
              "        [nan, nan, nan, nan, nan],\n",
              "        [nan, nan, nan, nan, nan],\n",
              "        [nan, nan, nan, nan, nan],\n",
              "        [nan, nan, nan, nan, nan],\n",
              "        [nan, nan, nan, nan, nan],\n",
              "        [nan, nan, nan, nan, nan],\n",
              "        [nan, nan, nan, nan, nan],\n",
              "        [nan, nan, nan, nan, nan],\n",
              "        [nan, nan, nan, nan, nan],\n",
              "        [nan, nan, nan, nan, nan],\n",
              "        [nan, nan, nan, nan, nan],\n",
              "        [nan, nan, nan, nan, nan],\n",
              "        [nan, nan, nan, nan, nan],\n",
              "        [nan, nan, nan, nan, nan],\n",
              "        [nan, nan, nan, nan, nan],\n",
              "        [nan, nan, nan, nan, nan]])"
            ]
          },
          "metadata": {},
          "execution_count": 42
        }
      ]
    },
    {
      "cell_type": "code",
      "metadata": {
        "id": "eEEfkHybUU5d",
        "colab": {
          "base_uri": "https://localhost:8080/"
        },
        "outputId": "d3393b99-d52f-4fbc-db5a-6c0837689511"
      },
      "source": [
        "y"
      ],
      "execution_count": 43,
      "outputs": [
        {
          "output_type": "execute_result",
          "data": {
            "text/plain": [
              "tensor([0, 0, 0, 0, 0, 0, 0, 0, 0, 0, 0, 0, 0, 0, 0, 0, 0, 0, 0, 0, 0, 0, 0, 0,\n",
              "        0, 0, 0, 0])"
            ]
          },
          "metadata": {},
          "execution_count": 43
        }
      ]
    },
    {
      "cell_type": "code",
      "metadata": {
        "id": "gm9UDxiX_pYX"
      },
      "source": [
        ""
      ],
      "execution_count": 43,
      "outputs": []
    },
    {
      "cell_type": "code",
      "metadata": {
        "id": "SdtJrHRIX9UD"
      },
      "source": [
        "# for test_images, test_labels in trainloader:  \n",
        "#     plt.imshow(test_images[0][0])\n",
        "#     break"
      ],
      "execution_count": 44,
      "outputs": []
    }
  ]
}